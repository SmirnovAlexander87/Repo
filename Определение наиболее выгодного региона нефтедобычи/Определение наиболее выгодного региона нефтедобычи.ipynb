{
 "cells": [
  {
   "attachments": {},
   "cell_type": "markdown",
   "metadata": {},
   "source": [
    "# Выбор локации для скважины"
   ]
  },
  {
   "attachments": {},
   "cell_type": "markdown",
   "metadata": {},
   "source": [
    "Нам предоставлены пробы нефти в трёх регионах: в каждом 10 000 месторождений, где измерили качество нефти и объём её запасов. Необходимо построить модель машинного обучения, которая поможет определить регион, где добыча принесёт наибольшую прибыль. Возможную прибыль и риски необходимо проанализировать техникой *Bootstrap.*\n",
    "\n",
    "Шаги для выбора локации:\n",
    "\n",
    "- В избранном регионе ищут месторождения, для каждого определяют значения признаков;\n",
    "- Строят модель и оценивают объём запасов;\n",
    "- Выбирают месторождения с самым высокими оценками значений. Количество месторождений зависит от бюджета компании и стоимости разработки одной скважины;\n",
    "- Прибыль равна суммарной прибыли отобранных месторождений."
   ]
  },
  {
   "attachments": {},
   "cell_type": "markdown",
   "metadata": {},
   "source": [
    "Описание данных\n",
    "Данные геологоразведки трёх регионов находятся в файлах:\n",
    "\n",
    "/datasets/geo_data_0.csv. Скачать датасет\n",
    "\n",
    "/datasets/geo_data_1.csv. Скачать датасет\n",
    "\n",
    "/datasets/geo_data_2.csv. Скачать датасет\n",
    "\n",
    "id — уникальный идентификатор скважины;\n",
    "\n",
    "f0, f1, f2 — три признака точек (неважно, что они означают, но сами признаки значимы);\n",
    "\n",
    "product — объём запасов в скважине (тыс. баррелей)."
   ]
  },
  {
   "attachments": {},
   "cell_type": "markdown",
   "metadata": {},
   "source": [
    "Загрузим необходимые библиотеки."
   ]
  },
  {
   "cell_type": "code",
   "execution_count": 1,
   "metadata": {},
   "outputs": [],
   "source": [
    "import pandas as pd\n",
    "\n",
    "import seaborn as sns\n",
    "from matplotlib import pyplot as plt\n",
    "\n",
    "from sklearn.model_selection import train_test_split\n",
    "\n",
    "from sklearn.linear_model import LinearRegression\n",
    "from sklearn.metrics import mean_squared_error\n",
    "\n",
    "from sklearn.preprocessing import StandardScaler\n",
    "\n",
    "import warnings\n",
    "warnings.filterwarnings(\"ignore\")\n",
    "\n",
    "import numpy as np\n",
    "\n",
    "from scipy import stats as st "
   ]
  },
  {
   "attachments": {},
   "cell_type": "markdown",
   "metadata": {},
   "source": [
    "## Загрузка и подготовка данных"
   ]
  },
  {
   "attachments": {},
   "cell_type": "markdown",
   "metadata": {},
   "source": [
    "Загрузим данные."
   ]
  },
  {
   "cell_type": "code",
   "execution_count": 2,
   "metadata": {},
   "outputs": [],
   "source": [
    "data_zero = pd.read_csv('/Users/alexander/Documents/Python/DataSets/Выбор локации для скважины (8)/geo_data_0.csv')\n",
    "data_one = pd.read_csv('/Users/alexander/Documents/Python/DataSets/Выбор локации для скважины (8)/geo_data_1.csv')\n",
    "data_two = pd.read_csv('/Users/alexander/Documents/Python/DataSets/Выбор локации для скважины (8)/geo_data_2.csv')"
   ]
  },
  {
   "attachments": {},
   "cell_type": "markdown",
   "metadata": {},
   "source": [
    "Изучим загруженные данные."
   ]
  },
  {
   "cell_type": "code",
   "execution_count": 3,
   "metadata": {
    "scrolled": true
   },
   "outputs": [
    {
     "data": {
      "text/html": [
       "<div>\n",
       "<style scoped>\n",
       "    .dataframe tbody tr th:only-of-type {\n",
       "        vertical-align: middle;\n",
       "    }\n",
       "\n",
       "    .dataframe tbody tr th {\n",
       "        vertical-align: top;\n",
       "    }\n",
       "\n",
       "    .dataframe thead th {\n",
       "        text-align: right;\n",
       "    }\n",
       "</style>\n",
       "<table border=\"1\" class=\"dataframe\">\n",
       "  <thead>\n",
       "    <tr style=\"text-align: right;\">\n",
       "      <th></th>\n",
       "      <th>id</th>\n",
       "      <th>f0</th>\n",
       "      <th>f1</th>\n",
       "      <th>f2</th>\n",
       "      <th>product</th>\n",
       "    </tr>\n",
       "  </thead>\n",
       "  <tbody>\n",
       "    <tr>\n",
       "      <th>0</th>\n",
       "      <td>txEyH</td>\n",
       "      <td>0.705745</td>\n",
       "      <td>-0.497823</td>\n",
       "      <td>1.221170</td>\n",
       "      <td>105.280062</td>\n",
       "    </tr>\n",
       "    <tr>\n",
       "      <th>1</th>\n",
       "      <td>2acmU</td>\n",
       "      <td>1.334711</td>\n",
       "      <td>-0.340164</td>\n",
       "      <td>4.365080</td>\n",
       "      <td>73.037750</td>\n",
       "    </tr>\n",
       "    <tr>\n",
       "      <th>2</th>\n",
       "      <td>409Wp</td>\n",
       "      <td>1.022732</td>\n",
       "      <td>0.151990</td>\n",
       "      <td>1.419926</td>\n",
       "      <td>85.265647</td>\n",
       "    </tr>\n",
       "    <tr>\n",
       "      <th>3</th>\n",
       "      <td>iJLyR</td>\n",
       "      <td>-0.032172</td>\n",
       "      <td>0.139033</td>\n",
       "      <td>2.978566</td>\n",
       "      <td>168.620776</td>\n",
       "    </tr>\n",
       "    <tr>\n",
       "      <th>4</th>\n",
       "      <td>Xdl7t</td>\n",
       "      <td>1.988431</td>\n",
       "      <td>0.155413</td>\n",
       "      <td>4.751769</td>\n",
       "      <td>154.036647</td>\n",
       "    </tr>\n",
       "  </tbody>\n",
       "</table>\n",
       "</div>"
      ],
      "text/plain": [
       "      id        f0        f1        f2     product\n",
       "0  txEyH  0.705745 -0.497823  1.221170  105.280062\n",
       "1  2acmU  1.334711 -0.340164  4.365080   73.037750\n",
       "2  409Wp  1.022732  0.151990  1.419926   85.265647\n",
       "3  iJLyR -0.032172  0.139033  2.978566  168.620776\n",
       "4  Xdl7t  1.988431  0.155413  4.751769  154.036647"
      ]
     },
     "execution_count": 3,
     "metadata": {},
     "output_type": "execute_result"
    }
   ],
   "source": [
    "data_zero.head()"
   ]
  },
  {
   "cell_type": "code",
   "execution_count": 4,
   "metadata": {},
   "outputs": [
    {
     "data": {
      "text/html": [
       "<div>\n",
       "<style scoped>\n",
       "    .dataframe tbody tr th:only-of-type {\n",
       "        vertical-align: middle;\n",
       "    }\n",
       "\n",
       "    .dataframe tbody tr th {\n",
       "        vertical-align: top;\n",
       "    }\n",
       "\n",
       "    .dataframe thead th {\n",
       "        text-align: right;\n",
       "    }\n",
       "</style>\n",
       "<table border=\"1\" class=\"dataframe\">\n",
       "  <thead>\n",
       "    <tr style=\"text-align: right;\">\n",
       "      <th></th>\n",
       "      <th>id</th>\n",
       "      <th>f0</th>\n",
       "      <th>f1</th>\n",
       "      <th>f2</th>\n",
       "      <th>product</th>\n",
       "    </tr>\n",
       "  </thead>\n",
       "  <tbody>\n",
       "    <tr>\n",
       "      <th>0</th>\n",
       "      <td>kBEdx</td>\n",
       "      <td>-15.001348</td>\n",
       "      <td>-8.276000</td>\n",
       "      <td>-0.005876</td>\n",
       "      <td>3.179103</td>\n",
       "    </tr>\n",
       "    <tr>\n",
       "      <th>1</th>\n",
       "      <td>62mP7</td>\n",
       "      <td>14.272088</td>\n",
       "      <td>-3.475083</td>\n",
       "      <td>0.999183</td>\n",
       "      <td>26.953261</td>\n",
       "    </tr>\n",
       "    <tr>\n",
       "      <th>2</th>\n",
       "      <td>vyE1P</td>\n",
       "      <td>6.263187</td>\n",
       "      <td>-5.948386</td>\n",
       "      <td>5.001160</td>\n",
       "      <td>134.766305</td>\n",
       "    </tr>\n",
       "    <tr>\n",
       "      <th>3</th>\n",
       "      <td>KcrkZ</td>\n",
       "      <td>-13.081196</td>\n",
       "      <td>-11.506057</td>\n",
       "      <td>4.999415</td>\n",
       "      <td>137.945408</td>\n",
       "    </tr>\n",
       "    <tr>\n",
       "      <th>4</th>\n",
       "      <td>AHL4O</td>\n",
       "      <td>12.702195</td>\n",
       "      <td>-8.147433</td>\n",
       "      <td>5.004363</td>\n",
       "      <td>134.766305</td>\n",
       "    </tr>\n",
       "  </tbody>\n",
       "</table>\n",
       "</div>"
      ],
      "text/plain": [
       "      id         f0         f1        f2     product\n",
       "0  kBEdx -15.001348  -8.276000 -0.005876    3.179103\n",
       "1  62mP7  14.272088  -3.475083  0.999183   26.953261\n",
       "2  vyE1P   6.263187  -5.948386  5.001160  134.766305\n",
       "3  KcrkZ -13.081196 -11.506057  4.999415  137.945408\n",
       "4  AHL4O  12.702195  -8.147433  5.004363  134.766305"
      ]
     },
     "execution_count": 4,
     "metadata": {},
     "output_type": "execute_result"
    }
   ],
   "source": [
    "data_one.head()"
   ]
  },
  {
   "cell_type": "code",
   "execution_count": 5,
   "metadata": {
    "scrolled": true
   },
   "outputs": [
    {
     "data": {
      "text/html": [
       "<div>\n",
       "<style scoped>\n",
       "    .dataframe tbody tr th:only-of-type {\n",
       "        vertical-align: middle;\n",
       "    }\n",
       "\n",
       "    .dataframe tbody tr th {\n",
       "        vertical-align: top;\n",
       "    }\n",
       "\n",
       "    .dataframe thead th {\n",
       "        text-align: right;\n",
       "    }\n",
       "</style>\n",
       "<table border=\"1\" class=\"dataframe\">\n",
       "  <thead>\n",
       "    <tr style=\"text-align: right;\">\n",
       "      <th></th>\n",
       "      <th>id</th>\n",
       "      <th>f0</th>\n",
       "      <th>f1</th>\n",
       "      <th>f2</th>\n",
       "      <th>product</th>\n",
       "    </tr>\n",
       "  </thead>\n",
       "  <tbody>\n",
       "    <tr>\n",
       "      <th>0</th>\n",
       "      <td>fwXo0</td>\n",
       "      <td>-1.146987</td>\n",
       "      <td>0.963328</td>\n",
       "      <td>-0.828965</td>\n",
       "      <td>27.758673</td>\n",
       "    </tr>\n",
       "    <tr>\n",
       "      <th>1</th>\n",
       "      <td>WJtFt</td>\n",
       "      <td>0.262778</td>\n",
       "      <td>0.269839</td>\n",
       "      <td>-2.530187</td>\n",
       "      <td>56.069697</td>\n",
       "    </tr>\n",
       "    <tr>\n",
       "      <th>2</th>\n",
       "      <td>ovLUW</td>\n",
       "      <td>0.194587</td>\n",
       "      <td>0.289035</td>\n",
       "      <td>-5.586433</td>\n",
       "      <td>62.871910</td>\n",
       "    </tr>\n",
       "    <tr>\n",
       "      <th>3</th>\n",
       "      <td>q6cA6</td>\n",
       "      <td>2.236060</td>\n",
       "      <td>-0.553760</td>\n",
       "      <td>0.930038</td>\n",
       "      <td>114.572842</td>\n",
       "    </tr>\n",
       "    <tr>\n",
       "      <th>4</th>\n",
       "      <td>WPMUX</td>\n",
       "      <td>-0.515993</td>\n",
       "      <td>1.716266</td>\n",
       "      <td>5.899011</td>\n",
       "      <td>149.600746</td>\n",
       "    </tr>\n",
       "  </tbody>\n",
       "</table>\n",
       "</div>"
      ],
      "text/plain": [
       "      id        f0        f1        f2     product\n",
       "0  fwXo0 -1.146987  0.963328 -0.828965   27.758673\n",
       "1  WJtFt  0.262778  0.269839 -2.530187   56.069697\n",
       "2  ovLUW  0.194587  0.289035 -5.586433   62.871910\n",
       "3  q6cA6  2.236060 -0.553760  0.930038  114.572842\n",
       "4  WPMUX -0.515993  1.716266  5.899011  149.600746"
      ]
     },
     "execution_count": 5,
     "metadata": {},
     "output_type": "execute_result"
    }
   ],
   "source": [
    "data_two.head()"
   ]
  },
  {
   "cell_type": "code",
   "execution_count": 6,
   "metadata": {},
   "outputs": [
    {
     "name": "stdout",
     "output_type": "stream",
     "text": [
      "<class 'pandas.core.frame.DataFrame'>\n",
      "RangeIndex: 100000 entries, 0 to 99999\n",
      "Data columns (total 5 columns):\n",
      " #   Column   Non-Null Count   Dtype  \n",
      "---  ------   --------------   -----  \n",
      " 0   id       100000 non-null  object \n",
      " 1   f0       100000 non-null  float64\n",
      " 2   f1       100000 non-null  float64\n",
      " 3   f2       100000 non-null  float64\n",
      " 4   product  100000 non-null  float64\n",
      "dtypes: float64(4), object(1)\n",
      "memory usage: 3.8+ MB\n"
     ]
    }
   ],
   "source": [
    "data_zero.info()"
   ]
  },
  {
   "cell_type": "code",
   "execution_count": 7,
   "metadata": {},
   "outputs": [
    {
     "name": "stdout",
     "output_type": "stream",
     "text": [
      "<class 'pandas.core.frame.DataFrame'>\n",
      "RangeIndex: 100000 entries, 0 to 99999\n",
      "Data columns (total 5 columns):\n",
      " #   Column   Non-Null Count   Dtype  \n",
      "---  ------   --------------   -----  \n",
      " 0   id       100000 non-null  object \n",
      " 1   f0       100000 non-null  float64\n",
      " 2   f1       100000 non-null  float64\n",
      " 3   f2       100000 non-null  float64\n",
      " 4   product  100000 non-null  float64\n",
      "dtypes: float64(4), object(1)\n",
      "memory usage: 3.8+ MB\n"
     ]
    }
   ],
   "source": [
    "data_one.info()"
   ]
  },
  {
   "cell_type": "code",
   "execution_count": 8,
   "metadata": {},
   "outputs": [
    {
     "name": "stdout",
     "output_type": "stream",
     "text": [
      "<class 'pandas.core.frame.DataFrame'>\n",
      "RangeIndex: 100000 entries, 0 to 99999\n",
      "Data columns (total 5 columns):\n",
      " #   Column   Non-Null Count   Dtype  \n",
      "---  ------   --------------   -----  \n",
      " 0   id       100000 non-null  object \n",
      " 1   f0       100000 non-null  float64\n",
      " 2   f1       100000 non-null  float64\n",
      " 3   f2       100000 non-null  float64\n",
      " 4   product  100000 non-null  float64\n",
      "dtypes: float64(4), object(1)\n",
      "memory usage: 3.8+ MB\n"
     ]
    }
   ],
   "source": [
    "data_two.info()"
   ]
  },
  {
   "attachments": {},
   "cell_type": "markdown",
   "metadata": {},
   "source": [
    "3 набора данных имеют равную величину и не имеют пропусков.\n",
    "\n",
    "Проверим на дубликаты."
   ]
  },
  {
   "cell_type": "code",
   "execution_count": 9,
   "metadata": {},
   "outputs": [
    {
     "name": "stdout",
     "output_type": "stream",
     "text": [
      "Количество дубликатов в Таблице 0: 0\n",
      "Количество дубликатов в Таблице 1: 0\n",
      "Количество дубликатов в Таблице 2: 0\n"
     ]
    }
   ],
   "source": [
    "print('Количество дубликатов в Таблице 0:', data_zero.duplicated().sum())\n",
    "print('Количество дубликатов в Таблице 1:', data_one.duplicated().sum())\n",
    "print('Количество дубликатов в Таблице 2:', data_two.duplicated().sum())"
   ]
  },
  {
   "attachments": {},
   "cell_type": "markdown",
   "metadata": {},
   "source": [
    "Дубликатов нет."
   ]
  },
  {
   "attachments": {},
   "cell_type": "markdown",
   "metadata": {},
   "source": [
    "## Изучим данные"
   ]
  },
  {
   "cell_type": "code",
   "execution_count": 10,
   "metadata": {},
   "outputs": [
    {
     "data": {
      "text/html": [
       "<div>\n",
       "<style scoped>\n",
       "    .dataframe tbody tr th:only-of-type {\n",
       "        vertical-align: middle;\n",
       "    }\n",
       "\n",
       "    .dataframe tbody tr th {\n",
       "        vertical-align: top;\n",
       "    }\n",
       "\n",
       "    .dataframe thead th {\n",
       "        text-align: right;\n",
       "    }\n",
       "</style>\n",
       "<table border=\"1\" class=\"dataframe\">\n",
       "  <thead>\n",
       "    <tr style=\"text-align: right;\">\n",
       "      <th></th>\n",
       "      <th>f0</th>\n",
       "      <th>f1</th>\n",
       "      <th>f2</th>\n",
       "      <th>product</th>\n",
       "    </tr>\n",
       "  </thead>\n",
       "  <tbody>\n",
       "    <tr>\n",
       "      <th>count</th>\n",
       "      <td>100000.000000</td>\n",
       "      <td>100000.000000</td>\n",
       "      <td>100000.000000</td>\n",
       "      <td>100000.000000</td>\n",
       "    </tr>\n",
       "    <tr>\n",
       "      <th>mean</th>\n",
       "      <td>0.500419</td>\n",
       "      <td>0.250143</td>\n",
       "      <td>2.502647</td>\n",
       "      <td>92.500000</td>\n",
       "    </tr>\n",
       "    <tr>\n",
       "      <th>std</th>\n",
       "      <td>0.871832</td>\n",
       "      <td>0.504433</td>\n",
       "      <td>3.248248</td>\n",
       "      <td>44.288691</td>\n",
       "    </tr>\n",
       "    <tr>\n",
       "      <th>min</th>\n",
       "      <td>-1.408605</td>\n",
       "      <td>-0.848218</td>\n",
       "      <td>-12.088328</td>\n",
       "      <td>0.000000</td>\n",
       "    </tr>\n",
       "    <tr>\n",
       "      <th>25%</th>\n",
       "      <td>-0.072580</td>\n",
       "      <td>-0.200881</td>\n",
       "      <td>0.287748</td>\n",
       "      <td>56.497507</td>\n",
       "    </tr>\n",
       "    <tr>\n",
       "      <th>50%</th>\n",
       "      <td>0.502360</td>\n",
       "      <td>0.250252</td>\n",
       "      <td>2.515969</td>\n",
       "      <td>91.849972</td>\n",
       "    </tr>\n",
       "    <tr>\n",
       "      <th>75%</th>\n",
       "      <td>1.073581</td>\n",
       "      <td>0.700646</td>\n",
       "      <td>4.715088</td>\n",
       "      <td>128.564089</td>\n",
       "    </tr>\n",
       "    <tr>\n",
       "      <th>max</th>\n",
       "      <td>2.362331</td>\n",
       "      <td>1.343769</td>\n",
       "      <td>16.003790</td>\n",
       "      <td>185.364347</td>\n",
       "    </tr>\n",
       "  </tbody>\n",
       "</table>\n",
       "</div>"
      ],
      "text/plain": [
       "                  f0             f1             f2        product\n",
       "count  100000.000000  100000.000000  100000.000000  100000.000000\n",
       "mean        0.500419       0.250143       2.502647      92.500000\n",
       "std         0.871832       0.504433       3.248248      44.288691\n",
       "min        -1.408605      -0.848218     -12.088328       0.000000\n",
       "25%        -0.072580      -0.200881       0.287748      56.497507\n",
       "50%         0.502360       0.250252       2.515969      91.849972\n",
       "75%         1.073581       0.700646       4.715088     128.564089\n",
       "max         2.362331       1.343769      16.003790     185.364347"
      ]
     },
     "execution_count": 10,
     "metadata": {},
     "output_type": "execute_result"
    }
   ],
   "source": [
    "data_zero.describe()"
   ]
  },
  {
   "cell_type": "code",
   "execution_count": 11,
   "metadata": {},
   "outputs": [
    {
     "data": {
      "text/html": [
       "<div>\n",
       "<style scoped>\n",
       "    .dataframe tbody tr th:only-of-type {\n",
       "        vertical-align: middle;\n",
       "    }\n",
       "\n",
       "    .dataframe tbody tr th {\n",
       "        vertical-align: top;\n",
       "    }\n",
       "\n",
       "    .dataframe thead th {\n",
       "        text-align: right;\n",
       "    }\n",
       "</style>\n",
       "<table border=\"1\" class=\"dataframe\">\n",
       "  <thead>\n",
       "    <tr style=\"text-align: right;\">\n",
       "      <th></th>\n",
       "      <th>f0</th>\n",
       "      <th>f1</th>\n",
       "      <th>f2</th>\n",
       "      <th>product</th>\n",
       "    </tr>\n",
       "  </thead>\n",
       "  <tbody>\n",
       "    <tr>\n",
       "      <th>count</th>\n",
       "      <td>100000.000000</td>\n",
       "      <td>100000.000000</td>\n",
       "      <td>100000.000000</td>\n",
       "      <td>100000.000000</td>\n",
       "    </tr>\n",
       "    <tr>\n",
       "      <th>mean</th>\n",
       "      <td>1.141296</td>\n",
       "      <td>-4.796579</td>\n",
       "      <td>2.494541</td>\n",
       "      <td>68.825000</td>\n",
       "    </tr>\n",
       "    <tr>\n",
       "      <th>std</th>\n",
       "      <td>8.965932</td>\n",
       "      <td>5.119872</td>\n",
       "      <td>1.703572</td>\n",
       "      <td>45.944423</td>\n",
       "    </tr>\n",
       "    <tr>\n",
       "      <th>min</th>\n",
       "      <td>-31.609576</td>\n",
       "      <td>-26.358598</td>\n",
       "      <td>-0.018144</td>\n",
       "      <td>0.000000</td>\n",
       "    </tr>\n",
       "    <tr>\n",
       "      <th>25%</th>\n",
       "      <td>-6.298551</td>\n",
       "      <td>-8.267985</td>\n",
       "      <td>1.000021</td>\n",
       "      <td>26.953261</td>\n",
       "    </tr>\n",
       "    <tr>\n",
       "      <th>50%</th>\n",
       "      <td>1.153055</td>\n",
       "      <td>-4.813172</td>\n",
       "      <td>2.011479</td>\n",
       "      <td>57.085625</td>\n",
       "    </tr>\n",
       "    <tr>\n",
       "      <th>75%</th>\n",
       "      <td>8.621015</td>\n",
       "      <td>-1.332816</td>\n",
       "      <td>3.999904</td>\n",
       "      <td>107.813044</td>\n",
       "    </tr>\n",
       "    <tr>\n",
       "      <th>max</th>\n",
       "      <td>29.421755</td>\n",
       "      <td>18.734063</td>\n",
       "      <td>5.019721</td>\n",
       "      <td>137.945408</td>\n",
       "    </tr>\n",
       "  </tbody>\n",
       "</table>\n",
       "</div>"
      ],
      "text/plain": [
       "                  f0             f1             f2        product\n",
       "count  100000.000000  100000.000000  100000.000000  100000.000000\n",
       "mean        1.141296      -4.796579       2.494541      68.825000\n",
       "std         8.965932       5.119872       1.703572      45.944423\n",
       "min       -31.609576     -26.358598      -0.018144       0.000000\n",
       "25%        -6.298551      -8.267985       1.000021      26.953261\n",
       "50%         1.153055      -4.813172       2.011479      57.085625\n",
       "75%         8.621015      -1.332816       3.999904     107.813044\n",
       "max        29.421755      18.734063       5.019721     137.945408"
      ]
     },
     "execution_count": 11,
     "metadata": {},
     "output_type": "execute_result"
    }
   ],
   "source": [
    "data_one.describe()"
   ]
  },
  {
   "cell_type": "code",
   "execution_count": 12,
   "metadata": {},
   "outputs": [
    {
     "data": {
      "text/html": [
       "<div>\n",
       "<style scoped>\n",
       "    .dataframe tbody tr th:only-of-type {\n",
       "        vertical-align: middle;\n",
       "    }\n",
       "\n",
       "    .dataframe tbody tr th {\n",
       "        vertical-align: top;\n",
       "    }\n",
       "\n",
       "    .dataframe thead th {\n",
       "        text-align: right;\n",
       "    }\n",
       "</style>\n",
       "<table border=\"1\" class=\"dataframe\">\n",
       "  <thead>\n",
       "    <tr style=\"text-align: right;\">\n",
       "      <th></th>\n",
       "      <th>f0</th>\n",
       "      <th>f1</th>\n",
       "      <th>f2</th>\n",
       "      <th>product</th>\n",
       "    </tr>\n",
       "  </thead>\n",
       "  <tbody>\n",
       "    <tr>\n",
       "      <th>count</th>\n",
       "      <td>100000.000000</td>\n",
       "      <td>100000.000000</td>\n",
       "      <td>100000.000000</td>\n",
       "      <td>100000.000000</td>\n",
       "    </tr>\n",
       "    <tr>\n",
       "      <th>mean</th>\n",
       "      <td>0.002023</td>\n",
       "      <td>-0.002081</td>\n",
       "      <td>2.495128</td>\n",
       "      <td>95.000000</td>\n",
       "    </tr>\n",
       "    <tr>\n",
       "      <th>std</th>\n",
       "      <td>1.732045</td>\n",
       "      <td>1.730417</td>\n",
       "      <td>3.473445</td>\n",
       "      <td>44.749921</td>\n",
       "    </tr>\n",
       "    <tr>\n",
       "      <th>min</th>\n",
       "      <td>-8.760004</td>\n",
       "      <td>-7.084020</td>\n",
       "      <td>-11.970335</td>\n",
       "      <td>0.000000</td>\n",
       "    </tr>\n",
       "    <tr>\n",
       "      <th>25%</th>\n",
       "      <td>-1.162288</td>\n",
       "      <td>-1.174820</td>\n",
       "      <td>0.130359</td>\n",
       "      <td>59.450441</td>\n",
       "    </tr>\n",
       "    <tr>\n",
       "      <th>50%</th>\n",
       "      <td>0.009424</td>\n",
       "      <td>-0.009482</td>\n",
       "      <td>2.484236</td>\n",
       "      <td>94.925613</td>\n",
       "    </tr>\n",
       "    <tr>\n",
       "      <th>75%</th>\n",
       "      <td>1.158535</td>\n",
       "      <td>1.163678</td>\n",
       "      <td>4.858794</td>\n",
       "      <td>130.595027</td>\n",
       "    </tr>\n",
       "    <tr>\n",
       "      <th>max</th>\n",
       "      <td>7.238262</td>\n",
       "      <td>7.844801</td>\n",
       "      <td>16.739402</td>\n",
       "      <td>190.029838</td>\n",
       "    </tr>\n",
       "  </tbody>\n",
       "</table>\n",
       "</div>"
      ],
      "text/plain": [
       "                  f0             f1             f2        product\n",
       "count  100000.000000  100000.000000  100000.000000  100000.000000\n",
       "mean        0.002023      -0.002081       2.495128      95.000000\n",
       "std         1.732045       1.730417       3.473445      44.749921\n",
       "min        -8.760004      -7.084020     -11.970335       0.000000\n",
       "25%        -1.162288      -1.174820       0.130359      59.450441\n",
       "50%         0.009424      -0.009482       2.484236      94.925613\n",
       "75%         1.158535       1.163678       4.858794     130.595027\n",
       "max         7.238262       7.844801      16.739402     190.029838"
      ]
     },
     "execution_count": 12,
     "metadata": {},
     "output_type": "execute_result"
    }
   ],
   "source": [
    "data_two.describe()"
   ]
  },
  {
   "cell_type": "code",
   "execution_count": 13,
   "metadata": {},
   "outputs": [
    {
     "data": {
      "image/png": "[encoded data removed]",
      "text/plain": [
       "<Figure size 1800x800 with 4 Axes>"
      ]
     },
     "metadata": {},
     "output_type": "display_data"
    }
   ],
   "source": [
    "# 4 subplots in one row\n",
    "fig, ax = plt.subplots(1, 4, figsize=(18, 8))\n",
    "\n",
    "# draw boxplots - for one column in each subplot\n",
    "data_zero.boxplot('f0', ax=ax[0], color = 'red', fontsize = 12)\n",
    "data_zero.boxplot('f1', ax=ax[1], color = 'blue', fontsize = 12)\n",
    "data_zero.boxplot('f2', ax=ax[2], color = 'green', fontsize = 12)\n",
    "data_zero.boxplot('product', ax=ax[3], color = 'orange', fontsize = 12)\n",
    "\n",
    "plt.subplots_adjust(wspace=0.5) \n",
    "\n",
    "plt.show()"
   ]
  },
  {
   "cell_type": "code",
   "execution_count": 14,
   "metadata": {},
   "outputs": [
    {
     "data": {
      "image/png": "[encoded data removed]",
      "text/plain": [
       "<Figure size 1800x800 with 4 Axes>"
      ]
     },
     "metadata": {},
     "output_type": "display_data"
    }
   ],
   "source": [
    "# 4 subplots in one row\n",
    "fig, ax = plt.subplots(1, 4, figsize=(18, 8))\n",
    "\n",
    "# draw boxplots - for one column in each subplot\n",
    "data_one.boxplot('f0', ax=ax[0], color = 'red', fontsize = 12)\n",
    "data_one.boxplot('f1', ax=ax[1], color = 'blue', fontsize = 12)\n",
    "data_one.boxplot('f2', ax=ax[2], color = 'green', fontsize = 12)\n",
    "data_one.boxplot('product', ax=ax[3], color = 'orange', fontsize = 12)\n",
    "\n",
    "plt.subplots_adjust(wspace=0.5) \n",
    "\n",
    "plt.show()"
   ]
  },
  {
   "cell_type": "code",
   "execution_count": 15,
   "metadata": {},
   "outputs": [
    {
     "data": {
      "image/png": "[encoded data removed]",
      "text/plain": [
       "<Figure size 1800x800 with 4 Axes>"
      ]
     },
     "metadata": {},
     "output_type": "display_data"
    }
   ],
   "source": [
    "# 4 subplots in one row\n",
    "fig, ax = plt.subplots(1, 4, figsize=(18, 8))\n",
    "\n",
    "# draw boxplots - for one column in each subplot\n",
    "data_two.boxplot('f0', ax=ax[0], color = 'red', fontsize = 12)\n",
    "data_two.boxplot('f1', ax=ax[1], color = 'blue', fontsize = 12)\n",
    "data_two.boxplot('f2', ax=ax[2], color = 'green', fontsize = 12)\n",
    "data_two.boxplot('product', ax=ax[3], color = 'orange', fontsize = 12)\n",
    "\n",
    "plt.subplots_adjust(wspace=0.5) \n",
    "\n",
    "plt.show()"
   ]
  },
  {
   "attachments": {},
   "cell_type": "markdown",
   "metadata": {},
   "source": [
    "В стобцах:\n",
    "\n",
    "1. data_zero.boxplot('f2')\n",
    "2. data_one.boxplot('f1')\n",
    "3. data_two.boxplot('f0')\n",
    "4. data_two.boxplot('f1')\n",
    "5. data_two.boxplot('f2')\n",
    "\n",
    "Имеются выбросы, которые могут помешать обучению моделю, найдем их количество, чтобы понять от какого потенциально объма данных придется избваиться.\n",
    "\n",
    "Изучим от какого объема данных потребуется избавится."
   ]
  },
  {
   "attachments": {},
   "cell_type": "markdown",
   "metadata": {},
   "source": [
    "## Очистка данных от выбросов"
   ]
  },
  {
   "cell_type": "code",
   "execution_count": 16,
   "metadata": {},
   "outputs": [],
   "source": [
    "def outlier_filter(df, column):\n",
    "    Q1 = df[column].quantile(0.25)\n",
    "    Q3 = df[column].quantile(0.75)\n",
    "    IQR = Q3 - Q1     \n",
    "    botom_line = Q1 - 1.5 * IQR\n",
    "    upper_bound = Q3 + 1.5 *IQR\n",
    "    del_values = []\n",
    "    for i in df[column]:\n",
    "        if i <= botom_line or i >= upper_bound:\n",
    "            del_values.append(i)\n",
    "    #print(get_variable_name_value(df)[0])\n",
    "    print('Количество строк к удалению:', len(del_values))        \n",
    "    print('Доля строк к исходнуму dataset:', len(del_values)/len(df[column])*100,'%')    \n"
   ]
  },
  {
   "cell_type": "code",
   "execution_count": 17,
   "metadata": {
    "scrolled": true
   },
   "outputs": [
    {
     "name": "stdout",
     "output_type": "stream",
     "text": [
      "Количество строк к удалению: 506\n",
      "Доля строк к исходнуму dataset: 0.506 %\n",
      "Количество строк к удалению: 636\n",
      "Доля строк к исходнуму dataset: 0.636 %\n",
      "Количество строк к удалению: 733\n",
      "Доля строк к исходнуму dataset: 0.733 %\n",
      "Количество строк к удалению: 684\n",
      "Доля строк к исходнуму dataset: 0.6839999999999999 %\n",
      "Количество строк к удалению: 584\n",
      "Доля строк к исходнуму dataset: 0.584 %\n"
     ]
    }
   ],
   "source": [
    "outlier_filter(data_zero, 'f2')\n",
    "outlier_filter(data_one,'f1')\n",
    "outlier_filter(data_two, 'f0')\n",
    "outlier_filter(data_two, 'f1')\n",
    "outlier_filter(data_two, 'f2')"
   ]
  },
  {
   "attachments": {},
   "cell_type": "markdown",
   "metadata": {},
   "source": [
    "Конечно для data_two получается более 2000 строк (более 2%) к удалению, но возможно там есть и дубюликаты, проверим их позже.\n",
    "\n",
    "Напишем формулу для поиска индексов строк которые требуется удалить."
   ]
  },
  {
   "cell_type": "code",
   "execution_count": 18,
   "metadata": {},
   "outputs": [],
   "source": [
    "def indexes_to_drop_outlier_filter(df, column):\n",
    "    Q1 = df[column].quantile(0.25)\n",
    "    Q3 = df[column].quantile(0.75)\n",
    "    IQR = Q3 - Q1     \n",
    "    botom_line = Q1 - 1.5 * IQR\n",
    "    upper_bound = Q3 + 1.5 *IQR\n",
    "    indexes_to_drop = []\n",
    "    for index, value in enumerate(df[column]):\n",
    "        if value <= botom_line or value >= upper_bound:\n",
    "            indexes_to_drop.append(index)\n",
    "    \n",
    "    return indexes_to_drop"
   ]
  },
  {
   "attachments": {},
   "cell_type": "markdown",
   "metadata": {},
   "source": [
    "Применим функцию."
   ]
  },
  {
   "cell_type": "code",
   "execution_count": 19,
   "metadata": {},
   "outputs": [
    {
     "name": "stdout",
     "output_type": "stream",
     "text": [
      "Количество отсавшихся строк: 99494\n"
     ]
    }
   ],
   "source": [
    "indexes_to_drop_data_zero = indexes_to_drop_outlier_filter(data_zero, 'f2')\n",
    "\n",
    "data_zero_drop_outlier = data_zero.drop(indexes_to_drop_data_zero)\n",
    "\n",
    "print('Количество отсавшихся строк:', len(data_zero_drop_outlier))"
   ]
  },
  {
   "cell_type": "code",
   "execution_count": 20,
   "metadata": {
    "scrolled": true
   },
   "outputs": [
    {
     "name": "stdout",
     "output_type": "stream",
     "text": [
      "Количество отсавшихся строк: 99364\n"
     ]
    }
   ],
   "source": [
    "indexes_to_drop_data_one = indexes_to_drop_outlier_filter(data_one, 'f1')\n",
    "\n",
    "data_one_drop_outlier = data_one.drop(indexes_to_drop_data_one)\n",
    "\n",
    "print('Количество отсавшихся строк:', len(data_one_drop_outlier))"
   ]
  },
  {
   "cell_type": "code",
   "execution_count": 21,
   "metadata": {},
   "outputs": [
    {
     "name": "stdout",
     "output_type": "stream",
     "text": [
      "Количество строк к удалению до поиска дубликатов: 2001\n",
      "\n",
      "Количество строк к удалению после удаления дубликатов: 1996\n",
      "\n",
      "Количество отсавшихся строк: 98004\n"
     ]
    }
   ],
   "source": [
    "#создадим листы со списком индексов по всей таблице\n",
    "indexes_to_drop_data_two_f0 = indexes_to_drop_outlier_filter(data_two, 'f0')\n",
    "indexes_to_drop_data_two_f1 = indexes_to_drop_outlier_filter(data_two, 'f1')\n",
    "indexes_to_drop_data_two_f2 = indexes_to_drop_outlier_filter(data_two, 'f2')\n",
    "\n",
    "#объеденим листы\n",
    "indexes_to_drop_data_two = indexes_to_drop_data_two_f0 + indexes_to_drop_data_two_f1 + indexes_to_drop_data_two_f2\n",
    "\n",
    "print('Количество строк к удалению до поиска дубликатов:', len(indexes_to_drop_data_two))\n",
    "print()\n",
    "\n",
    "#удалим дубликаты\n",
    "indexes_to_drop_data_two = [*set(indexes_to_drop_data_two)] # такой способ удаления дибликатов в листе нашел\n",
    "\n",
    "print('Количество строк к удалению после удаления дубликатов:', len(indexes_to_drop_data_two))\n",
    "print()\n",
    "\n",
    "#удалим выбивающиеся данные\n",
    "data_two_drop_outlier = data_two.drop(indexes_to_drop_data_two)\n",
    "\n",
    "print('Количество отсавшихся строк:', len(data_two_drop_outlier))"
   ]
  },
  {
   "attachments": {},
   "cell_type": "markdown",
   "metadata": {},
   "source": [
    "Поправим индексы обработанных данных."
   ]
  },
  {
   "cell_type": "code",
   "execution_count": 22,
   "metadata": {
    "scrolled": true
   },
   "outputs": [
    {
     "data": {
      "text/html": [
       "<div>\n",
       "<style scoped>\n",
       "    .dataframe tbody tr th:only-of-type {\n",
       "        vertical-align: middle;\n",
       "    }\n",
       "\n",
       "    .dataframe tbody tr th {\n",
       "        vertical-align: top;\n",
       "    }\n",
       "\n",
       "    .dataframe thead th {\n",
       "        text-align: right;\n",
       "    }\n",
       "</style>\n",
       "<table border=\"1\" class=\"dataframe\">\n",
       "  <thead>\n",
       "    <tr style=\"text-align: right;\">\n",
       "      <th></th>\n",
       "      <th>id</th>\n",
       "      <th>f0</th>\n",
       "      <th>f1</th>\n",
       "      <th>f2</th>\n",
       "      <th>product</th>\n",
       "    </tr>\n",
       "  </thead>\n",
       "  <tbody>\n",
       "    <tr>\n",
       "      <th>0</th>\n",
       "      <td>txEyH</td>\n",
       "      <td>0.705745</td>\n",
       "      <td>-0.497823</td>\n",
       "      <td>1.221170</td>\n",
       "      <td>105.280062</td>\n",
       "    </tr>\n",
       "    <tr>\n",
       "      <th>1</th>\n",
       "      <td>2acmU</td>\n",
       "      <td>1.334711</td>\n",
       "      <td>-0.340164</td>\n",
       "      <td>4.365080</td>\n",
       "      <td>73.037750</td>\n",
       "    </tr>\n",
       "    <tr>\n",
       "      <th>2</th>\n",
       "      <td>409Wp</td>\n",
       "      <td>1.022732</td>\n",
       "      <td>0.151990</td>\n",
       "      <td>1.419926</td>\n",
       "      <td>85.265647</td>\n",
       "    </tr>\n",
       "    <tr>\n",
       "      <th>3</th>\n",
       "      <td>iJLyR</td>\n",
       "      <td>-0.032172</td>\n",
       "      <td>0.139033</td>\n",
       "      <td>2.978566</td>\n",
       "      <td>168.620776</td>\n",
       "    </tr>\n",
       "    <tr>\n",
       "      <th>4</th>\n",
       "      <td>Xdl7t</td>\n",
       "      <td>1.988431</td>\n",
       "      <td>0.155413</td>\n",
       "      <td>4.751769</td>\n",
       "      <td>154.036647</td>\n",
       "    </tr>\n",
       "  </tbody>\n",
       "</table>\n",
       "</div>"
      ],
      "text/plain": [
       "      id        f0        f1        f2     product\n",
       "0  txEyH  0.705745 -0.497823  1.221170  105.280062\n",
       "1  2acmU  1.334711 -0.340164  4.365080   73.037750\n",
       "2  409Wp  1.022732  0.151990  1.419926   85.265647\n",
       "3  iJLyR -0.032172  0.139033  2.978566  168.620776\n",
       "4  Xdl7t  1.988431  0.155413  4.751769  154.036647"
      ]
     },
     "metadata": {},
     "output_type": "display_data"
    },
    {
     "data": {
      "text/html": [
       "<div>\n",
       "<style scoped>\n",
       "    .dataframe tbody tr th:only-of-type {\n",
       "        vertical-align: middle;\n",
       "    }\n",
       "\n",
       "    .dataframe tbody tr th {\n",
       "        vertical-align: top;\n",
       "    }\n",
       "\n",
       "    .dataframe thead th {\n",
       "        text-align: right;\n",
       "    }\n",
       "</style>\n",
       "<table border=\"1\" class=\"dataframe\">\n",
       "  <thead>\n",
       "    <tr style=\"text-align: right;\">\n",
       "      <th></th>\n",
       "      <th>id</th>\n",
       "      <th>f0</th>\n",
       "      <th>f1</th>\n",
       "      <th>f2</th>\n",
       "      <th>product</th>\n",
       "    </tr>\n",
       "  </thead>\n",
       "  <tbody>\n",
       "    <tr>\n",
       "      <th>0</th>\n",
       "      <td>kBEdx</td>\n",
       "      <td>-15.001348</td>\n",
       "      <td>-8.276000</td>\n",
       "      <td>-0.005876</td>\n",
       "      <td>3.179103</td>\n",
       "    </tr>\n",
       "    <tr>\n",
       "      <th>1</th>\n",
       "      <td>62mP7</td>\n",
       "      <td>14.272088</td>\n",
       "      <td>-3.475083</td>\n",
       "      <td>0.999183</td>\n",
       "      <td>26.953261</td>\n",
       "    </tr>\n",
       "    <tr>\n",
       "      <th>2</th>\n",
       "      <td>vyE1P</td>\n",
       "      <td>6.263187</td>\n",
       "      <td>-5.948386</td>\n",
       "      <td>5.001160</td>\n",
       "      <td>134.766305</td>\n",
       "    </tr>\n",
       "    <tr>\n",
       "      <th>3</th>\n",
       "      <td>KcrkZ</td>\n",
       "      <td>-13.081196</td>\n",
       "      <td>-11.506057</td>\n",
       "      <td>4.999415</td>\n",
       "      <td>137.945408</td>\n",
       "    </tr>\n",
       "    <tr>\n",
       "      <th>4</th>\n",
       "      <td>AHL4O</td>\n",
       "      <td>12.702195</td>\n",
       "      <td>-8.147433</td>\n",
       "      <td>5.004363</td>\n",
       "      <td>134.766305</td>\n",
       "    </tr>\n",
       "  </tbody>\n",
       "</table>\n",
       "</div>"
      ],
      "text/plain": [
       "      id         f0         f1        f2     product\n",
       "0  kBEdx -15.001348  -8.276000 -0.005876    3.179103\n",
       "1  62mP7  14.272088  -3.475083  0.999183   26.953261\n",
       "2  vyE1P   6.263187  -5.948386  5.001160  134.766305\n",
       "3  KcrkZ -13.081196 -11.506057  4.999415  137.945408\n",
       "4  AHL4O  12.702195  -8.147433  5.004363  134.766305"
      ]
     },
     "metadata": {},
     "output_type": "display_data"
    },
    {
     "data": {
      "text/html": [
       "<div>\n",
       "<style scoped>\n",
       "    .dataframe tbody tr th:only-of-type {\n",
       "        vertical-align: middle;\n",
       "    }\n",
       "\n",
       "    .dataframe tbody tr th {\n",
       "        vertical-align: top;\n",
       "    }\n",
       "\n",
       "    .dataframe thead th {\n",
       "        text-align: right;\n",
       "    }\n",
       "</style>\n",
       "<table border=\"1\" class=\"dataframe\">\n",
       "  <thead>\n",
       "    <tr style=\"text-align: right;\">\n",
       "      <th></th>\n",
       "      <th>id</th>\n",
       "      <th>f0</th>\n",
       "      <th>f1</th>\n",
       "      <th>f2</th>\n",
       "      <th>product</th>\n",
       "    </tr>\n",
       "  </thead>\n",
       "  <tbody>\n",
       "    <tr>\n",
       "      <th>0</th>\n",
       "      <td>fwXo0</td>\n",
       "      <td>-1.146987</td>\n",
       "      <td>0.963328</td>\n",
       "      <td>-0.828965</td>\n",
       "      <td>27.758673</td>\n",
       "    </tr>\n",
       "    <tr>\n",
       "      <th>1</th>\n",
       "      <td>WJtFt</td>\n",
       "      <td>0.262778</td>\n",
       "      <td>0.269839</td>\n",
       "      <td>-2.530187</td>\n",
       "      <td>56.069697</td>\n",
       "    </tr>\n",
       "    <tr>\n",
       "      <th>2</th>\n",
       "      <td>ovLUW</td>\n",
       "      <td>0.194587</td>\n",
       "      <td>0.289035</td>\n",
       "      <td>-5.586433</td>\n",
       "      <td>62.871910</td>\n",
       "    </tr>\n",
       "    <tr>\n",
       "      <th>3</th>\n",
       "      <td>q6cA6</td>\n",
       "      <td>2.236060</td>\n",
       "      <td>-0.553760</td>\n",
       "      <td>0.930038</td>\n",
       "      <td>114.572842</td>\n",
       "    </tr>\n",
       "    <tr>\n",
       "      <th>4</th>\n",
       "      <td>WPMUX</td>\n",
       "      <td>-0.515993</td>\n",
       "      <td>1.716266</td>\n",
       "      <td>5.899011</td>\n",
       "      <td>149.600746</td>\n",
       "    </tr>\n",
       "  </tbody>\n",
       "</table>\n",
       "</div>"
      ],
      "text/plain": [
       "      id        f0        f1        f2     product\n",
       "0  fwXo0 -1.146987  0.963328 -0.828965   27.758673\n",
       "1  WJtFt  0.262778  0.269839 -2.530187   56.069697\n",
       "2  ovLUW  0.194587  0.289035 -5.586433   62.871910\n",
       "3  q6cA6  2.236060 -0.553760  0.930038  114.572842\n",
       "4  WPMUX -0.515993  1.716266  5.899011  149.600746"
      ]
     },
     "metadata": {},
     "output_type": "display_data"
    }
   ],
   "source": [
    "data_zero_drop_outlier = data_zero_drop_outlier.reset_index(drop = True)\n",
    "data_one_drop_outlier = data_one_drop_outlier.reset_index(drop = True)\n",
    "data_two_drop_outlier = data_two_drop_outlier.reset_index(drop = True)\n",
    "\n",
    "display(data_zero_drop_outlier.head())\n",
    "display(data_one_drop_outlier.head())\n",
    "display(data_two_drop_outlier.head())"
   ]
  },
  {
   "attachments": {},
   "cell_type": "markdown",
   "metadata": {},
   "source": [
    "## Взаимосвязь данных"
   ]
  },
  {
   "attachments": {},
   "cell_type": "markdown",
   "metadata": {},
   "source": [
    "Проверим взаимосвязь данных."
   ]
  },
  {
   "cell_type": "code",
   "execution_count": 23,
   "metadata": {},
   "outputs": [
    {
     "data": {
      "text/html": [
       "<div>\n",
       "<style scoped>\n",
       "    .dataframe tbody tr th:only-of-type {\n",
       "        vertical-align: middle;\n",
       "    }\n",
       "\n",
       "    .dataframe tbody tr th {\n",
       "        vertical-align: top;\n",
       "    }\n",
       "\n",
       "    .dataframe thead th {\n",
       "        text-align: right;\n",
       "    }\n",
       "</style>\n",
       "<table border=\"1\" class=\"dataframe\">\n",
       "  <thead>\n",
       "    <tr style=\"text-align: right;\">\n",
       "      <th></th>\n",
       "      <th>f0</th>\n",
       "      <th>f1</th>\n",
       "      <th>f2</th>\n",
       "      <th>product</th>\n",
       "    </tr>\n",
       "  </thead>\n",
       "  <tbody>\n",
       "    <tr>\n",
       "      <th>f0</th>\n",
       "      <td>1.000000</td>\n",
       "      <td>-0.440723</td>\n",
       "      <td>-0.003153</td>\n",
       "      <td>0.143536</td>\n",
       "    </tr>\n",
       "    <tr>\n",
       "      <th>f1</th>\n",
       "      <td>-0.440723</td>\n",
       "      <td>1.000000</td>\n",
       "      <td>0.001724</td>\n",
       "      <td>-0.192356</td>\n",
       "    </tr>\n",
       "    <tr>\n",
       "      <th>f2</th>\n",
       "      <td>-0.003153</td>\n",
       "      <td>0.001724</td>\n",
       "      <td>1.000000</td>\n",
       "      <td>0.483663</td>\n",
       "    </tr>\n",
       "    <tr>\n",
       "      <th>product</th>\n",
       "      <td>0.143536</td>\n",
       "      <td>-0.192356</td>\n",
       "      <td>0.483663</td>\n",
       "      <td>1.000000</td>\n",
       "    </tr>\n",
       "  </tbody>\n",
       "</table>\n",
       "</div>"
      ],
      "text/plain": [
       "               f0        f1        f2   product\n",
       "f0       1.000000 -0.440723 -0.003153  0.143536\n",
       "f1      -0.440723  1.000000  0.001724 -0.192356\n",
       "f2      -0.003153  0.001724  1.000000  0.483663\n",
       "product  0.143536 -0.192356  0.483663  1.000000"
      ]
     },
     "metadata": {},
     "output_type": "display_data"
    },
    {
     "data": {
      "text/html": [
       "<div>\n",
       "<style scoped>\n",
       "    .dataframe tbody tr th:only-of-type {\n",
       "        vertical-align: middle;\n",
       "    }\n",
       "\n",
       "    .dataframe tbody tr th {\n",
       "        vertical-align: top;\n",
       "    }\n",
       "\n",
       "    .dataframe thead th {\n",
       "        text-align: right;\n",
       "    }\n",
       "</style>\n",
       "<table border=\"1\" class=\"dataframe\">\n",
       "  <thead>\n",
       "    <tr style=\"text-align: right;\">\n",
       "      <th></th>\n",
       "      <th>f0</th>\n",
       "      <th>f1</th>\n",
       "      <th>f2</th>\n",
       "      <th>product</th>\n",
       "    </tr>\n",
       "  </thead>\n",
       "  <tbody>\n",
       "    <tr>\n",
       "      <th>f0</th>\n",
       "      <td>1.000000</td>\n",
       "      <td>0.182287</td>\n",
       "      <td>-0.001777</td>\n",
       "      <td>-0.030491</td>\n",
       "    </tr>\n",
       "    <tr>\n",
       "      <th>f1</th>\n",
       "      <td>0.182287</td>\n",
       "      <td>1.000000</td>\n",
       "      <td>-0.002595</td>\n",
       "      <td>-0.010155</td>\n",
       "    </tr>\n",
       "    <tr>\n",
       "      <th>f2</th>\n",
       "      <td>-0.001777</td>\n",
       "      <td>-0.002595</td>\n",
       "      <td>1.000000</td>\n",
       "      <td>0.999397</td>\n",
       "    </tr>\n",
       "    <tr>\n",
       "      <th>product</th>\n",
       "      <td>-0.030491</td>\n",
       "      <td>-0.010155</td>\n",
       "      <td>0.999397</td>\n",
       "      <td>1.000000</td>\n",
       "    </tr>\n",
       "  </tbody>\n",
       "</table>\n",
       "</div>"
      ],
      "text/plain": [
       "               f0        f1        f2   product\n",
       "f0       1.000000  0.182287 -0.001777 -0.030491\n",
       "f1       0.182287  1.000000 -0.002595 -0.010155\n",
       "f2      -0.001777 -0.002595  1.000000  0.999397\n",
       "product -0.030491 -0.010155  0.999397  1.000000"
      ]
     },
     "metadata": {},
     "output_type": "display_data"
    },
    {
     "data": {
      "text/html": [
       "<div>\n",
       "<style scoped>\n",
       "    .dataframe tbody tr th:only-of-type {\n",
       "        vertical-align: middle;\n",
       "    }\n",
       "\n",
       "    .dataframe tbody tr th {\n",
       "        vertical-align: top;\n",
       "    }\n",
       "\n",
       "    .dataframe thead th {\n",
       "        text-align: right;\n",
       "    }\n",
       "</style>\n",
       "<table border=\"1\" class=\"dataframe\">\n",
       "  <thead>\n",
       "    <tr style=\"text-align: right;\">\n",
       "      <th></th>\n",
       "      <th>f0</th>\n",
       "      <th>f1</th>\n",
       "      <th>f2</th>\n",
       "      <th>product</th>\n",
       "    </tr>\n",
       "  </thead>\n",
       "  <tbody>\n",
       "    <tr>\n",
       "      <th>f0</th>\n",
       "      <td>1.000000</td>\n",
       "      <td>0.000528</td>\n",
       "      <td>-0.000448</td>\n",
       "      <td>-0.001987</td>\n",
       "    </tr>\n",
       "    <tr>\n",
       "      <th>f1</th>\n",
       "      <td>0.000528</td>\n",
       "      <td>1.000000</td>\n",
       "      <td>0.000779</td>\n",
       "      <td>-0.001012</td>\n",
       "    </tr>\n",
       "    <tr>\n",
       "      <th>f2</th>\n",
       "      <td>-0.000448</td>\n",
       "      <td>0.000779</td>\n",
       "      <td>1.000000</td>\n",
       "      <td>0.445871</td>\n",
       "    </tr>\n",
       "    <tr>\n",
       "      <th>product</th>\n",
       "      <td>-0.001987</td>\n",
       "      <td>-0.001012</td>\n",
       "      <td>0.445871</td>\n",
       "      <td>1.000000</td>\n",
       "    </tr>\n",
       "  </tbody>\n",
       "</table>\n",
       "</div>"
      ],
      "text/plain": [
       "               f0        f1        f2   product\n",
       "f0       1.000000  0.000528 -0.000448 -0.001987\n",
       "f1       0.000528  1.000000  0.000779 -0.001012\n",
       "f2      -0.000448  0.000779  1.000000  0.445871\n",
       "product -0.001987 -0.001012  0.445871  1.000000"
      ]
     },
     "metadata": {},
     "output_type": "display_data"
    }
   ],
   "source": [
    "display(data_zero.corr())\n",
    "display(data_one.corr())\n",
    "display(data_two.corr())"
   ]
  },
  {
   "attachments": {},
   "cell_type": "markdown",
   "metadata": {},
   "source": [
    "Признак f2 в регионе 1 сильно коррелирует с целевым признаком (0.999397)."
   ]
  },
  {
   "attachments": {},
   "cell_type": "markdown",
   "metadata": {},
   "source": [
    "## Разбивка данных"
   ]
  },
  {
   "attachments": {},
   "cell_type": "markdown",
   "metadata": {},
   "source": [
    "Разбем данные на обучающую и валидационную выборки в соотношении 75:25."
   ]
  },
  {
   "cell_type": "code",
   "execution_count": 24,
   "metadata": {},
   "outputs": [
    {
     "name": "stdout",
     "output_type": "stream",
     "text": [
      "(75000, 3)\n",
      "(25000, 3)\n",
      "(75000,)\n",
      "(25000,)\n"
     ]
    }
   ],
   "source": [
    "features = data_zero.drop(['id', 'product'], axis=1)\n",
    "target = data_zero['product']\n",
    "\n",
    "features_train_data_zero, features_valid_data_zero, target_train_data_zero, target_valid_data_zero = train_test_split(\n",
    "    features, target, test_size=0.25, random_state=12345)\n",
    "\n",
    "print(features_train_data_zero.shape)\n",
    "print(features_valid_data_zero.shape)\n",
    "print(target_train_data_zero.shape) \n",
    "print(target_valid_data_zero.shape) "
   ]
  },
  {
   "cell_type": "code",
   "execution_count": 25,
   "metadata": {},
   "outputs": [
    {
     "name": "stdout",
     "output_type": "stream",
     "text": [
      "(75000, 3)\n",
      "(25000, 3)\n",
      "(75000,)\n",
      "(25000,)\n"
     ]
    }
   ],
   "source": [
    "#features = data_one_drop_outlier_drop_f2.drop(['id', 'product'], axis=1)\n",
    "#target = data_one_drop_outlier_drop_f2['product']\n",
    "\n",
    "features = data_one.drop(['id', 'product'], axis=1)\n",
    "target = data_one['product']\n",
    "\n",
    "features_train_data_one, features_valid_data_one, target_train_data_one, target_valid_data_one = train_test_split(\n",
    "    features, target, test_size=0.25, random_state=12345)\n",
    "\n",
    "print(features_train_data_one.shape)\n",
    "print(features_valid_data_one.shape)\n",
    "print(target_train_data_one.shape)\n",
    "print(target_valid_data_one.shape)"
   ]
  },
  {
   "cell_type": "code",
   "execution_count": 26,
   "metadata": {},
   "outputs": [
    {
     "name": "stdout",
     "output_type": "stream",
     "text": [
      "(75000, 3)\n",
      "(25000, 3)\n",
      "(75000,)\n",
      "(25000,)\n"
     ]
    }
   ],
   "source": [
    "features = data_two.drop(['id', 'product'], axis=1)\n",
    "target = data_two['product']\n",
    "\n",
    "features_train_data_two, features_valid_data_two, target_train_data_two, target_valid_data_two = train_test_split(\n",
    "    features, target, test_size=0.25, random_state=12345)\n",
    "\n",
    "print(features_train_data_two.shape)\n",
    "print(features_valid_data_two.shape)\n",
    "print(target_train_data_two.shape)\n",
    "print(target_valid_data_two.shape)"
   ]
  },
  {
   "cell_type": "code",
   "execution_count": 27,
   "metadata": {},
   "outputs": [
    {
     "data": {
      "text/html": [
       "<div>\n",
       "<style scoped>\n",
       "    .dataframe tbody tr th:only-of-type {\n",
       "        vertical-align: middle;\n",
       "    }\n",
       "\n",
       "    .dataframe tbody tr th {\n",
       "        vertical-align: top;\n",
       "    }\n",
       "\n",
       "    .dataframe thead th {\n",
       "        text-align: right;\n",
       "    }\n",
       "</style>\n",
       "<table border=\"1\" class=\"dataframe\">\n",
       "  <thead>\n",
       "    <tr style=\"text-align: right;\">\n",
       "      <th></th>\n",
       "      <th>f0</th>\n",
       "      <th>f1</th>\n",
       "      <th>f2</th>\n",
       "    </tr>\n",
       "  </thead>\n",
       "  <tbody>\n",
       "    <tr>\n",
       "      <th>27212</th>\n",
       "      <td>0.022450</td>\n",
       "      <td>0.951034</td>\n",
       "      <td>2.197333</td>\n",
       "    </tr>\n",
       "    <tr>\n",
       "      <th>7866</th>\n",
       "      <td>1.766731</td>\n",
       "      <td>0.007835</td>\n",
       "      <td>6.436602</td>\n",
       "    </tr>\n",
       "    <tr>\n",
       "      <th>62041</th>\n",
       "      <td>0.724514</td>\n",
       "      <td>0.666063</td>\n",
       "      <td>1.840177</td>\n",
       "    </tr>\n",
       "    <tr>\n",
       "      <th>70185</th>\n",
       "      <td>-1.104181</td>\n",
       "      <td>0.255268</td>\n",
       "      <td>2.026156</td>\n",
       "    </tr>\n",
       "    <tr>\n",
       "      <th>82230</th>\n",
       "      <td>-0.635263</td>\n",
       "      <td>0.747990</td>\n",
       "      <td>6.643327</td>\n",
       "    </tr>\n",
       "  </tbody>\n",
       "</table>\n",
       "</div>"
      ],
      "text/plain": [
       "             f0        f1        f2\n",
       "27212  0.022450  0.951034  2.197333\n",
       "7866   1.766731  0.007835  6.436602\n",
       "62041  0.724514  0.666063  1.840177\n",
       "70185 -1.104181  0.255268  2.026156\n",
       "82230 -0.635263  0.747990  6.643327"
      ]
     },
     "execution_count": 27,
     "metadata": {},
     "output_type": "execute_result"
    }
   ],
   "source": [
    "features_train_data_zero.head()"
   ]
  },
  {
   "attachments": {},
   "cell_type": "markdown",
   "metadata": {},
   "source": [
    "## Маштабирование признаков"
   ]
  },
  {
   "attachments": {},
   "cell_type": "markdown",
   "metadata": {},
   "source": [
    "Приведем все признаки к единому масштабу, для этого предварительно напишем функцию."
   ]
  },
  {
   "cell_type": "code",
   "execution_count": 28,
   "metadata": {},
   "outputs": [],
   "source": [
    "def st_scaler(data_train, data_valid):   \n",
    "    \n",
    "    numeric = data_train.columns.tolist()\n",
    "    \n",
    "\n",
    "    scaler = StandardScaler()\n",
    "    scaler.fit(data_train[numeric])\n",
    "    data_train[numeric] = scaler.transform(data_train[numeric])\n",
    "    data_valid[numeric] = scaler.transform(data_valid[numeric])\n",
    "    \n",
    "    return data_train, data_valid\n"
   ]
  },
  {
   "attachments": {},
   "cell_type": "markdown",
   "metadata": {},
   "source": [
    "Применим функцию."
   ]
  },
  {
   "cell_type": "code",
   "execution_count": 29,
   "metadata": {},
   "outputs": [
    {
     "name": "stdout",
     "output_type": "stream",
     "text": [
      "             f0        f1        f2\n",
      "27212  0.022450  0.951034  2.197333\n",
      "7866   1.766731  0.007835  6.436602\n",
      "62041  0.724514  0.666063  1.840177\n",
      "70185 -1.104181  0.255268  2.026156\n",
      "82230 -0.635263  0.747990  6.643327\n"
     ]
    }
   ],
   "source": [
    "print(features_train_data_zero.head())\n"
   ]
  },
  {
   "cell_type": "code",
   "execution_count": 30,
   "metadata": {},
   "outputs": [
    {
     "data": {
      "text/plain": [
       "(             f0        f1        f2\n",
       " 27212 -0.544828  1.390264 -0.094959\n",
       " 7866   1.455912 -0.480422  1.209567\n",
       " 62041  0.260460  0.825069 -0.204865\n",
       " 70185 -1.837105  0.010321 -0.147634\n",
       " 82230 -1.299243  0.987558  1.273181\n",
       " ...         ...       ...       ...\n",
       " 4094   1.567114 -1.087243 -0.272211\n",
       " 85412 -1.904207 -0.525360  1.327530\n",
       " 2177   0.418949 -1.296788 -0.196407\n",
       " 77285  0.400077 -1.466874 -0.445317\n",
       " 86498  1.746246  0.027415  2.766848\n",
       " \n",
       " [75000 rows x 3 columns],\n",
       "              f0        f1        f2\n",
       " 71751  0.517917 -0.610097 -0.126226\n",
       " 80493  0.568391 -0.086063 -0.814914\n",
       " 2655   0.805688 -1.613289 -1.341342\n",
       " 53233  0.222503 -1.355437 -0.597275\n",
       " 91141 -0.087941  1.433113 -0.544588\n",
       " ...         ...       ...       ...\n",
       " 12581  1.541222 -0.709525  0.024535\n",
       " 18456 -0.522565  0.474447 -0.103985\n",
       " 73035 -0.138850  1.595071 -0.903485\n",
       " 63834  0.658267 -1.428224  0.621967\n",
       " 43558  1.409556 -0.650407  0.769670\n",
       " \n",
       " [25000 rows x 3 columns])"
      ]
     },
     "execution_count": 30,
     "metadata": {},
     "output_type": "execute_result"
    }
   ],
   "source": [
    "st_scaler(features_train_data_zero, features_valid_data_zero)"
   ]
  },
  {
   "cell_type": "code",
   "execution_count": 31,
   "metadata": {},
   "outputs": [
    {
     "name": "stdout",
     "output_type": "stream",
     "text": [
      "             f0        f1        f2\n",
      "27212 -0.544828  1.390264 -0.094959\n",
      "7866   1.455912 -0.480422  1.209567\n",
      "62041  0.260460  0.825069 -0.204865\n",
      "70185 -1.837105  0.010321 -0.147634\n",
      "82230 -1.299243  0.987558  1.273181\n"
     ]
    }
   ],
   "source": [
    "print(features_train_data_zero.head())"
   ]
  },
  {
   "attachments": {},
   "cell_type": "markdown",
   "metadata": {},
   "source": [
    "Функция работае, применим ее к оставшимся данным."
   ]
  },
  {
   "cell_type": "code",
   "execution_count": 32,
   "metadata": {},
   "outputs": [
    {
     "data": {
      "text/plain": [
       "(             f0        f1        f2\n",
       " 27212 -0.526160  0.776329 -0.400793\n",
       " 7866  -0.889625 -0.404070 -1.222936\n",
       " 62041 -1.133984  0.208576  0.296765\n",
       " 70185  1.227045  1.570166 -0.764556\n",
       " 82230 -0.194289  0.878312  0.840821\n",
       " ...         ...       ...       ...\n",
       " 4094  -1.815240  0.398261  1.821017\n",
       " 85412 -0.274576 -1.265211  0.245519\n",
       " 2177   0.368564  0.797225  0.665575\n",
       " 77285 -2.440690  0.113784  0.440907\n",
       " 86498 -1.732468  0.393573 -1.424465\n",
       " \n",
       " [75000 rows x 3 columns],\n",
       "              f0        f1        f2\n",
       " 71751 -0.836717 -2.227439 -0.078489\n",
       " 80493 -0.821648  0.740237 -1.000811\n",
       " 2655  -2.651336 -0.235721 -0.244546\n",
       " 53233  1.077998  0.938090  0.511313\n",
       " 91141 -1.173938  2.387270  1.034363\n",
       " ...         ...       ...       ...\n",
       " 12581 -0.761845 -0.067861 -0.819227\n",
       " 18456  0.006155  0.509468  0.030344\n",
       " 73035  0.416444 -0.084595  0.218987\n",
       " 63834 -0.136658 -0.101235 -0.870787\n",
       " 43558 -1.359565 -0.598457  1.716644\n",
       " \n",
       " [25000 rows x 3 columns])"
      ]
     },
     "execution_count": 32,
     "metadata": {},
     "output_type": "execute_result"
    }
   ],
   "source": [
    "st_scaler(features_train_data_one, features_valid_data_one)\n",
    "st_scaler(features_train_data_two, features_valid_data_two)"
   ]
  },
  {
   "attachments": {},
   "cell_type": "markdown",
   "metadata": {},
   "source": [
    "## Обучение и проверка модели"
   ]
  },
  {
   "attachments": {},
   "cell_type": "markdown",
   "metadata": {},
   "source": [
    "Теперь данные готовы для построения модели.\n",
    "\n",
    "Построим подель регрессии."
   ]
  },
  {
   "cell_type": "code",
   "execution_count": 33,
   "metadata": {},
   "outputs": [],
   "source": [
    "model = LinearRegression()"
   ]
  },
  {
   "cell_type": "code",
   "execution_count": 34,
   "metadata": {},
   "outputs": [
    {
     "name": "stdout",
     "output_type": "stream",
     "text": [
      "Linear Regression\n",
      "RMSE = 37.5794217150813\n",
      "R2 = 0.27994321524487786\n",
      "Средний реальный запас нефти = 92.07859674082927\n",
      "Средний предсказанный запас нефти = 92.59256778438035\n"
     ]
    }
   ],
   "source": [
    "model.fit(features_train_data_zero, target_train_data_zero)\n",
    "predicted_valid_data_zero = model.predict(features_valid_data_zero)\n",
    "rmse_data_zero = mean_squared_error(target_valid_data_zero, predicted_valid_data_zero)** 0.5\n",
    "r2_data_zero = model.score(features_valid_data_zero, target_valid_data_zero)\n",
    "mean_valid_data_zero = target_valid_data_zero.mean()\n",
    "mean_predicted_data_zero = predicted_valid_data_zero.mean()\n",
    "\n",
    "print(\"Linear Regression\")\n",
    "print(\"RMSE =\", rmse_data_zero)\n",
    "print(\"R2 =\", r2_data_zero)\n",
    "print(\"Средний реальный запас нефти =\", mean_valid_data_zero)\n",
    "print(\"Средний предсказанный запас нефти =\", mean_predicted_data_zero)"
   ]
  },
  {
   "cell_type": "code",
   "execution_count": 35,
   "metadata": {
    "scrolled": true
   },
   "outputs": [
    {
     "name": "stdout",
     "output_type": "stream",
     "text": [
      "Linear Regression\n",
      "RMSE = 0.8930992867756162\n",
      "R2 = 0.9996233978805127\n",
      "Средний реальный запас нефти = 68.72313602435997\n",
      "Средний предсказанный запас нефти = 68.728546895446\n"
     ]
    }
   ],
   "source": [
    "model.fit(features_train_data_one, target_train_data_one)\n",
    "predicted_valid_data_one = model.predict(features_valid_data_one)\n",
    "rmse_data_one = mean_squared_error(target_valid_data_one, predicted_valid_data_one)** 0.5\n",
    "r2_data_one = model.score(features_valid_data_one, target_valid_data_one)\n",
    "mean_valid_data_one = target_valid_data_one.mean()\n",
    "mean_predicted_data_one = predicted_valid_data_one.mean()\n",
    "\n",
    "print(\"Linear Regression\")\n",
    "print(\"RMSE =\", rmse_data_one)\n",
    "print(\"R2 =\", r2_data_one)\n",
    "print(\"Средний реальный запас нефти =\", mean_valid_data_one)\n",
    "print(\"Средний предсказанный запас нефти =\", mean_predicted_data_one)"
   ]
  },
  {
   "attachments": {},
   "cell_type": "markdown",
   "metadata": {},
   "source": [
    "R2 и RMSE почти равны 1, это из-за признака f2, который сильно коррелирует с целевым признаком."
   ]
  },
  {
   "cell_type": "code",
   "execution_count": 36,
   "metadata": {},
   "outputs": [
    {
     "name": "stdout",
     "output_type": "stream",
     "text": [
      "Linear Regression\n",
      "RMSE = 40.02970873393434\n",
      "R2 = 0.20524758386040443\n",
      "Средний реальный запас нефти = 94.88423280885438\n",
      "Средний предсказанный запас нефти = 94.96504596800489\n"
     ]
    }
   ],
   "source": [
    "model.fit(features_train_data_two, target_train_data_two)\n",
    "predicted_valid_data_two = model.predict(features_valid_data_two)\n",
    "rmse_data_two = mean_squared_error(target_valid_data_two, predicted_valid_data_two)** 0.5\n",
    "r2_data_two = model.score(features_valid_data_two, target_valid_data_two)\n",
    "mean_valid_data_two = target_valid_data_two.mean()\n",
    "mean_predicted_data_two = predicted_valid_data_two.mean()\n",
    "\n",
    "print(\"Linear Regression\")\n",
    "print(\"RMSE =\", rmse_data_two)\n",
    "print(\"R2 =\", r2_data_two)\n",
    "print(\"Средний реальный запас нефти =\", mean_valid_data_two)\n",
    "print(\"Средний предсказанный запас нефти =\", mean_predicted_data_two)"
   ]
  },
  {
   "attachments": {},
   "cell_type": "markdown",
   "metadata": {},
   "source": [
    "Соберем все данные в таблицу."
   ]
  },
  {
   "cell_type": "code",
   "execution_count": 37,
   "metadata": {},
   "outputs": [
    {
     "data": {
      "text/html": [
       "<style type=\"text/css\">\n",
       "</style>\n",
       "<table id=\"T_d929f\">\n",
       "  <thead>\n",
       "    <tr>\n",
       "      <th id=\"T_d929f_level0_col0\" class=\"col_heading level0 col0\" >Регион</th>\n",
       "      <th id=\"T_d929f_level0_col1\" class=\"col_heading level0 col1\" >RMSE</th>\n",
       "      <th id=\"T_d929f_level0_col2\" class=\"col_heading level0 col2\" >R2</th>\n",
       "      <th id=\"T_d929f_level0_col3\" class=\"col_heading level0 col3\" >Средний реальный запас нефти</th>\n",
       "      <th id=\"T_d929f_level0_col4\" class=\"col_heading level0 col4\" >Средний предсказанный запас нефти</th>\n",
       "    </tr>\n",
       "  </thead>\n",
       "  <tbody>\n",
       "    <tr>\n",
       "      <td id=\"T_d929f_row0_col0\" class=\"data row0 col0\" >Регион 0</td>\n",
       "      <td id=\"T_d929f_row0_col1\" class=\"data row0 col1\" >37.579422</td>\n",
       "      <td id=\"T_d929f_row0_col2\" class=\"data row0 col2\" >0.279943</td>\n",
       "      <td id=\"T_d929f_row0_col3\" class=\"data row0 col3\" >92.078597</td>\n",
       "      <td id=\"T_d929f_row0_col4\" class=\"data row0 col4\" >92.592568</td>\n",
       "    </tr>\n",
       "    <tr>\n",
       "      <td id=\"T_d929f_row1_col0\" class=\"data row1 col0\" >Регион 1</td>\n",
       "      <td id=\"T_d929f_row1_col1\" class=\"data row1 col1\" >0.893099</td>\n",
       "      <td id=\"T_d929f_row1_col2\" class=\"data row1 col2\" >0.999623</td>\n",
       "      <td id=\"T_d929f_row1_col3\" class=\"data row1 col3\" >68.723136</td>\n",
       "      <td id=\"T_d929f_row1_col4\" class=\"data row1 col4\" >68.728547</td>\n",
       "    </tr>\n",
       "    <tr>\n",
       "      <td id=\"T_d929f_row2_col0\" class=\"data row2 col0\" >Регион 2</td>\n",
       "      <td id=\"T_d929f_row2_col1\" class=\"data row2 col1\" >40.029709</td>\n",
       "      <td id=\"T_d929f_row2_col2\" class=\"data row2 col2\" >0.205248</td>\n",
       "      <td id=\"T_d929f_row2_col3\" class=\"data row2 col3\" >94.884233</td>\n",
       "      <td id=\"T_d929f_row2_col4\" class=\"data row2 col4\" >94.965046</td>\n",
       "    </tr>\n",
       "  </tbody>\n",
       "</table>\n"
      ],
      "text/plain": [
       "<pandas.io.formats.style.Styler at 0x28a37a150>"
      ]
     },
     "execution_count": 37,
     "metadata": {},
     "output_type": "execute_result"
    }
   ],
   "source": [
    "df = {'Регион': ['Регион 0', 'Регион 1', 'Регион 2'],\n",
    "     'RMSE': [rmse_data_zero, rmse_data_one, rmse_data_two], \n",
    "     'R2': [r2_data_zero, r2_data_one, r2_data_two],\n",
    "     'Средний реальный запас нефти' : [mean_valid_data_zero, mean_valid_data_one, mean_valid_data_two],\n",
    "     'Средний предсказанный запас нефти' : [mean_predicted_data_zero, mean_predicted_data_one, mean_predicted_data_two]}\n",
    "stat_df = pd.DataFrame(data=df)\n",
    "stat_df.style.hide_index()"
   ]
  },
  {
   "attachments": {},
   "cell_type": "markdown",
   "metadata": {},
   "source": [
    "- Наилучшее качество модели линейной регрессии у 1ого региона, там высока кореляция с одним из признаков.\n",
    "- Наивысшие показатели добыче по среднем реальным и предсказанным показателям в Регионе 2, Регион 1 на последнем месте."
   ]
  },
  {
   "attachments": {},
   "cell_type": "markdown",
   "metadata": {},
   "source": [
    "## Подготовка к расчёту прибыли"
   ]
  },
  {
   "attachments": {},
   "cell_type": "markdown",
   "metadata": {},
   "source": [
    "Ранее по условиям задачи было переданы следующие данные.\n",
    "\n",
    "Условия задачи:\n",
    "\n",
    "- При разведке региона исследуют 500 точек, из которых с помощью машинного обучения выбирают 200 лучших для разработки.\n",
    "- Бюджет на разработку скважин в регионе — 10 млрд рублей.\n",
    "- При нынешних ценах один баррель сырья приносит 450 рублей дохода. Доход с каждой единицы продукта составляет 450 тыс. рублей, поскольку объём указан в тысячах баррелей.\n",
    "- После оценки рисков нужно оставить лишь те регионы, в которых вероятность убытков меньше 2.5%. Среди них выбирают регион с наибольшей средней прибылью.\n",
    "\n",
    "Сосздадим список необходимых для работы констант."
   ]
  },
  {
   "cell_type": "code",
   "execution_count": 38,
   "metadata": {},
   "outputs": [],
   "source": [
    "EXAMINE_NUMBER_OF_WELL = 500\n",
    "BEST_NUMBER_OF_WELL = 200\n",
    "\n",
    "BUDGET_OF_REGION = 10000000000\n",
    "\n",
    "PRICE_PER_BARREL = 450000\n",
    "\n",
    "RISK_THRESHOLD = 0.025"
   ]
  },
  {
   "attachments": {},
   "cell_type": "markdown",
   "metadata": {},
   "source": [
    "Расчитаем требуемый объем добычи нефти с 1 скважины при условии ограничения в бюджете, кол-ве скважин и цене нефти за баррель"
   ]
  },
  {
   "cell_type": "code",
   "execution_count": 39,
   "metadata": {
    "scrolled": true
   },
   "outputs": [
    {
     "name": "stdout",
     "output_type": "stream",
     "text": [
      "Требуемый объем добычи нефти с 1 скважины: 111.11111111111111 тыс.барр.\n"
     ]
    }
   ],
   "source": [
    "REQUIRED_AMMOUNT_OF_OIL_PER_WELL = BUDGET_OF_REGION / PRICE_PER_BARREL / BEST_NUMBER_OF_WELL\n",
    "\n",
    "print('Требуемый объем добычи нефти с 1 скважины:', REQUIRED_AMMOUNT_OF_OIL_PER_WELL, 'тыс.барр.')"
   ]
  },
  {
   "cell_type": "code",
   "execution_count": 40,
   "metadata": {
    "scrolled": true
   },
   "outputs": [
    {
     "data": {
      "text/html": [
       "<style type=\"text/css\">\n",
       "</style>\n",
       "<table id=\"T_390a8\">\n",
       "  <thead>\n",
       "    <tr>\n",
       "      <th id=\"T_390a8_level0_col0\" class=\"col_heading level0 col0\" >Регион</th>\n",
       "      <th id=\"T_390a8_level0_col1\" class=\"col_heading level0 col1\" >RMSE</th>\n",
       "      <th id=\"T_390a8_level0_col2\" class=\"col_heading level0 col2\" >R2</th>\n",
       "      <th id=\"T_390a8_level0_col3\" class=\"col_heading level0 col3\" >Средний реальный запас нефти</th>\n",
       "      <th id=\"T_390a8_level0_col4\" class=\"col_heading level0 col4\" >Средний предсказанный запас нефти</th>\n",
       "      <th id=\"T_390a8_level0_col5\" class=\"col_heading level0 col5\" >Требуемый объем добычи нефти</th>\n",
       "    </tr>\n",
       "  </thead>\n",
       "  <tbody>\n",
       "    <tr>\n",
       "      <td id=\"T_390a8_row0_col0\" class=\"data row0 col0\" >Регион 0</td>\n",
       "      <td id=\"T_390a8_row0_col1\" class=\"data row0 col1\" >37.579422</td>\n",
       "      <td id=\"T_390a8_row0_col2\" class=\"data row0 col2\" >0.279943</td>\n",
       "      <td id=\"T_390a8_row0_col3\" class=\"data row0 col3\" >92.078597</td>\n",
       "      <td id=\"T_390a8_row0_col4\" class=\"data row0 col4\" >92.592568</td>\n",
       "      <td id=\"T_390a8_row0_col5\" class=\"data row0 col5\" >111.111111</td>\n",
       "    </tr>\n",
       "    <tr>\n",
       "      <td id=\"T_390a8_row1_col0\" class=\"data row1 col0\" >Регион 1</td>\n",
       "      <td id=\"T_390a8_row1_col1\" class=\"data row1 col1\" >0.893099</td>\n",
       "      <td id=\"T_390a8_row1_col2\" class=\"data row1 col2\" >0.999623</td>\n",
       "      <td id=\"T_390a8_row1_col3\" class=\"data row1 col3\" >68.723136</td>\n",
       "      <td id=\"T_390a8_row1_col4\" class=\"data row1 col4\" >68.728547</td>\n",
       "      <td id=\"T_390a8_row1_col5\" class=\"data row1 col5\" >111.111111</td>\n",
       "    </tr>\n",
       "    <tr>\n",
       "      <td id=\"T_390a8_row2_col0\" class=\"data row2 col0\" >Регион 2</td>\n",
       "      <td id=\"T_390a8_row2_col1\" class=\"data row2 col1\" >40.029709</td>\n",
       "      <td id=\"T_390a8_row2_col2\" class=\"data row2 col2\" >0.205248</td>\n",
       "      <td id=\"T_390a8_row2_col3\" class=\"data row2 col3\" >94.884233</td>\n",
       "      <td id=\"T_390a8_row2_col4\" class=\"data row2 col4\" >94.965046</td>\n",
       "      <td id=\"T_390a8_row2_col5\" class=\"data row2 col5\" >111.111111</td>\n",
       "    </tr>\n",
       "  </tbody>\n",
       "</table>\n"
      ],
      "text/plain": [
       "<pandas.io.formats.style.Styler at 0x28a194dd0>"
      ]
     },
     "execution_count": 40,
     "metadata": {},
     "output_type": "execute_result"
    }
   ],
   "source": [
    "stat_df['Требуемый объем добычи нефти'] = REQUIRED_AMMOUNT_OF_OIL_PER_WELL\n",
    "stat_df.style.hide_index()"
   ]
  },
  {
   "attachments": {},
   "cell_type": "markdown",
   "metadata": {},
   "source": [
    "Средние показатели по добыче по всем регионам ниже среднего требуемого значения для выбранных 200 скважин, но показатели первого региона значительно ниже других."
   ]
  },
  {
   "attachments": {},
   "cell_type": "markdown",
   "metadata": {},
   "source": [
    "## Расчёт прибыли и рисков "
   ]
  },
  {
   "attachments": {},
   "cell_type": "markdown",
   "metadata": {},
   "source": [
    "Напишем функцию подсчета прибыли для лучших 200 скважин по кажому региону."
   ]
  },
  {
   "cell_type": "code",
   "execution_count": 41,
   "metadata": {
    "scrolled": true
   },
   "outputs": [],
   "source": [
    "def income(target, prediction, price, wells_number, costs):\n",
    "    \n",
    "    target = target.reset_index(drop = True)\n",
    "    \n",
    "    wells_sorted = pd.Series(prediction).sort_values(ascending=False)[:wells_number]\n",
    "    \n",
    "    #wells_sorted = np.sort(prediction)[::-1]\n",
    "    \n",
    "    wells_production = target[wells_sorted.index]\n",
    "    \n",
    "    overall_production = wells_production.sum()\n",
    "    \n",
    "    return (price * overall_production - costs)/1000000"
   ]
  },
  {
   "cell_type": "code",
   "execution_count": 42,
   "metadata": {
    "scrolled": true
   },
   "outputs": [
    {
     "name": "stdout",
     "output_type": "stream",
     "text": [
      "Прибыль с лучших 200 скважин в нулевом регионе: 3320.8260431398508\n",
      "\n",
      "Прибыль с лучших 200 скважин в первом регионе: 2415.086696681511\n",
      "\n",
      "Прибыль с лучших 200 скважин в втором регионе: 2710.3499635998323\n"
     ]
    }
   ],
   "source": [
    "print(\"Прибыль с лучших 200 скважин в нулевом регионе:\",\n",
    "          income(target_valid_data_zero, predicted_valid_data_zero, \n",
    "          PRICE_PER_BARREL, BEST_NUMBER_OF_WELL, BUDGET_OF_REGION))\n",
    "print('')\n",
    "print(\"Прибыль с лучших 200 скважин в первом регионе:\",\n",
    "          income(target_valid_data_one, predicted_valid_data_one, \n",
    "          PRICE_PER_BARREL, BEST_NUMBER_OF_WELL, BUDGET_OF_REGION))\n",
    "print('')\n",
    "print(\"Прибыль с лучших 200 скважин в втором регионе:\",\n",
    "          income(target_valid_data_two, predicted_valid_data_two, \n",
    "          PRICE_PER_BARREL, BEST_NUMBER_OF_WELL, BUDGET_OF_REGION))"
   ]
  },
  {
   "attachments": {},
   "cell_type": "markdown",
   "metadata": {},
   "source": [
    "В нулевом регионе прибыль с лучших 200 скважин наивысшая."
   ]
  },
  {
   "attachments": {},
   "cell_type": "markdown",
   "metadata": {},
   "source": [
    "## Bootstrap"
   ]
  },
  {
   "attachments": {},
   "cell_type": "markdown",
   "metadata": {},
   "source": [
    "Проведем процедуру Bootstrap. Для начала напишем функцию."
   ]
  },
  {
   "cell_type": "code",
   "execution_count": 43,
   "metadata": {},
   "outputs": [],
   "source": [
    "def bootstrap(target, prediction):\n",
    "    state = np.random.RandomState(12345)\n",
    "    \n",
    "    values = []\n",
    "    for i in range(1000):\n",
    "        target = target.reset_index(drop = True)\n",
    "        #prediction = pd.Series(prediction)\n",
    "        \n",
    "        target_subsample = target.sample(n = EXAMINE_NUMBER_OF_WELL, replace=True, random_state=state)\n",
    "        probs_subsample = prediction[target_subsample.index]\n",
    "        income_well = income(target_subsample, probs_subsample, PRICE_PER_BARREL, BEST_NUMBER_OF_WELL, BUDGET_OF_REGION)\n",
    "        values.append(income_well)\n",
    "    \n",
    "    values = pd.Series(values)\n",
    "    return values"
   ]
  },
  {
   "attachments": {},
   "cell_type": "markdown",
   "metadata": {},
   "source": [
    "Применим функцию."
   ]
  },
  {
   "cell_type": "code",
   "execution_count": 44,
   "metadata": {},
   "outputs": [
    {
     "name": "stdout",
     "output_type": "stream",
     "text": [
      "(1000,)\n",
      "(1000,)\n",
      "(1000,)\n"
     ]
    }
   ],
   "source": [
    "bootstrap_data_zero = bootstrap(target_valid_data_zero, predicted_valid_data_zero)\n",
    "bootstrap_data_one = bootstrap(target_valid_data_one, predicted_valid_data_one)\n",
    "bootstrap_data_two = bootstrap(target_valid_data_two, predicted_valid_data_two)\n",
    "\n",
    "print(bootstrap_data_zero.shape)\n",
    "print(bootstrap_data_one.shape)\n",
    "print(bootstrap_data_two.shape)"
   ]
  },
  {
   "attachments": {},
   "cell_type": "markdown",
   "metadata": {},
   "source": [
    "Напишем функцию, которая:\n",
    "- расчитывает среднюю добыбычу по региону\n",
    "- найдем 95% доверительный интервал\n",
    "- найдем вероятность того что будет убыток (прибыль равна нулю и меньше)\n"
   ]
  },
  {
   "cell_type": "code",
   "execution_count": 45,
   "metadata": {},
   "outputs": [],
   "source": [
    "def stats(data):\n",
    "    \n",
    "    print(\"Средняя прибыль:\", data.mean())\n",
    "\n",
    "    print(\"95%-й Доверительный интервал:\", data.quantile(0.025), '-', data.quantile(0.975))\n",
    "\n",
    "    print(\"Риск убытков:\", st.percentileofscore(data, 0), '%') # находим какой обхем данных в % лежит ниже 0\n",
    "    "
   ]
  },
  {
   "attachments": {},
   "cell_type": "markdown",
   "metadata": {},
   "source": [
    "Применим функцию к данным собранныс помощью bootstrap."
   ]
  },
  {
   "cell_type": "code",
   "execution_count": 46,
   "metadata": {},
   "outputs": [
    {
     "name": "stdout",
     "output_type": "stream",
     "text": [
      "Регион 0:\n",
      "Средняя прибыль: 396.1649848023711\n",
      "95%-й Доверительный интервал: -111.21554589049526 - 909.7669415534225\n",
      "Риск убытков: 6.9 %\n"
     ]
    }
   ],
   "source": [
    "print(\"Регион 0:\")\n",
    "stats(bootstrap_data_zero)"
   ]
  },
  {
   "cell_type": "code",
   "execution_count": 47,
   "metadata": {},
   "outputs": [
    {
     "name": "stdout",
     "output_type": "stream",
     "text": [
      "Регион 1:\n",
      "Средняя прибыль: 456.04510578666077\n",
      "95%-й Доверительный интервал: 33.820509398983624 - 852.2894538660361\n",
      "Риск убытков: 1.5 %\n"
     ]
    }
   ],
   "source": [
    "print(\"Регион 1:\")\n",
    "stats(bootstrap_data_one)"
   ]
  },
  {
   "cell_type": "code",
   "execution_count": 48,
   "metadata": {},
   "outputs": [
    {
     "name": "stdout",
     "output_type": "stream",
     "text": [
      "Регион 2:\n",
      "Средняя прибыль: 404.40386656835676\n",
      "95%-й Доверительный интервал: -163.3504133956011 - 950.3595749237995\n",
      "Риск убытков: 7.6000000000000005 %\n"
     ]
    }
   ],
   "source": [
    "print(\"Регион 2:\")\n",
    "stats(bootstrap_data_two)"
   ]
  },
  {
   "attachments": {},
   "cell_type": "markdown",
   "metadata": {},
   "source": [
    "Соберем данные в единую таблицу для удобства анализа."
   ]
  },
  {
   "cell_type": "code",
   "execution_count": 49,
   "metadata": {},
   "outputs": [
    {
     "data": {
      "text/html": [
       "<style type=\"text/css\">\n",
       "</style>\n",
       "<table id=\"T_86a30\">\n",
       "  <thead>\n",
       "    <tr>\n",
       "      <th id=\"T_86a30_level0_col0\" class=\"col_heading level0 col0\" >Регион</th>\n",
       "      <th id=\"T_86a30_level0_col1\" class=\"col_heading level0 col1\" >Средняя прибыль</th>\n",
       "      <th id=\"T_86a30_level0_col2\" class=\"col_heading level0 col2\" >2.5% квантиль:</th>\n",
       "      <th id=\"T_86a30_level0_col3\" class=\"col_heading level0 col3\" >97.5% квантиль:</th>\n",
       "      <th id=\"T_86a30_level0_col4\" class=\"col_heading level0 col4\" >Риск убытков:</th>\n",
       "    </tr>\n",
       "  </thead>\n",
       "  <tbody>\n",
       "    <tr>\n",
       "      <td id=\"T_86a30_row0_col0\" class=\"data row0 col0\" >Регион 0</td>\n",
       "      <td id=\"T_86a30_row0_col1\" class=\"data row0 col1\" >365</td>\n",
       "      <td id=\"T_86a30_row0_col2\" class=\"data row0 col2\" >-164</td>\n",
       "      <td id=\"T_86a30_row0_col3\" class=\"data row0 col3\" >888</td>\n",
       "      <td id=\"T_86a30_row0_col4\" class=\"data row0 col4\" >9.1%</td>\n",
       "    </tr>\n",
       "    <tr>\n",
       "      <td id=\"T_86a30_row1_col0\" class=\"data row1 col0\" >Регион 1</td>\n",
       "      <td id=\"T_86a30_row1_col1\" class=\"data row1 col1\" >443</td>\n",
       "      <td id=\"T_86a30_row1_col2\" class=\"data row1 col2\" >-4</td>\n",
       "      <td id=\"T_86a30_row1_col3\" class=\"data row1 col3\" >889</td>\n",
       "      <td id=\"T_86a30_row1_col4\" class=\"data row1 col4\" >2.7%</td>\n",
       "    </tr>\n",
       "    <tr>\n",
       "      <td id=\"T_86a30_row2_col0\" class=\"data row2 col0\" >Регион 2</td>\n",
       "      <td id=\"T_86a30_row2_col1\" class=\"data row2 col1\" >315</td>\n",
       "      <td id=\"T_86a30_row2_col2\" class=\"data row2 col2\" >-204</td>\n",
       "      <td id=\"T_86a30_row2_col3\" class=\"data row2 col3\" >850</td>\n",
       "      <td id=\"T_86a30_row2_col4\" class=\"data row2 col4\" >13.0%</td>\n",
       "    </tr>\n",
       "  </tbody>\n",
       "</table>\n"
      ],
      "text/plain": [
       "<pandas.io.formats.style.Styler at 0x28c516a50>"
      ]
     },
     "execution_count": 49,
     "metadata": {},
     "output_type": "execute_result"
    }
   ],
   "source": [
    "df = {'Регион': ['Регион 0', 'Регион 1', 'Регион 2'],\n",
    "     'Средняя прибыль': [365, 443, 315], \n",
    "     '2.5% квантиль:': [-164, -4, -204],\n",
    "     '97.5% квантиль:': [888, 889, 850],\n",
    "     'Риск убытков:' : ['9.1%', '2.7%', '13.0%']}\n",
    "stat_df = pd.DataFrame(data=df)\n",
    "stat_df.style.hide_index()"
   ]
  },
  {
   "attachments": {},
   "cell_type": "markdown",
   "metadata": {},
   "source": [
    "Вывод:\n",
    "- С учетом полученных данных, наивысший риск убытка по 2ому региону, наименьший по 1ому. Максимальные значения по регионам плюс минус равны, а вот отрицательных значений по прибыли больше всего во 2ому региону. Средняя прибыль выше всего в 1ом регионе.\n",
    "- Учитывая, что ML наилучшим образом описывает именно 1ый регион (в этом регионе признак f2 сильно коррелирует с целевым признаком).\n",
    "- Учитывая вышеизложенное: наименьшие риски, вероятная прибыльность скважин и высокая уверенность в прогнозах по региону указывают на 1ый регион, хотя первично собранные данные о среднем объеме запасов и расчете прибыли с лучших 200 скважин, говорили, как раз в пользу других регионов."
   ]
  }
 ],
 "metadata": {
  "ExecuteTimeLog": [
   {
    "duration": 408,
    "start_time": "2022-12-10T13:34:15.343Z"
   },
   {
    "duration": 3,
    "start_time": "2022-12-10T13:34:42.449Z"
   },
   {
    "duration": 1650,
    "start_time": "2022-12-10T13:36:25.738Z"
   },
   {
    "duration": 374,
    "start_time": "2022-12-10T13:36:43.266Z"
   },
   {
    "duration": 17,
    "start_time": "2022-12-10T13:39:26.384Z"
   },
   {
    "duration": 10,
    "start_time": "2022-12-10T13:39:45.412Z"
   },
   {
    "duration": 10,
    "start_time": "2022-12-10T13:39:45.784Z"
   },
   {
    "duration": 15,
    "start_time": "2022-12-10T13:41:23.762Z"
   },
   {
    "duration": 14,
    "start_time": "2022-12-10T13:41:24.468Z"
   },
   {
    "duration": 23,
    "start_time": "2022-12-10T13:41:25.019Z"
   },
   {
    "duration": 62,
    "start_time": "2022-12-10T13:48:41.141Z"
   },
   {
    "duration": 3,
    "start_time": "2022-12-10T13:48:47.550Z"
   },
   {
    "duration": 384,
    "start_time": "2022-12-10T13:48:48.103Z"
   },
   {
    "duration": 9,
    "start_time": "2022-12-10T13:48:48.769Z"
   },
   {
    "duration": 9,
    "start_time": "2022-12-10T13:48:48.852Z"
   },
   {
    "duration": 9,
    "start_time": "2022-12-10T13:48:48.938Z"
   },
   {
    "duration": 22,
    "start_time": "2022-12-10T13:48:49.018Z"
   },
   {
    "duration": 19,
    "start_time": "2022-12-10T13:48:49.102Z"
   },
   {
    "duration": 16,
    "start_time": "2022-12-10T13:48:49.185Z"
   },
   {
    "duration": 47,
    "start_time": "2022-12-10T13:48:49.352Z"
   },
   {
    "duration": 131,
    "start_time": "2022-12-10T13:50:14.950Z"
   },
   {
    "duration": 131,
    "start_time": "2022-12-10T13:50:31.864Z"
   },
   {
    "duration": 37,
    "start_time": "2022-12-10T13:53:17.464Z"
   },
   {
    "duration": 33,
    "start_time": "2022-12-10T13:53:38.182Z"
   },
   {
    "duration": 47,
    "start_time": "2022-12-10T13:53:38.592Z"
   },
   {
    "duration": 36,
    "start_time": "2022-12-10T13:54:00.070Z"
   },
   {
    "duration": 39,
    "start_time": "2022-12-10T13:54:02.102Z"
   },
   {
    "duration": 44,
    "start_time": "2022-12-10T13:54:02.497Z"
   },
   {
    "duration": 960,
    "start_time": "2022-12-10T14:04:34.356Z"
   },
   {
    "duration": 62,
    "start_time": "2022-12-10T14:14:34.891Z"
   },
   {
    "duration": 433,
    "start_time": "2022-12-10T14:14:44.119Z"
   },
   {
    "duration": 297,
    "start_time": "2022-12-10T14:15:25.142Z"
   },
   {
    "duration": 14,
    "start_time": "2022-12-10T14:16:48.797Z"
   },
   {
    "duration": 18,
    "start_time": "2022-12-10T14:18:02.796Z"
   },
   {
    "duration": 17,
    "start_time": "2022-12-10T14:18:13.449Z"
   },
   {
    "duration": 1181,
    "start_time": "2022-12-10T14:19:21.920Z"
   },
   {
    "duration": 424,
    "start_time": "2022-12-10T14:19:23.103Z"
   },
   {
    "duration": 17,
    "start_time": "2022-12-10T14:19:23.528Z"
   },
   {
    "duration": 12,
    "start_time": "2022-12-10T14:19:23.547Z"
   },
   {
    "duration": 17,
    "start_time": "2022-12-10T14:19:23.562Z"
   },
   {
    "duration": 28,
    "start_time": "2022-12-10T14:19:23.581Z"
   },
   {
    "duration": 24,
    "start_time": "2022-12-10T14:19:23.611Z"
   },
   {
    "duration": 21,
    "start_time": "2022-12-10T14:19:23.636Z"
   },
   {
    "duration": 201,
    "start_time": "2022-12-10T14:19:23.659Z"
   },
   {
    "duration": 46,
    "start_time": "2022-12-10T14:19:23.862Z"
   },
   {
    "duration": 52,
    "start_time": "2022-12-10T14:19:23.910Z"
   },
   {
    "duration": 41,
    "start_time": "2022-12-10T14:19:23.964Z"
   },
   {
    "duration": 16,
    "start_time": "2022-12-10T14:19:24.007Z"
   },
   {
    "duration": 49,
    "start_time": "2022-12-10T14:28:43.352Z"
   },
   {
    "duration": 1188,
    "start_time": "2022-12-10T14:29:02.702Z"
   },
   {
    "duration": 1646,
    "start_time": "2022-12-10T14:29:03.893Z"
   },
   {
    "duration": 14,
    "start_time": "2022-12-10T14:29:05.540Z"
   },
   {
    "duration": 30,
    "start_time": "2022-12-10T14:29:05.556Z"
   },
   {
    "duration": 33,
    "start_time": "2022-12-10T14:29:05.588Z"
   },
   {
    "duration": 38,
    "start_time": "2022-12-10T14:29:05.623Z"
   },
   {
    "duration": 36,
    "start_time": "2022-12-10T14:29:05.662Z"
   },
   {
    "duration": 37,
    "start_time": "2022-12-10T14:29:05.700Z"
   },
   {
    "duration": 161,
    "start_time": "2022-12-10T14:29:05.739Z"
   },
   {
    "duration": 50,
    "start_time": "2022-12-10T14:29:05.902Z"
   },
   {
    "duration": 35,
    "start_time": "2022-12-10T14:29:05.953Z"
   },
   {
    "duration": 55,
    "start_time": "2022-12-10T14:29:05.991Z"
   },
   {
    "duration": 3,
    "start_time": "2022-12-10T14:29:06.048Z"
   },
   {
    "duration": 1552,
    "start_time": "2022-12-10T14:29:26.292Z"
   },
   {
    "duration": 418,
    "start_time": "2022-12-10T14:29:27.847Z"
   },
   {
    "duration": 17,
    "start_time": "2022-12-10T14:29:28.267Z"
   },
   {
    "duration": 12,
    "start_time": "2022-12-10T14:29:28.285Z"
   },
   {
    "duration": 27,
    "start_time": "2022-12-10T14:29:28.300Z"
   },
   {
    "duration": 23,
    "start_time": "2022-12-10T14:29:28.329Z"
   },
   {
    "duration": 274,
    "start_time": "2022-12-10T14:29:28.354Z"
   },
   {
    "duration": 16,
    "start_time": "2022-12-10T14:29:28.630Z"
   },
   {
    "duration": 204,
    "start_time": "2022-12-10T14:29:28.648Z"
   },
   {
    "duration": 54,
    "start_time": "2022-12-10T14:29:28.854Z"
   },
   {
    "duration": 63,
    "start_time": "2022-12-10T14:29:28.911Z"
   },
   {
    "duration": 66,
    "start_time": "2022-12-10T14:29:28.976Z"
   },
   {
    "duration": 3,
    "start_time": "2022-12-10T14:29:29.044Z"
   },
   {
    "duration": 7,
    "start_time": "2022-12-10T14:29:29.050Z"
   },
   {
    "duration": 865,
    "start_time": "2022-12-10T14:29:29.059Z"
   },
   {
    "duration": 661,
    "start_time": "2022-12-10T14:29:49.262Z"
   },
   {
    "duration": 592,
    "start_time": "2022-12-10T14:29:55.677Z"
   },
   {
    "duration": 598,
    "start_time": "2022-12-10T14:30:14.991Z"
   },
   {
    "duration": 666,
    "start_time": "2022-12-10T14:30:22.408Z"
   },
   {
    "duration": 109,
    "start_time": "2022-12-10T14:30:27.562Z"
   },
   {
    "duration": 591,
    "start_time": "2022-12-10T14:30:34.738Z"
   },
   {
    "duration": 600,
    "start_time": "2022-12-10T14:31:13.159Z"
   },
   {
    "duration": 92,
    "start_time": "2022-12-10T14:33:36.420Z"
   },
   {
    "duration": 602,
    "start_time": "2022-12-10T14:33:41.247Z"
   },
   {
    "duration": 629,
    "start_time": "2022-12-10T14:33:55.821Z"
   },
   {
    "duration": 696,
    "start_time": "2022-12-10T14:34:12.988Z"
   },
   {
    "duration": 15,
    "start_time": "2022-12-10T14:35:33.766Z"
   },
   {
    "duration": 634,
    "start_time": "2022-12-10T14:35:46.055Z"
   },
   {
    "duration": 595,
    "start_time": "2022-12-10T14:35:52.251Z"
   },
   {
    "duration": 619,
    "start_time": "2022-12-10T14:36:00.093Z"
   },
   {
    "duration": 670,
    "start_time": "2022-12-10T14:36:54.178Z"
   },
   {
    "duration": 629,
    "start_time": "2022-12-10T14:36:56.797Z"
   },
   {
    "duration": 25,
    "start_time": "2022-12-10T15:05:34.854Z"
   },
   {
    "duration": 14,
    "start_time": "2022-12-10T15:06:21.072Z"
   },
   {
    "duration": 10,
    "start_time": "2022-12-10T15:19:53.554Z"
   },
   {
    "duration": 9,
    "start_time": "2022-12-10T15:20:11.952Z"
   },
   {
    "duration": 9,
    "start_time": "2022-12-10T15:21:38.855Z"
   },
   {
    "duration": 1342,
    "start_time": "2022-12-11T11:30:32.496Z"
   },
   {
    "duration": 2956,
    "start_time": "2022-12-11T11:30:34.444Z"
   },
   {
    "duration": 15,
    "start_time": "2022-12-11T11:30:37.403Z"
   },
   {
    "duration": 10,
    "start_time": "2022-12-11T11:30:37.419Z"
   },
   {
    "duration": 18,
    "start_time": "2022-12-11T11:30:37.431Z"
   },
   {
    "duration": 21,
    "start_time": "2022-12-11T11:30:37.895Z"
   },
   {
    "duration": 15,
    "start_time": "2022-12-11T11:30:38.145Z"
   },
   {
    "duration": 16,
    "start_time": "2022-12-11T11:30:38.365Z"
   },
   {
    "duration": 165,
    "start_time": "2022-12-11T11:30:38.898Z"
   },
   {
    "duration": 11,
    "start_time": "2022-12-11T11:30:39.141Z"
   },
   {
    "duration": 48,
    "start_time": "2022-12-11T11:30:39.923Z"
   },
   {
    "duration": 47,
    "start_time": "2022-12-11T11:30:40.173Z"
   },
   {
    "duration": 40,
    "start_time": "2022-12-11T11:30:40.425Z"
   },
   {
    "duration": 668,
    "start_time": "2022-12-11T11:30:40.662Z"
   },
   {
    "duration": 599,
    "start_time": "2022-12-11T11:30:41.331Z"
   },
   {
    "duration": 660,
    "start_time": "2022-12-11T11:30:41.932Z"
   },
   {
    "duration": 18,
    "start_time": "2022-12-11T11:30:43.125Z"
   },
   {
    "duration": 15,
    "start_time": "2022-12-11T12:12:10.904Z"
   },
   {
    "duration": 15,
    "start_time": "2022-12-11T12:12:38.112Z"
   },
   {
    "duration": 13,
    "start_time": "2022-12-11T12:13:56.233Z"
   },
   {
    "duration": 14,
    "start_time": "2022-12-11T12:13:58.855Z"
   },
   {
    "duration": 16,
    "start_time": "2022-12-11T12:14:01.429Z"
   },
   {
    "duration": 14,
    "start_time": "2022-12-11T12:14:16.784Z"
   },
   {
    "duration": 3,
    "start_time": "2022-12-11T12:43:10.430Z"
   },
   {
    "duration": 113,
    "start_time": "2022-12-11T12:43:54.556Z"
   },
   {
    "duration": 4,
    "start_time": "2022-12-11T12:47:22.969Z"
   },
   {
    "duration": 18,
    "start_time": "2022-12-11T12:47:23.504Z"
   },
   {
    "duration": 2,
    "start_time": "2022-12-11T13:05:07.301Z"
   },
   {
    "duration": 76,
    "start_time": "2022-12-11T13:09:02.372Z"
   },
   {
    "duration": 17,
    "start_time": "2022-12-11T13:09:02.637Z"
   },
   {
    "duration": 4,
    "start_time": "2022-12-11T13:09:51.670Z"
   },
   {
    "duration": 17,
    "start_time": "2022-12-11T13:09:52.737Z"
   },
   {
    "duration": 4,
    "start_time": "2022-12-11T13:14:20.893Z"
   },
   {
    "duration": 19,
    "start_time": "2022-12-11T13:14:21.744Z"
   },
   {
    "duration": 71,
    "start_time": "2022-12-11T13:14:41.424Z"
   },
   {
    "duration": 3,
    "start_time": "2022-12-11T13:14:48.795Z"
   },
   {
    "duration": 19,
    "start_time": "2022-12-11T13:14:49.589Z"
   },
   {
    "duration": 5,
    "start_time": "2022-12-11T13:15:32.347Z"
   },
   {
    "duration": 15,
    "start_time": "2022-12-11T13:15:32.976Z"
   },
   {
    "duration": 4,
    "start_time": "2022-12-11T13:16:01.059Z"
   },
   {
    "duration": 54,
    "start_time": "2022-12-11T13:16:01.394Z"
   },
   {
    "duration": 4,
    "start_time": "2022-12-11T13:16:13.632Z"
   },
   {
    "duration": 55,
    "start_time": "2022-12-11T13:16:14.345Z"
   },
   {
    "duration": 4,
    "start_time": "2022-12-11T13:16:31.951Z"
   },
   {
    "duration": 45,
    "start_time": "2022-12-11T13:16:32.737Z"
   },
   {
    "duration": 4,
    "start_time": "2022-12-11T13:17:02.329Z"
   },
   {
    "duration": 53,
    "start_time": "2022-12-11T13:17:02.679Z"
   },
   {
    "duration": 4,
    "start_time": "2022-12-11T13:24:06.005Z"
   },
   {
    "duration": 22,
    "start_time": "2022-12-11T13:24:06.842Z"
   },
   {
    "duration": 4,
    "start_time": "2022-12-11T13:46:14.164Z"
   },
   {
    "duration": 20,
    "start_time": "2022-12-11T13:46:14.798Z"
   },
   {
    "duration": 60,
    "start_time": "2022-12-11T13:51:50.441Z"
   },
   {
    "duration": 1146,
    "start_time": "2022-12-11T13:53:00.104Z"
   },
   {
    "duration": 354,
    "start_time": "2022-12-11T13:53:01.264Z"
   },
   {
    "duration": 13,
    "start_time": "2022-12-11T13:53:01.620Z"
   },
   {
    "duration": 13,
    "start_time": "2022-12-11T13:53:01.634Z"
   },
   {
    "duration": 14,
    "start_time": "2022-12-11T13:53:01.649Z"
   },
   {
    "duration": 27,
    "start_time": "2022-12-11T13:53:01.665Z"
   },
   {
    "duration": 13,
    "start_time": "2022-12-11T13:53:01.694Z"
   },
   {
    "duration": 13,
    "start_time": "2022-12-11T13:53:01.709Z"
   },
   {
    "duration": 157,
    "start_time": "2022-12-11T13:53:01.724Z"
   },
   {
    "duration": 37,
    "start_time": "2022-12-11T13:53:01.882Z"
   },
   {
    "duration": 64,
    "start_time": "2022-12-11T13:53:01.921Z"
   },
   {
    "duration": 39,
    "start_time": "2022-12-11T13:53:01.986Z"
   },
   {
    "duration": 649,
    "start_time": "2022-12-11T13:53:02.027Z"
   },
   {
    "duration": 577,
    "start_time": "2022-12-11T13:53:02.679Z"
   },
   {
    "duration": 575,
    "start_time": "2022-12-11T13:53:03.258Z"
   },
   {
    "duration": 181,
    "start_time": "2022-12-11T13:53:03.835Z"
   },
   {
    "duration": 0,
    "start_time": "2022-12-11T13:53:04.019Z"
   },
   {
    "duration": 0,
    "start_time": "2022-12-11T13:53:04.020Z"
   },
   {
    "duration": 0,
    "start_time": "2022-12-11T13:53:04.022Z"
   },
   {
    "duration": 0,
    "start_time": "2022-12-11T13:53:04.023Z"
   },
   {
    "duration": 0,
    "start_time": "2022-12-11T13:53:04.025Z"
   },
   {
    "duration": 0,
    "start_time": "2022-12-11T13:53:04.026Z"
   },
   {
    "duration": 0,
    "start_time": "2022-12-11T13:53:04.028Z"
   },
   {
    "duration": 18,
    "start_time": "2022-12-11T13:53:27.577Z"
   },
   {
    "duration": 68,
    "start_time": "2022-12-11T13:53:47.976Z"
   },
   {
    "duration": 58,
    "start_time": "2022-12-11T13:54:08.438Z"
   },
   {
    "duration": 66,
    "start_time": "2022-12-11T13:55:25.550Z"
   },
   {
    "duration": 53,
    "start_time": "2022-12-11T13:56:14.820Z"
   },
   {
    "duration": 54,
    "start_time": "2022-12-11T13:57:35.586Z"
   },
   {
    "duration": 72,
    "start_time": "2022-12-11T13:57:44.093Z"
   },
   {
    "duration": 114,
    "start_time": "2022-12-11T13:58:25.715Z"
   },
   {
    "duration": 66,
    "start_time": "2022-12-11T13:58:50.575Z"
   },
   {
    "duration": 64,
    "start_time": "2022-12-11T13:59:14.784Z"
   },
   {
    "duration": 17,
    "start_time": "2022-12-11T14:02:20.789Z"
   },
   {
    "duration": 37,
    "start_time": "2022-12-11T14:03:13.216Z"
   },
   {
    "duration": 4,
    "start_time": "2022-12-11T14:18:47.918Z"
   },
   {
    "duration": 34,
    "start_time": "2022-12-11T14:19:26.381Z"
   },
   {
    "duration": 4,
    "start_time": "2022-12-11T14:19:46.719Z"
   },
   {
    "duration": 30,
    "start_time": "2022-12-11T14:19:47.682Z"
   },
   {
    "duration": 10,
    "start_time": "2022-12-11T14:21:10.695Z"
   },
   {
    "duration": 5,
    "start_time": "2022-12-11T14:21:13.662Z"
   },
   {
    "duration": 12,
    "start_time": "2022-12-11T14:21:13.952Z"
   },
   {
    "duration": 11,
    "start_time": "2022-12-11T14:21:22.052Z"
   },
   {
    "duration": 3,
    "start_time": "2022-12-11T14:26:38.794Z"
   },
   {
    "duration": 8,
    "start_time": "2022-12-11T14:26:39.997Z"
   },
   {
    "duration": 10,
    "start_time": "2022-12-11T14:26:57.506Z"
   },
   {
    "duration": 11,
    "start_time": "2022-12-11T14:27:04.655Z"
   },
   {
    "duration": 3,
    "start_time": "2022-12-11T14:27:14.071Z"
   },
   {
    "duration": 9,
    "start_time": "2022-12-11T14:27:14.854Z"
   },
   {
    "duration": 2,
    "start_time": "2022-12-11T14:27:26.463Z"
   },
   {
    "duration": 9,
    "start_time": "2022-12-11T14:27:27.063Z"
   },
   {
    "duration": 3,
    "start_time": "2022-12-11T14:27:38.565Z"
   },
   {
    "duration": 9,
    "start_time": "2022-12-11T14:27:39.376Z"
   },
   {
    "duration": 4,
    "start_time": "2022-12-11T14:29:42.089Z"
   },
   {
    "duration": 3,
    "start_time": "2022-12-11T14:29:42.414Z"
   },
   {
    "duration": 8,
    "start_time": "2022-12-11T14:29:43.076Z"
   },
   {
    "duration": 9,
    "start_time": "2022-12-11T15:01:12.615Z"
   },
   {
    "duration": 10,
    "start_time": "2022-12-11T15:01:32.643Z"
   },
   {
    "duration": 5,
    "start_time": "2022-12-11T15:04:41.374Z"
   },
   {
    "duration": 4,
    "start_time": "2022-12-11T15:05:58.571Z"
   },
   {
    "duration": 5,
    "start_time": "2022-12-11T15:07:00.920Z"
   },
   {
    "duration": 32,
    "start_time": "2022-12-11T15:07:01.447Z"
   },
   {
    "duration": 4,
    "start_time": "2022-12-11T15:07:19.271Z"
   },
   {
    "duration": 42,
    "start_time": "2022-12-11T15:07:20.138Z"
   },
   {
    "duration": 4,
    "start_time": "2022-12-11T15:07:39.372Z"
   },
   {
    "duration": 4,
    "start_time": "2022-12-11T15:07:43.511Z"
   },
   {
    "duration": 30,
    "start_time": "2022-12-11T15:07:44.711Z"
   },
   {
    "duration": 4,
    "start_time": "2022-12-11T15:07:49.678Z"
   },
   {
    "duration": 30,
    "start_time": "2022-12-11T15:07:49.937Z"
   },
   {
    "duration": 10,
    "start_time": "2022-12-11T15:13:54.698Z"
   },
   {
    "duration": 4,
    "start_time": "2022-12-11T15:18:40.797Z"
   },
   {
    "duration": 31,
    "start_time": "2022-12-11T15:18:41.535Z"
   },
   {
    "duration": 126,
    "start_time": "2022-12-11T15:20:24.248Z"
   },
   {
    "duration": 142,
    "start_time": "2022-12-11T15:21:30.633Z"
   },
   {
    "duration": 10,
    "start_time": "2022-12-11T15:38:58.803Z"
   },
   {
    "duration": 24,
    "start_time": "2022-12-11T15:39:26.557Z"
   },
   {
    "duration": 19,
    "start_time": "2022-12-11T15:39:31.322Z"
   },
   {
    "duration": 4,
    "start_time": "2022-12-11T15:39:48.916Z"
   },
   {
    "duration": 74,
    "start_time": "2022-12-11T15:41:10.608Z"
   },
   {
    "duration": 1321,
    "start_time": "2022-12-12T07:47:48.284Z"
   },
   {
    "duration": 1535,
    "start_time": "2022-12-12T07:47:49.607Z"
   },
   {
    "duration": 14,
    "start_time": "2022-12-12T07:47:51.144Z"
   },
   {
    "duration": 10,
    "start_time": "2022-12-12T07:47:51.160Z"
   },
   {
    "duration": 12,
    "start_time": "2022-12-12T07:47:51.172Z"
   },
   {
    "duration": 17,
    "start_time": "2022-12-12T07:47:51.186Z"
   },
   {
    "duration": 14,
    "start_time": "2022-12-12T07:47:51.205Z"
   },
   {
    "duration": 13,
    "start_time": "2022-12-12T07:47:51.220Z"
   },
   {
    "duration": 157,
    "start_time": "2022-12-12T07:47:51.234Z"
   },
   {
    "duration": 36,
    "start_time": "2022-12-12T07:47:51.394Z"
   },
   {
    "duration": 47,
    "start_time": "2022-12-12T07:47:51.432Z"
   },
   {
    "duration": 32,
    "start_time": "2022-12-12T07:47:51.480Z"
   },
   {
    "duration": 569,
    "start_time": "2022-12-12T07:47:51.513Z"
   },
   {
    "duration": 559,
    "start_time": "2022-12-12T07:47:52.083Z"
   },
   {
    "duration": 585,
    "start_time": "2022-12-12T07:47:52.644Z"
   },
   {
    "duration": 16,
    "start_time": "2022-12-12T07:47:53.230Z"
   },
   {
    "duration": 9,
    "start_time": "2022-12-12T07:47:53.247Z"
   },
   {
    "duration": 154,
    "start_time": "2022-12-12T07:47:53.258Z"
   },
   {
    "duration": 28,
    "start_time": "2022-12-12T07:47:53.414Z"
   },
   {
    "duration": 3,
    "start_time": "2022-12-12T07:47:53.444Z"
   },
   {
    "duration": 91,
    "start_time": "2022-12-12T07:47:53.449Z"
   },
   {
    "duration": 3,
    "start_time": "2022-12-12T07:47:53.543Z"
   },
   {
    "duration": 103,
    "start_time": "2022-12-12T07:47:53.548Z"
   },
   {
    "duration": 0,
    "start_time": "2022-12-12T07:47:53.652Z"
   },
   {
    "duration": 0,
    "start_time": "2022-12-12T07:47:53.654Z"
   },
   {
    "duration": 0,
    "start_time": "2022-12-12T07:47:53.655Z"
   },
   {
    "duration": 0,
    "start_time": "2022-12-12T07:47:53.656Z"
   },
   {
    "duration": 0,
    "start_time": "2022-12-12T07:47:53.657Z"
   },
   {
    "duration": 0,
    "start_time": "2022-12-12T07:47:53.658Z"
   },
   {
    "duration": 0,
    "start_time": "2022-12-12T07:47:53.659Z"
   },
   {
    "duration": 0,
    "start_time": "2022-12-12T07:47:53.660Z"
   },
   {
    "duration": 0,
    "start_time": "2022-12-12T07:47:53.678Z"
   },
   {
    "duration": 0,
    "start_time": "2022-12-12T07:47:53.680Z"
   },
   {
    "duration": 0,
    "start_time": "2022-12-12T07:47:53.681Z"
   },
   {
    "duration": 3,
    "start_time": "2022-12-12T07:48:34.148Z"
   },
   {
    "duration": 165,
    "start_time": "2022-12-12T07:48:34.652Z"
   },
   {
    "duration": 4,
    "start_time": "2022-12-12T07:49:02.858Z"
   },
   {
    "duration": 40,
    "start_time": "2022-12-12T07:49:04.388Z"
   },
   {
    "duration": 5,
    "start_time": "2022-12-12T07:50:26.269Z"
   },
   {
    "duration": 174,
    "start_time": "2022-12-12T07:50:26.812Z"
   },
   {
    "duration": 4,
    "start_time": "2022-12-12T07:51:57.520Z"
   },
   {
    "duration": 164,
    "start_time": "2022-12-12T07:51:58.408Z"
   },
   {
    "duration": 4,
    "start_time": "2022-12-12T07:52:14.791Z"
   },
   {
    "duration": 5,
    "start_time": "2022-12-12T07:57:46.671Z"
   },
   {
    "duration": 175,
    "start_time": "2022-12-12T07:57:47.241Z"
   },
   {
    "duration": 4,
    "start_time": "2022-12-12T07:58:20.446Z"
   },
   {
    "duration": 162,
    "start_time": "2022-12-12T07:58:20.984Z"
   },
   {
    "duration": 3,
    "start_time": "2022-12-12T08:01:43.281Z"
   },
   {
    "duration": 5,
    "start_time": "2022-12-12T08:01:45.022Z"
   },
   {
    "duration": 143,
    "start_time": "2022-12-12T08:01:46.231Z"
   },
   {
    "duration": 3,
    "start_time": "2022-12-12T08:02:36.229Z"
   },
   {
    "duration": 4,
    "start_time": "2022-12-12T08:02:36.753Z"
   },
   {
    "duration": 148,
    "start_time": "2022-12-12T08:02:37.147Z"
   },
   {
    "duration": 4,
    "start_time": "2022-12-12T08:03:22.476Z"
   },
   {
    "duration": 4,
    "start_time": "2022-12-12T08:03:22.891Z"
   },
   {
    "duration": 42,
    "start_time": "2022-12-12T08:03:23.415Z"
   },
   {
    "duration": 5,
    "start_time": "2022-12-12T08:03:29.022Z"
   },
   {
    "duration": 182,
    "start_time": "2022-12-12T08:03:29.900Z"
   },
   {
    "duration": 4,
    "start_time": "2022-12-12T08:07:36.041Z"
   },
   {
    "duration": 128,
    "start_time": "2022-12-12T08:07:36.588Z"
   },
   {
    "duration": 7,
    "start_time": "2022-12-12T08:55:53.215Z"
   },
   {
    "duration": 4,
    "start_time": "2022-12-12T08:55:55.360Z"
   },
   {
    "duration": 35,
    "start_time": "2022-12-12T08:55:55.772Z"
   },
   {
    "duration": 28,
    "start_time": "2022-12-12T08:57:03.799Z"
   },
   {
    "duration": 4,
    "start_time": "2022-12-12T08:57:05.766Z"
   },
   {
    "duration": 28,
    "start_time": "2022-12-12T08:57:06.178Z"
   },
   {
    "duration": 35,
    "start_time": "2022-12-12T08:57:20.052Z"
   },
   {
    "duration": 4,
    "start_time": "2022-12-12T08:57:21.848Z"
   },
   {
    "duration": 37,
    "start_time": "2022-12-12T08:57:22.302Z"
   },
   {
    "duration": 31,
    "start_time": "2022-12-12T08:57:46.692Z"
   },
   {
    "duration": 32,
    "start_time": "2022-12-12T08:59:58.906Z"
   },
   {
    "duration": 5,
    "start_time": "2022-12-12T09:00:35.660Z"
   },
   {
    "duration": 26,
    "start_time": "2022-12-12T09:00:36.128Z"
   },
   {
    "duration": 74,
    "start_time": "2022-12-12T09:01:51.088Z"
   },
   {
    "duration": 4,
    "start_time": "2022-12-12T09:02:06.162Z"
   },
   {
    "duration": 37,
    "start_time": "2022-12-12T09:02:07.069Z"
   },
   {
    "duration": 4,
    "start_time": "2022-12-12T09:03:10.527Z"
   },
   {
    "duration": 34,
    "start_time": "2022-12-12T09:03:11.301Z"
   },
   {
    "duration": 37,
    "start_time": "2022-12-12T09:04:21.714Z"
   },
   {
    "duration": 38,
    "start_time": "2022-12-12T09:05:37.704Z"
   },
   {
    "duration": 39,
    "start_time": "2022-12-12T09:08:26.457Z"
   },
   {
    "duration": 12,
    "start_time": "2022-12-12T09:09:03.508Z"
   },
   {
    "duration": 10,
    "start_time": "2022-12-12T09:29:55.375Z"
   },
   {
    "duration": 18,
    "start_time": "2022-12-12T09:29:55.995Z"
   },
   {
    "duration": 3,
    "start_time": "2022-12-12T09:30:20.193Z"
   },
   {
    "duration": 16,
    "start_time": "2022-12-12T09:30:21.159Z"
   },
   {
    "duration": 4,
    "start_time": "2022-12-12T09:30:57.893Z"
   },
   {
    "duration": 19,
    "start_time": "2022-12-12T09:30:58.310Z"
   },
   {
    "duration": 69,
    "start_time": "2022-12-12T09:38:05.795Z"
   },
   {
    "duration": 9,
    "start_time": "2022-12-12T09:38:18.694Z"
   },
   {
    "duration": 17,
    "start_time": "2022-12-12T09:38:19.094Z"
   },
   {
    "duration": 4,
    "start_time": "2022-12-12T09:38:31.094Z"
   },
   {
    "duration": 16,
    "start_time": "2022-12-12T09:38:31.803Z"
   },
   {
    "duration": 4,
    "start_time": "2022-12-12T09:38:59.348Z"
   },
   {
    "duration": 16,
    "start_time": "2022-12-12T09:39:01.152Z"
   },
   {
    "duration": 1083,
    "start_time": "2022-12-12T09:39:11.326Z"
   },
   {
    "duration": 371,
    "start_time": "2022-12-12T09:39:12.411Z"
   },
   {
    "duration": 14,
    "start_time": "2022-12-12T09:39:12.788Z"
   },
   {
    "duration": 9,
    "start_time": "2022-12-12T09:39:12.803Z"
   },
   {
    "duration": 15,
    "start_time": "2022-12-12T09:39:12.813Z"
   },
   {
    "duration": 21,
    "start_time": "2022-12-12T09:39:12.830Z"
   },
   {
    "duration": 14,
    "start_time": "2022-12-12T09:39:12.852Z"
   },
   {
    "duration": 30,
    "start_time": "2022-12-12T09:39:12.867Z"
   },
   {
    "duration": 139,
    "start_time": "2022-12-12T09:39:12.899Z"
   },
   {
    "duration": 47,
    "start_time": "2022-12-12T09:39:13.041Z"
   },
   {
    "duration": 34,
    "start_time": "2022-12-12T09:39:13.089Z"
   },
   {
    "duration": 33,
    "start_time": "2022-12-12T09:39:13.124Z"
   },
   {
    "duration": 642,
    "start_time": "2022-12-12T09:39:13.158Z"
   },
   {
    "duration": 660,
    "start_time": "2022-12-12T09:39:13.802Z"
   },
   {
    "duration": 602,
    "start_time": "2022-12-12T09:39:14.464Z"
   },
   {
    "duration": 25,
    "start_time": "2022-12-12T09:39:15.068Z"
   },
   {
    "duration": 11,
    "start_time": "2022-12-12T09:39:15.095Z"
   },
   {
    "duration": 19,
    "start_time": "2022-12-12T09:39:15.107Z"
   },
   {
    "duration": 181,
    "start_time": "2022-12-12T09:39:15.128Z"
   },
   {
    "duration": 90,
    "start_time": "2022-12-12T09:39:15.311Z"
   },
   {
    "duration": 0,
    "start_time": "2022-12-12T09:39:15.404Z"
   },
   {
    "duration": 0,
    "start_time": "2022-12-12T09:39:15.405Z"
   },
   {
    "duration": 0,
    "start_time": "2022-12-12T09:39:15.407Z"
   },
   {
    "duration": 0,
    "start_time": "2022-12-12T09:39:15.407Z"
   },
   {
    "duration": 0,
    "start_time": "2022-12-12T09:39:15.409Z"
   },
   {
    "duration": 0,
    "start_time": "2022-12-12T09:39:15.410Z"
   },
   {
    "duration": 0,
    "start_time": "2022-12-12T09:39:15.411Z"
   },
   {
    "duration": 0,
    "start_time": "2022-12-12T09:39:15.413Z"
   },
   {
    "duration": 0,
    "start_time": "2022-12-12T09:39:15.414Z"
   },
   {
    "duration": 0,
    "start_time": "2022-12-12T09:39:15.415Z"
   },
   {
    "duration": 0,
    "start_time": "2022-12-12T09:39:15.417Z"
   },
   {
    "duration": 0,
    "start_time": "2022-12-12T09:39:15.418Z"
   },
   {
    "duration": 0,
    "start_time": "2022-12-12T09:39:15.419Z"
   },
   {
    "duration": 0,
    "start_time": "2022-12-12T09:39:15.421Z"
   },
   {
    "duration": 0,
    "start_time": "2022-12-12T09:39:15.423Z"
   },
   {
    "duration": 0,
    "start_time": "2022-12-12T09:39:15.424Z"
   },
   {
    "duration": 0,
    "start_time": "2022-12-12T09:39:15.426Z"
   },
   {
    "duration": 0,
    "start_time": "2022-12-12T09:39:15.427Z"
   },
   {
    "duration": 0,
    "start_time": "2022-12-12T09:39:15.429Z"
   },
   {
    "duration": 0,
    "start_time": "2022-12-12T09:39:15.431Z"
   },
   {
    "duration": 0,
    "start_time": "2022-12-12T09:39:15.432Z"
   },
   {
    "duration": 0,
    "start_time": "2022-12-12T09:39:15.433Z"
   },
   {
    "duration": 0,
    "start_time": "2022-12-12T09:39:15.434Z"
   },
   {
    "duration": 4,
    "start_time": "2022-12-12T09:39:27.715Z"
   },
   {
    "duration": 112,
    "start_time": "2022-12-12T09:39:28.754Z"
   },
   {
    "duration": 16,
    "start_time": "2022-12-12T09:39:56.594Z"
   },
   {
    "duration": 3,
    "start_time": "2022-12-12T09:40:30.905Z"
   },
   {
    "duration": 18,
    "start_time": "2022-12-12T09:40:31.327Z"
   },
   {
    "duration": 4,
    "start_time": "2022-12-12T09:42:10.637Z"
   },
   {
    "duration": 18,
    "start_time": "2022-12-12T09:42:10.994Z"
   },
   {
    "duration": 4,
    "start_time": "2022-12-12T09:44:25.297Z"
   },
   {
    "duration": 16,
    "start_time": "2022-12-12T09:44:25.796Z"
   },
   {
    "duration": 4,
    "start_time": "2022-12-12T09:47:39.504Z"
   },
   {
    "duration": 18,
    "start_time": "2022-12-12T09:47:42.834Z"
   },
   {
    "duration": 4,
    "start_time": "2022-12-12T09:48:40.454Z"
   },
   {
    "duration": 51,
    "start_time": "2022-12-12T09:48:42.741Z"
   },
   {
    "duration": 74,
    "start_time": "2022-12-12T11:32:02.829Z"
   },
   {
    "duration": 3,
    "start_time": "2022-12-12T11:32:15.083Z"
   },
   {
    "duration": 4,
    "start_time": "2022-12-12T11:33:19.395Z"
   },
   {
    "duration": 45,
    "start_time": "2022-12-12T11:33:23.956Z"
   },
   {
    "duration": 32,
    "start_time": "2022-12-12T11:35:32.523Z"
   },
   {
    "duration": 4,
    "start_time": "2022-12-12T11:35:47.589Z"
   },
   {
    "duration": 32,
    "start_time": "2022-12-12T11:38:13.448Z"
   },
   {
    "duration": 4,
    "start_time": "2022-12-12T11:38:49.339Z"
   },
   {
    "duration": 32,
    "start_time": "2022-12-12T11:38:52.225Z"
   },
   {
    "duration": 42,
    "start_time": "2022-12-12T11:39:28.134Z"
   },
   {
    "duration": 42,
    "start_time": "2022-12-12T11:39:49.107Z"
   },
   {
    "duration": 4,
    "start_time": "2022-12-12T11:39:50.983Z"
   },
   {
    "duration": 37,
    "start_time": "2022-12-12T11:39:53.084Z"
   },
   {
    "duration": 13,
    "start_time": "2022-12-12T11:40:30.223Z"
   },
   {
    "duration": 5,
    "start_time": "2022-12-12T11:40:45.528Z"
   },
   {
    "duration": 6,
    "start_time": "2022-12-12T11:40:51.492Z"
   },
   {
    "duration": 37,
    "start_time": "2022-12-12T11:40:54.522Z"
   },
   {
    "duration": 31,
    "start_time": "2022-12-12T11:41:32.147Z"
   },
   {
    "duration": 33,
    "start_time": "2022-12-12T11:41:56.215Z"
   },
   {
    "duration": 36,
    "start_time": "2022-12-12T11:44:22.250Z"
   },
   {
    "duration": 31,
    "start_time": "2022-12-12T11:44:37.977Z"
   },
   {
    "duration": 40,
    "start_time": "2022-12-12T11:48:42.814Z"
   },
   {
    "duration": 40,
    "start_time": "2022-12-12T11:55:04.522Z"
   },
   {
    "duration": 4,
    "start_time": "2022-12-12T11:57:08.545Z"
   },
   {
    "duration": 44,
    "start_time": "2022-12-12T11:57:09.198Z"
   },
   {
    "duration": 100,
    "start_time": "2022-12-12T12:03:54.787Z"
   },
   {
    "duration": 104,
    "start_time": "2022-12-12T12:05:08.762Z"
   },
   {
    "duration": 1083,
    "start_time": "2022-12-12T12:15:11.130Z"
   },
   {
    "duration": 371,
    "start_time": "2022-12-12T12:15:12.215Z"
   },
   {
    "duration": 12,
    "start_time": "2022-12-12T12:15:12.588Z"
   },
   {
    "duration": 13,
    "start_time": "2022-12-12T12:15:12.602Z"
   },
   {
    "duration": 11,
    "start_time": "2022-12-12T12:15:12.617Z"
   },
   {
    "duration": 18,
    "start_time": "2022-12-12T12:15:12.630Z"
   },
   {
    "duration": 32,
    "start_time": "2022-12-12T12:15:12.650Z"
   },
   {
    "duration": 12,
    "start_time": "2022-12-12T12:15:12.684Z"
   },
   {
    "duration": 151,
    "start_time": "2022-12-12T12:15:12.698Z"
   },
   {
    "duration": 45,
    "start_time": "2022-12-12T12:15:12.851Z"
   },
   {
    "duration": 46,
    "start_time": "2022-12-12T12:15:12.898Z"
   },
   {
    "duration": 50,
    "start_time": "2022-12-12T12:15:12.946Z"
   },
   {
    "duration": 595,
    "start_time": "2022-12-12T12:15:12.998Z"
   },
   {
    "duration": 675,
    "start_time": "2022-12-12T12:15:13.595Z"
   },
   {
    "duration": 626,
    "start_time": "2022-12-12T12:15:14.272Z"
   },
   {
    "duration": 4,
    "start_time": "2022-12-12T12:15:14.900Z"
   },
   {
    "duration": 157,
    "start_time": "2022-12-12T12:15:14.906Z"
   },
   {
    "duration": 14,
    "start_time": "2022-12-12T12:15:15.065Z"
   },
   {
    "duration": 44,
    "start_time": "2022-12-12T12:15:15.080Z"
   },
   {
    "duration": 38,
    "start_time": "2022-12-12T12:15:15.126Z"
   },
   {
    "duration": 104,
    "start_time": "2022-12-12T12:15:15.177Z"
   },
   {
    "duration": 15,
    "start_time": "2022-12-12T12:15:15.283Z"
   },
   {
    "duration": 13,
    "start_time": "2022-12-12T12:17:26.365Z"
   },
   {
    "duration": 19,
    "start_time": "2022-12-12T12:17:47.285Z"
   },
   {
    "duration": 18,
    "start_time": "2022-12-12T12:18:12.724Z"
   },
   {
    "duration": 23,
    "start_time": "2022-12-12T12:18:21.311Z"
   },
   {
    "duration": 32,
    "start_time": "2022-12-12T12:18:31.073Z"
   },
   {
    "duration": 38,
    "start_time": "2022-12-12T12:26:14.155Z"
   },
   {
    "duration": 14,
    "start_time": "2022-12-12T12:44:34.712Z"
   },
   {
    "duration": 17,
    "start_time": "2022-12-12T12:44:49.800Z"
   },
   {
    "duration": 15,
    "start_time": "2022-12-12T12:44:50.157Z"
   },
   {
    "duration": 1158,
    "start_time": "2022-12-12T12:45:36.242Z"
   },
   {
    "duration": 355,
    "start_time": "2022-12-12T12:45:37.403Z"
   },
   {
    "duration": 18,
    "start_time": "2022-12-12T12:45:37.760Z"
   },
   {
    "duration": 31,
    "start_time": "2022-12-12T12:45:37.780Z"
   },
   {
    "duration": 31,
    "start_time": "2022-12-12T12:45:37.813Z"
   },
   {
    "duration": 40,
    "start_time": "2022-12-12T12:45:37.845Z"
   },
   {
    "duration": 13,
    "start_time": "2022-12-12T12:45:37.887Z"
   },
   {
    "duration": 24,
    "start_time": "2022-12-12T12:45:37.902Z"
   },
   {
    "duration": 143,
    "start_time": "2022-12-12T12:45:37.927Z"
   },
   {
    "duration": 19,
    "start_time": "2022-12-12T12:45:38.072Z"
   },
   {
    "duration": 14,
    "start_time": "2022-12-12T12:45:38.092Z"
   },
   {
    "duration": 27,
    "start_time": "2022-12-12T12:45:38.108Z"
   },
   {
    "duration": 51,
    "start_time": "2022-12-12T12:45:38.137Z"
   },
   {
    "duration": 37,
    "start_time": "2022-12-12T12:45:38.191Z"
   },
   {
    "duration": 33,
    "start_time": "2022-12-12T12:45:38.229Z"
   },
   {
    "duration": 633,
    "start_time": "2022-12-12T12:45:38.264Z"
   },
   {
    "duration": 592,
    "start_time": "2022-12-12T12:45:38.899Z"
   },
   {
    "duration": 607,
    "start_time": "2022-12-12T12:45:39.493Z"
   },
   {
    "duration": 82,
    "start_time": "2022-12-12T12:45:40.102Z"
   },
   {
    "duration": 0,
    "start_time": "2022-12-12T12:45:40.186Z"
   },
   {
    "duration": 0,
    "start_time": "2022-12-12T12:45:40.187Z"
   },
   {
    "duration": 0,
    "start_time": "2022-12-12T12:45:40.188Z"
   },
   {
    "duration": 0,
    "start_time": "2022-12-12T12:45:40.189Z"
   },
   {
    "duration": 0,
    "start_time": "2022-12-12T12:45:40.191Z"
   },
   {
    "duration": 0,
    "start_time": "2022-12-12T12:45:40.192Z"
   },
   {
    "duration": 0,
    "start_time": "2022-12-12T12:45:40.193Z"
   },
   {
    "duration": 0,
    "start_time": "2022-12-12T12:45:40.195Z"
   },
   {
    "duration": 1113,
    "start_time": "2022-12-12T12:47:12.841Z"
   },
   {
    "duration": 387,
    "start_time": "2022-12-12T12:47:13.956Z"
   },
   {
    "duration": 17,
    "start_time": "2022-12-12T12:47:14.345Z"
   },
   {
    "duration": 21,
    "start_time": "2022-12-12T12:47:14.365Z"
   },
   {
    "duration": 13,
    "start_time": "2022-12-12T12:47:14.388Z"
   },
   {
    "duration": 27,
    "start_time": "2022-12-12T12:47:14.403Z"
   },
   {
    "duration": 14,
    "start_time": "2022-12-12T12:47:14.432Z"
   },
   {
    "duration": 37,
    "start_time": "2022-12-12T12:47:14.448Z"
   },
   {
    "duration": 141,
    "start_time": "2022-12-12T12:47:14.486Z"
   },
   {
    "duration": 17,
    "start_time": "2022-12-12T12:47:14.630Z"
   },
   {
    "duration": 33,
    "start_time": "2022-12-12T12:47:14.648Z"
   },
   {
    "duration": 15,
    "start_time": "2022-12-12T12:47:14.683Z"
   },
   {
    "duration": 34,
    "start_time": "2022-12-12T12:47:14.699Z"
   },
   {
    "duration": 57,
    "start_time": "2022-12-12T12:47:14.735Z"
   },
   {
    "duration": 33,
    "start_time": "2022-12-12T12:47:14.794Z"
   },
   {
    "duration": 616,
    "start_time": "2022-12-12T12:47:14.828Z"
   },
   {
    "duration": 609,
    "start_time": "2022-12-12T12:47:15.446Z"
   },
   {
    "duration": 605,
    "start_time": "2022-12-12T12:47:16.057Z"
   },
   {
    "duration": 5,
    "start_time": "2022-12-12T12:47:16.663Z"
   },
   {
    "duration": 155,
    "start_time": "2022-12-12T12:47:16.669Z"
   },
   {
    "duration": 3,
    "start_time": "2022-12-12T12:47:16.826Z"
   },
   {
    "duration": 52,
    "start_time": "2022-12-12T12:47:16.831Z"
   },
   {
    "duration": 40,
    "start_time": "2022-12-12T12:47:16.884Z"
   },
   {
    "duration": 111,
    "start_time": "2022-12-12T12:47:16.926Z"
   },
   {
    "duration": 40,
    "start_time": "2022-12-12T12:47:17.039Z"
   },
   {
    "duration": 35,
    "start_time": "2022-12-12T12:47:17.081Z"
   },
   {
    "duration": 14,
    "start_time": "2022-12-12T12:47:17.117Z"
   },
   {
    "duration": 1110,
    "start_time": "2022-12-12T12:49:13.496Z"
   },
   {
    "duration": 360,
    "start_time": "2022-12-12T12:49:14.608Z"
   },
   {
    "duration": 12,
    "start_time": "2022-12-12T12:49:14.970Z"
   },
   {
    "duration": 10,
    "start_time": "2022-12-12T12:49:14.983Z"
   },
   {
    "duration": 19,
    "start_time": "2022-12-12T12:49:14.995Z"
   },
   {
    "duration": 29,
    "start_time": "2022-12-12T12:49:15.016Z"
   },
   {
    "duration": 14,
    "start_time": "2022-12-12T12:49:15.046Z"
   },
   {
    "duration": 18,
    "start_time": "2022-12-12T12:49:15.062Z"
   },
   {
    "duration": 131,
    "start_time": "2022-12-12T12:49:15.082Z"
   },
   {
    "duration": 16,
    "start_time": "2022-12-12T12:49:15.214Z"
   },
   {
    "duration": 14,
    "start_time": "2022-12-12T12:49:15.232Z"
   },
   {
    "duration": 32,
    "start_time": "2022-12-12T12:49:15.248Z"
   },
   {
    "duration": 33,
    "start_time": "2022-12-12T12:49:15.282Z"
   },
   {
    "duration": 32,
    "start_time": "2022-12-12T12:49:15.318Z"
   },
   {
    "duration": 54,
    "start_time": "2022-12-12T12:49:15.352Z"
   },
   {
    "duration": 634,
    "start_time": "2022-12-12T12:49:15.408Z"
   },
   {
    "duration": 550,
    "start_time": "2022-12-12T12:49:16.043Z"
   },
   {
    "duration": 576,
    "start_time": "2022-12-12T12:49:16.595Z"
   },
   {
    "duration": 7,
    "start_time": "2022-12-12T12:49:17.172Z"
   },
   {
    "duration": 149,
    "start_time": "2022-12-12T12:49:17.180Z"
   },
   {
    "duration": 4,
    "start_time": "2022-12-12T12:49:17.330Z"
   },
   {
    "duration": 53,
    "start_time": "2022-12-12T12:49:17.336Z"
   },
   {
    "duration": 42,
    "start_time": "2022-12-12T12:49:17.391Z"
   },
   {
    "duration": 115,
    "start_time": "2022-12-12T12:49:17.436Z"
   },
   {
    "duration": 38,
    "start_time": "2022-12-12T12:49:17.553Z"
   },
   {
    "duration": 36,
    "start_time": "2022-12-12T12:49:17.592Z"
   },
   {
    "duration": 13,
    "start_time": "2022-12-12T12:49:17.630Z"
   },
   {
    "duration": 96,
    "start_time": "2022-12-12T12:52:08.608Z"
   },
   {
    "duration": 73,
    "start_time": "2022-12-12T12:52:31.050Z"
   },
   {
    "duration": 67,
    "start_time": "2022-12-12T12:53:10.175Z"
   },
   {
    "duration": 12,
    "start_time": "2022-12-12T12:53:16.587Z"
   },
   {
    "duration": 17,
    "start_time": "2022-12-12T13:00:57.992Z"
   },
   {
    "duration": 13,
    "start_time": "2022-12-12T13:01:09.375Z"
   },
   {
    "duration": 338,
    "start_time": "2022-12-12T13:01:31.676Z"
   },
   {
    "duration": 360,
    "start_time": "2022-12-12T13:01:37.130Z"
   },
   {
    "duration": 10,
    "start_time": "2022-12-12T13:01:37.492Z"
   },
   {
    "duration": 20,
    "start_time": "2022-12-12T13:01:37.504Z"
   },
   {
    "duration": 36,
    "start_time": "2022-12-12T13:01:37.526Z"
   },
   {
    "duration": 32,
    "start_time": "2022-12-12T13:01:37.563Z"
   },
   {
    "duration": 13,
    "start_time": "2022-12-12T13:01:37.615Z"
   },
   {
    "duration": 14,
    "start_time": "2022-12-12T13:01:37.716Z"
   },
   {
    "duration": 129,
    "start_time": "2022-12-12T13:01:37.864Z"
   },
   {
    "duration": 36,
    "start_time": "2022-12-12T13:01:38.203Z"
   },
   {
    "duration": 35,
    "start_time": "2022-12-12T13:01:38.281Z"
   },
   {
    "duration": 35,
    "start_time": "2022-12-12T13:01:38.493Z"
   },
   {
    "duration": 595,
    "start_time": "2022-12-12T13:01:38.529Z"
   },
   {
    "duration": 567,
    "start_time": "2022-12-12T13:01:39.126Z"
   },
   {
    "duration": 605,
    "start_time": "2022-12-12T13:01:39.694Z"
   },
   {
    "duration": 5,
    "start_time": "2022-12-12T13:01:40.301Z"
   },
   {
    "duration": 170,
    "start_time": "2022-12-12T13:01:40.308Z"
   },
   {
    "duration": 3,
    "start_time": "2022-12-12T13:01:40.480Z"
   },
   {
    "duration": 45,
    "start_time": "2022-12-12T13:01:40.485Z"
   },
   {
    "duration": 38,
    "start_time": "2022-12-12T13:01:40.531Z"
   },
   {
    "duration": 115,
    "start_time": "2022-12-12T13:01:40.571Z"
   },
   {
    "duration": 35,
    "start_time": "2022-12-12T13:01:40.689Z"
   },
   {
    "duration": 39,
    "start_time": "2022-12-12T13:01:40.725Z"
   },
   {
    "duration": 12,
    "start_time": "2022-12-12T13:01:40.765Z"
   },
   {
    "duration": 22,
    "start_time": "2022-12-12T13:01:40.779Z"
   },
   {
    "duration": 28,
    "start_time": "2022-12-12T13:08:08.569Z"
   },
   {
    "duration": 13,
    "start_time": "2022-12-12T13:08:39.986Z"
   },
   {
    "duration": 11,
    "start_time": "2022-12-12T13:08:40.545Z"
   },
   {
    "duration": 15,
    "start_time": "2022-12-12T13:08:40.996Z"
   },
   {
    "duration": 8,
    "start_time": "2022-12-12T13:08:49.944Z"
   },
   {
    "duration": 12,
    "start_time": "2022-12-12T13:08:53.997Z"
   },
   {
    "duration": 4,
    "start_time": "2022-12-12T13:09:11.931Z"
   },
   {
    "duration": 22,
    "start_time": "2022-12-12T13:10:24.125Z"
   },
   {
    "duration": 13,
    "start_time": "2022-12-12T13:10:24.293Z"
   },
   {
    "duration": 16,
    "start_time": "2022-12-12T13:10:24.577Z"
   },
   {
    "duration": 13,
    "start_time": "2022-12-12T13:11:10.186Z"
   },
   {
    "duration": 13,
    "start_time": "2022-12-12T13:11:10.306Z"
   },
   {
    "duration": 13,
    "start_time": "2022-12-12T13:11:10.581Z"
   },
   {
    "duration": 9,
    "start_time": "2022-12-12T13:26:08.552Z"
   },
   {
    "duration": 1337,
    "start_time": "2022-12-12T13:26:35.797Z"
   },
   {
    "duration": 347,
    "start_time": "2022-12-12T13:26:37.136Z"
   },
   {
    "duration": 13,
    "start_time": "2022-12-12T13:26:37.484Z"
   },
   {
    "duration": 10,
    "start_time": "2022-12-12T13:26:37.498Z"
   },
   {
    "duration": 11,
    "start_time": "2022-12-12T13:26:37.510Z"
   },
   {
    "duration": 16,
    "start_time": "2022-12-12T13:26:37.522Z"
   },
   {
    "duration": 12,
    "start_time": "2022-12-12T13:26:37.540Z"
   },
   {
    "duration": 35,
    "start_time": "2022-12-12T13:26:37.554Z"
   },
   {
    "duration": 142,
    "start_time": "2022-12-12T13:26:37.590Z"
   },
   {
    "duration": 45,
    "start_time": "2022-12-12T13:26:37.734Z"
   },
   {
    "duration": 35,
    "start_time": "2022-12-12T13:26:37.780Z"
   },
   {
    "duration": 39,
    "start_time": "2022-12-12T13:26:37.817Z"
   },
   {
    "duration": 585,
    "start_time": "2022-12-12T13:26:37.878Z"
   },
   {
    "duration": 564,
    "start_time": "2022-12-12T13:26:38.465Z"
   },
   {
    "duration": 662,
    "start_time": "2022-12-12T13:26:39.031Z"
   },
   {
    "duration": 4,
    "start_time": "2022-12-12T13:26:39.695Z"
   },
   {
    "duration": 145,
    "start_time": "2022-12-12T13:26:39.700Z"
   },
   {
    "duration": 4,
    "start_time": "2022-12-12T13:26:39.847Z"
   },
   {
    "duration": 47,
    "start_time": "2022-12-12T13:26:39.852Z"
   },
   {
    "duration": 45,
    "start_time": "2022-12-12T13:26:39.900Z"
   },
   {
    "duration": 115,
    "start_time": "2022-12-12T13:26:39.947Z"
   },
   {
    "duration": 34,
    "start_time": "2022-12-12T13:26:40.063Z"
   },
   {
    "duration": 40,
    "start_time": "2022-12-12T13:26:40.099Z"
   },
   {
    "duration": 39,
    "start_time": "2022-12-12T13:26:40.141Z"
   },
   {
    "duration": 17,
    "start_time": "2022-12-12T13:26:40.182Z"
   },
   {
    "duration": 15,
    "start_time": "2022-12-12T13:26:40.200Z"
   },
   {
    "duration": 19,
    "start_time": "2022-12-12T13:26:40.217Z"
   },
   {
    "duration": 42,
    "start_time": "2022-12-12T13:26:40.238Z"
   },
   {
    "duration": 109,
    "start_time": "2022-12-12T13:26:40.282Z"
   },
   {
    "duration": 14,
    "start_time": "2022-12-12T13:27:15.457Z"
   },
   {
    "duration": 13,
    "start_time": "2022-12-12T13:29:06.829Z"
   },
   {
    "duration": 14,
    "start_time": "2022-12-12T13:29:33.569Z"
   },
   {
    "duration": 104,
    "start_time": "2022-12-12T14:10:00.380Z"
   },
   {
    "duration": 9,
    "start_time": "2022-12-12T14:10:20.858Z"
   },
   {
    "duration": 11,
    "start_time": "2022-12-12T14:10:48.943Z"
   },
   {
    "duration": 55,
    "start_time": "2022-12-12T14:14:30.024Z"
   },
   {
    "duration": 75,
    "start_time": "2022-12-12T14:14:54.539Z"
   },
   {
    "duration": 16,
    "start_time": "2022-12-12T14:14:58.605Z"
   },
   {
    "duration": 17,
    "start_time": "2022-12-12T14:15:50.994Z"
   },
   {
    "duration": 15,
    "start_time": "2022-12-12T14:15:51.179Z"
   },
   {
    "duration": 17,
    "start_time": "2022-12-12T14:15:51.383Z"
   },
   {
    "duration": 5,
    "start_time": "2022-12-12T15:02:57.863Z"
   },
   {
    "duration": 4,
    "start_time": "2022-12-12T15:03:11.127Z"
   },
   {
    "duration": 79,
    "start_time": "2022-12-12T15:06:00.958Z"
   },
   {
    "duration": 4,
    "start_time": "2022-12-12T15:06:55.712Z"
   },
   {
    "duration": 8,
    "start_time": "2022-12-12T15:08:25.173Z"
   },
   {
    "duration": 8,
    "start_time": "2022-12-12T15:08:44.383Z"
   },
   {
    "duration": 3,
    "start_time": "2022-12-12T15:08:44.872Z"
   },
   {
    "duration": 12,
    "start_time": "2022-12-12T15:08:45.436Z"
   },
   {
    "duration": 4,
    "start_time": "2022-12-12T15:08:59.955Z"
   },
   {
    "duration": 9,
    "start_time": "2022-12-12T15:09:14.088Z"
   },
   {
    "duration": 3,
    "start_time": "2022-12-12T15:09:14.635Z"
   },
   {
    "duration": 24,
    "start_time": "2022-12-12T15:09:15.287Z"
   },
   {
    "duration": 11,
    "start_time": "2022-12-12T15:09:48.717Z"
   },
   {
    "duration": 4,
    "start_time": "2022-12-12T15:09:49.195Z"
   },
   {
    "duration": 23,
    "start_time": "2022-12-12T15:09:50.854Z"
   },
   {
    "duration": 23,
    "start_time": "2022-12-12T15:10:37.515Z"
   },
   {
    "duration": 9,
    "start_time": "2022-12-12T15:11:14.585Z"
   },
   {
    "duration": 5,
    "start_time": "2022-12-12T15:11:21.675Z"
   },
   {
    "duration": 19,
    "start_time": "2022-12-12T15:11:22.474Z"
   },
   {
    "duration": 3,
    "start_time": "2022-12-12T15:14:14.612Z"
   },
   {
    "duration": 21,
    "start_time": "2022-12-12T15:14:15.658Z"
   },
   {
    "duration": 20,
    "start_time": "2022-12-12T15:15:03.764Z"
   },
   {
    "duration": 1569,
    "start_time": "2022-12-12T15:16:02.996Z"
   },
   {
    "duration": 399,
    "start_time": "2022-12-12T15:16:04.567Z"
   },
   {
    "duration": 17,
    "start_time": "2022-12-12T15:16:04.968Z"
   },
   {
    "duration": 10,
    "start_time": "2022-12-12T15:16:04.987Z"
   },
   {
    "duration": 14,
    "start_time": "2022-12-12T15:16:05.000Z"
   },
   {
    "duration": 18,
    "start_time": "2022-12-12T15:16:05.016Z"
   },
   {
    "duration": 42,
    "start_time": "2022-12-12T15:16:05.036Z"
   },
   {
    "duration": 15,
    "start_time": "2022-12-12T15:16:05.080Z"
   },
   {
    "duration": 162,
    "start_time": "2022-12-12T15:16:05.097Z"
   },
   {
    "duration": 45,
    "start_time": "2022-12-12T15:16:05.261Z"
   },
   {
    "duration": 36,
    "start_time": "2022-12-12T15:16:05.308Z"
   },
   {
    "duration": 66,
    "start_time": "2022-12-12T15:16:05.346Z"
   },
   {
    "duration": 670,
    "start_time": "2022-12-12T15:16:05.414Z"
   },
   {
    "duration": 587,
    "start_time": "2022-12-12T15:16:06.087Z"
   },
   {
    "duration": 747,
    "start_time": "2022-12-12T15:16:06.679Z"
   },
   {
    "duration": 5,
    "start_time": "2022-12-12T15:16:07.428Z"
   },
   {
    "duration": 209,
    "start_time": "2022-12-12T15:16:07.434Z"
   },
   {
    "duration": 5,
    "start_time": "2022-12-12T15:16:07.645Z"
   },
   {
    "duration": 60,
    "start_time": "2022-12-12T15:16:07.652Z"
   },
   {
    "duration": 50,
    "start_time": "2022-12-12T15:16:07.714Z"
   },
   {
    "duration": 136,
    "start_time": "2022-12-12T15:16:07.766Z"
   },
   {
    "duration": 36,
    "start_time": "2022-12-12T15:16:07.904Z"
   },
   {
    "duration": 68,
    "start_time": "2022-12-12T15:16:07.942Z"
   },
   {
    "duration": 15,
    "start_time": "2022-12-12T15:16:08.012Z"
   },
   {
    "duration": 22,
    "start_time": "2022-12-12T15:16:08.030Z"
   },
   {
    "duration": 39,
    "start_time": "2022-12-12T15:16:08.054Z"
   },
   {
    "duration": 21,
    "start_time": "2022-12-12T15:16:08.095Z"
   },
   {
    "duration": 4,
    "start_time": "2022-12-12T15:16:08.118Z"
   },
   {
    "duration": 8,
    "start_time": "2022-12-12T15:16:08.123Z"
   },
   {
    "duration": 53,
    "start_time": "2022-12-12T15:16:08.133Z"
   },
   {
    "duration": 71,
    "start_time": "2022-12-12T15:16:08.189Z"
   },
   {
    "duration": 0,
    "start_time": "2022-12-12T15:16:08.262Z"
   },
   {
    "duration": 0,
    "start_time": "2022-12-12T15:16:08.263Z"
   },
   {
    "duration": 0,
    "start_time": "2022-12-12T15:16:08.265Z"
   },
   {
    "duration": 0,
    "start_time": "2022-12-12T15:16:08.266Z"
   },
   {
    "duration": 0,
    "start_time": "2022-12-12T15:16:08.268Z"
   },
   {
    "duration": 0,
    "start_time": "2022-12-12T15:16:08.269Z"
   },
   {
    "duration": 0,
    "start_time": "2022-12-12T15:16:08.271Z"
   },
   {
    "duration": 0,
    "start_time": "2022-12-12T15:16:08.272Z"
   },
   {
    "duration": 0,
    "start_time": "2022-12-12T15:16:08.274Z"
   },
   {
    "duration": 0,
    "start_time": "2022-12-12T15:16:08.275Z"
   },
   {
    "duration": 0,
    "start_time": "2022-12-12T15:16:08.277Z"
   },
   {
    "duration": 0,
    "start_time": "2022-12-12T15:16:08.278Z"
   },
   {
    "duration": 0,
    "start_time": "2022-12-12T15:16:08.280Z"
   },
   {
    "duration": 0,
    "start_time": "2022-12-12T15:16:08.281Z"
   },
   {
    "duration": 0,
    "start_time": "2022-12-12T15:16:08.282Z"
   },
   {
    "duration": 1419,
    "start_time": "2022-12-12T15:16:56.048Z"
   },
   {
    "duration": 375,
    "start_time": "2022-12-12T15:16:57.469Z"
   },
   {
    "duration": 17,
    "start_time": "2022-12-12T15:16:57.847Z"
   },
   {
    "duration": 19,
    "start_time": "2022-12-12T15:16:57.865Z"
   },
   {
    "duration": 24,
    "start_time": "2022-12-12T15:16:57.887Z"
   },
   {
    "duration": 47,
    "start_time": "2022-12-12T15:16:57.913Z"
   },
   {
    "duration": 35,
    "start_time": "2022-12-12T15:16:57.962Z"
   },
   {
    "duration": 32,
    "start_time": "2022-12-12T15:16:57.999Z"
   },
   {
    "duration": 187,
    "start_time": "2022-12-12T15:16:58.033Z"
   },
   {
    "duration": 61,
    "start_time": "2022-12-12T15:16:58.222Z"
   },
   {
    "duration": 46,
    "start_time": "2022-12-12T15:16:58.285Z"
   },
   {
    "duration": 60,
    "start_time": "2022-12-12T15:16:58.333Z"
   },
   {
    "duration": 661,
    "start_time": "2022-12-12T15:16:58.395Z"
   },
   {
    "duration": 655,
    "start_time": "2022-12-12T15:16:59.059Z"
   },
   {
    "duration": 789,
    "start_time": "2022-12-12T15:16:59.716Z"
   },
   {
    "duration": 6,
    "start_time": "2022-12-12T15:17:00.507Z"
   },
   {
    "duration": 243,
    "start_time": "2022-12-12T15:17:00.515Z"
   },
   {
    "duration": 5,
    "start_time": "2022-12-12T15:17:00.760Z"
   },
   {
    "duration": 83,
    "start_time": "2022-12-12T15:17:00.768Z"
   },
   {
    "duration": 68,
    "start_time": "2022-12-12T15:17:00.854Z"
   },
   {
    "duration": 141,
    "start_time": "2022-12-12T15:17:00.925Z"
   },
   {
    "duration": 52,
    "start_time": "2022-12-12T15:17:01.069Z"
   },
   {
    "duration": 73,
    "start_time": "2022-12-12T15:17:01.123Z"
   },
   {
    "duration": 31,
    "start_time": "2022-12-12T15:17:01.198Z"
   },
   {
    "duration": 183,
    "start_time": "2022-12-12T15:17:01.231Z"
   },
   {
    "duration": 61,
    "start_time": "2022-12-12T15:17:01.417Z"
   },
   {
    "duration": 60,
    "start_time": "2022-12-12T15:17:01.480Z"
   },
   {
    "duration": 9,
    "start_time": "2022-12-12T15:17:01.542Z"
   },
   {
    "duration": 20,
    "start_time": "2022-12-12T15:17:01.553Z"
   },
   {
    "duration": 15,
    "start_time": "2022-12-12T15:17:01.575Z"
   },
   {
    "duration": 19,
    "start_time": "2022-12-12T15:17:01.592Z"
   },
   {
    "duration": 12,
    "start_time": "2022-12-12T15:17:01.613Z"
   },
   {
    "duration": 11,
    "start_time": "2022-12-12T15:17:01.627Z"
   },
   {
    "duration": 9,
    "start_time": "2022-12-12T15:17:01.640Z"
   },
   {
    "duration": 20,
    "start_time": "2022-12-12T15:17:01.651Z"
   },
   {
    "duration": 8,
    "start_time": "2022-12-12T15:17:01.673Z"
   },
   {
    "duration": 24,
    "start_time": "2022-12-12T15:17:01.686Z"
   },
   {
    "duration": 10,
    "start_time": "2022-12-12T15:17:01.712Z"
   },
   {
    "duration": 13,
    "start_time": "2022-12-12T15:17:01.724Z"
   },
   {
    "duration": 156,
    "start_time": "2022-12-12T15:17:01.740Z"
   },
   {
    "duration": 0,
    "start_time": "2022-12-12T15:17:01.899Z"
   },
   {
    "duration": 0,
    "start_time": "2022-12-12T15:17:01.900Z"
   },
   {
    "duration": 0,
    "start_time": "2022-12-12T15:17:01.901Z"
   },
   {
    "duration": 0,
    "start_time": "2022-12-12T15:17:01.903Z"
   },
   {
    "duration": 0,
    "start_time": "2022-12-12T15:17:01.904Z"
   },
   {
    "duration": 0,
    "start_time": "2022-12-12T15:17:01.906Z"
   },
   {
    "duration": 3,
    "start_time": "2022-12-12T15:22:24.706Z"
   },
   {
    "duration": 20,
    "start_time": "2022-12-12T15:22:25.363Z"
   },
   {
    "duration": 15,
    "start_time": "2022-12-12T15:22:25.614Z"
   },
   {
    "duration": 16,
    "start_time": "2022-12-12T15:22:25.949Z"
   },
   {
    "duration": 15,
    "start_time": "2022-12-12T15:22:26.242Z"
   },
   {
    "duration": 19,
    "start_time": "2022-12-12T15:22:28.707Z"
   },
   {
    "duration": 20,
    "start_time": "2022-12-12T15:23:27.751Z"
   },
   {
    "duration": 2,
    "start_time": "2022-12-12T15:23:40.368Z"
   },
   {
    "duration": 15,
    "start_time": "2022-12-12T15:23:40.894Z"
   },
   {
    "duration": 1408,
    "start_time": "2022-12-12T15:24:42.330Z"
   },
   {
    "duration": 428,
    "start_time": "2022-12-12T15:24:43.741Z"
   },
   {
    "duration": 19,
    "start_time": "2022-12-12T15:24:44.171Z"
   },
   {
    "duration": 26,
    "start_time": "2022-12-12T15:24:44.192Z"
   },
   {
    "duration": 18,
    "start_time": "2022-12-12T15:24:44.220Z"
   },
   {
    "duration": 21,
    "start_time": "2022-12-12T15:24:44.239Z"
   },
   {
    "duration": 21,
    "start_time": "2022-12-12T15:24:44.262Z"
   },
   {
    "duration": 19,
    "start_time": "2022-12-12T15:24:44.284Z"
   },
   {
    "duration": 159,
    "start_time": "2022-12-12T15:24:44.304Z"
   },
   {
    "duration": 45,
    "start_time": "2022-12-12T15:24:44.464Z"
   },
   {
    "duration": 41,
    "start_time": "2022-12-12T15:24:44.511Z"
   },
   {
    "duration": 51,
    "start_time": "2022-12-12T15:24:44.554Z"
   },
   {
    "duration": 632,
    "start_time": "2022-12-12T15:24:44.606Z"
   },
   {
    "duration": 598,
    "start_time": "2022-12-12T15:24:45.240Z"
   },
   {
    "duration": 696,
    "start_time": "2022-12-12T15:24:45.839Z"
   },
   {
    "duration": 4,
    "start_time": "2022-12-12T15:24:46.537Z"
   },
   {
    "duration": 174,
    "start_time": "2022-12-12T15:24:46.545Z"
   },
   {
    "duration": 4,
    "start_time": "2022-12-12T15:24:46.721Z"
   },
   {
    "duration": 39,
    "start_time": "2022-12-12T15:24:46.727Z"
   },
   {
    "duration": 39,
    "start_time": "2022-12-12T15:24:46.778Z"
   },
   {
    "duration": 177,
    "start_time": "2022-12-12T15:24:46.818Z"
   },
   {
    "duration": 33,
    "start_time": "2022-12-12T15:24:46.997Z"
   },
   {
    "duration": 62,
    "start_time": "2022-12-12T15:24:47.032Z"
   },
   {
    "duration": 10,
    "start_time": "2022-12-12T15:24:47.096Z"
   },
   {
    "duration": 20,
    "start_time": "2022-12-12T15:24:47.108Z"
   },
   {
    "duration": 15,
    "start_time": "2022-12-12T15:24:47.129Z"
   },
   {
    "duration": 44,
    "start_time": "2022-12-12T15:24:47.146Z"
   },
   {
    "duration": 3,
    "start_time": "2022-12-12T15:24:47.192Z"
   },
   {
    "duration": 25,
    "start_time": "2022-12-12T15:24:47.197Z"
   },
   {
    "duration": 14,
    "start_time": "2022-12-12T15:24:47.224Z"
   },
   {
    "duration": 48,
    "start_time": "2022-12-12T15:24:47.240Z"
   },
   {
    "duration": 15,
    "start_time": "2022-12-12T15:24:47.289Z"
   },
   {
    "duration": 20,
    "start_time": "2022-12-12T15:24:47.306Z"
   },
   {
    "duration": 17,
    "start_time": "2022-12-12T15:24:47.329Z"
   },
   {
    "duration": 9,
    "start_time": "2022-12-12T15:24:47.377Z"
   },
   {
    "duration": 6,
    "start_time": "2022-12-12T15:24:47.388Z"
   },
   {
    "duration": 9,
    "start_time": "2022-12-12T15:24:47.396Z"
   },
   {
    "duration": 9,
    "start_time": "2022-12-12T15:24:47.408Z"
   },
   {
    "duration": 8,
    "start_time": "2022-12-12T15:24:47.419Z"
   },
   {
    "duration": 150,
    "start_time": "2022-12-12T15:24:47.429Z"
   },
   {
    "duration": 0,
    "start_time": "2022-12-12T15:24:47.581Z"
   },
   {
    "duration": 0,
    "start_time": "2022-12-12T15:24:47.583Z"
   },
   {
    "duration": 0,
    "start_time": "2022-12-12T15:24:47.585Z"
   },
   {
    "duration": 0,
    "start_time": "2022-12-12T15:24:47.587Z"
   },
   {
    "duration": 0,
    "start_time": "2022-12-12T15:24:47.588Z"
   },
   {
    "duration": 0,
    "start_time": "2022-12-12T15:24:47.590Z"
   },
   {
    "duration": 0,
    "start_time": "2022-12-12T15:24:47.591Z"
   },
   {
    "duration": 0,
    "start_time": "2022-12-12T15:24:47.593Z"
   },
   {
    "duration": 0,
    "start_time": "2022-12-12T15:24:47.594Z"
   },
   {
    "duration": 1546,
    "start_time": "2022-12-12T15:25:28.852Z"
   },
   {
    "duration": 413,
    "start_time": "2022-12-12T15:25:30.401Z"
   },
   {
    "duration": 14,
    "start_time": "2022-12-12T15:25:30.816Z"
   },
   {
    "duration": 32,
    "start_time": "2022-12-12T15:25:30.832Z"
   },
   {
    "duration": 40,
    "start_time": "2022-12-12T15:25:30.866Z"
   },
   {
    "duration": 58,
    "start_time": "2022-12-12T15:25:30.908Z"
   },
   {
    "duration": 30,
    "start_time": "2022-12-12T15:25:30.967Z"
   },
   {
    "duration": 18,
    "start_time": "2022-12-12T15:25:31.000Z"
   },
   {
    "duration": 202,
    "start_time": "2022-12-12T15:25:31.020Z"
   },
   {
    "duration": 40,
    "start_time": "2022-12-12T15:25:31.224Z"
   },
   {
    "duration": 36,
    "start_time": "2022-12-12T15:25:31.279Z"
   },
   {
    "duration": 35,
    "start_time": "2022-12-12T15:25:31.317Z"
   },
   {
    "duration": 627,
    "start_time": "2022-12-12T15:25:31.354Z"
   },
   {
    "duration": 609,
    "start_time": "2022-12-12T15:25:31.985Z"
   },
   {
    "duration": 685,
    "start_time": "2022-12-12T15:25:32.595Z"
   },
   {
    "duration": 5,
    "start_time": "2022-12-12T15:25:33.282Z"
   },
   {
    "duration": 176,
    "start_time": "2022-12-12T15:25:33.289Z"
   },
   {
    "duration": 11,
    "start_time": "2022-12-12T15:25:33.466Z"
   },
   {
    "duration": 65,
    "start_time": "2022-12-12T15:25:33.479Z"
   },
   {
    "duration": 42,
    "start_time": "2022-12-12T15:25:33.546Z"
   },
   {
    "duration": 110,
    "start_time": "2022-12-12T15:25:33.590Z"
   },
   {
    "duration": 34,
    "start_time": "2022-12-12T15:25:33.703Z"
   },
   {
    "duration": 61,
    "start_time": "2022-12-12T15:25:33.739Z"
   },
   {
    "duration": 20,
    "start_time": "2022-12-12T15:25:33.802Z"
   },
   {
    "duration": 34,
    "start_time": "2022-12-12T15:25:33.823Z"
   },
   {
    "duration": 58,
    "start_time": "2022-12-12T15:25:33.859Z"
   },
   {
    "duration": 47,
    "start_time": "2022-12-12T15:25:33.919Z"
   },
   {
    "duration": 22,
    "start_time": "2022-12-12T15:25:33.969Z"
   },
   {
    "duration": 57,
    "start_time": "2022-12-12T15:25:33.993Z"
   },
   {
    "duration": 48,
    "start_time": "2022-12-12T15:25:34.052Z"
   },
   {
    "duration": 54,
    "start_time": "2022-12-12T15:25:34.102Z"
   },
   {
    "duration": 34,
    "start_time": "2022-12-12T15:25:34.158Z"
   },
   {
    "duration": 48,
    "start_time": "2022-12-12T15:25:34.194Z"
   },
   {
    "duration": 22,
    "start_time": "2022-12-12T15:25:34.244Z"
   },
   {
    "duration": 47,
    "start_time": "2022-12-12T15:25:34.268Z"
   },
   {
    "duration": 25,
    "start_time": "2022-12-12T15:25:34.317Z"
   },
   {
    "duration": 29,
    "start_time": "2022-12-12T15:25:34.344Z"
   },
   {
    "duration": 24,
    "start_time": "2022-12-12T15:25:34.374Z"
   },
   {
    "duration": 34,
    "start_time": "2022-12-12T15:25:34.400Z"
   },
   {
    "duration": 146,
    "start_time": "2022-12-12T15:25:34.435Z"
   },
   {
    "duration": 0,
    "start_time": "2022-12-12T15:25:34.583Z"
   },
   {
    "duration": 0,
    "start_time": "2022-12-12T15:25:34.584Z"
   },
   {
    "duration": 0,
    "start_time": "2022-12-12T15:25:34.585Z"
   },
   {
    "duration": 0,
    "start_time": "2022-12-12T15:25:34.586Z"
   },
   {
    "duration": 0,
    "start_time": "2022-12-12T15:25:34.588Z"
   },
   {
    "duration": 0,
    "start_time": "2022-12-12T15:25:34.590Z"
   },
   {
    "duration": 0,
    "start_time": "2022-12-12T15:25:34.591Z"
   },
   {
    "duration": 0,
    "start_time": "2022-12-12T15:25:34.592Z"
   },
   {
    "duration": 0,
    "start_time": "2022-12-12T15:25:34.594Z"
   },
   {
    "duration": 3,
    "start_time": "2022-12-12T15:26:07.290Z"
   },
   {
    "duration": 86,
    "start_time": "2022-12-12T15:26:07.295Z"
   },
   {
    "duration": 104,
    "start_time": "2022-12-12T15:26:07.383Z"
   },
   {
    "duration": 25,
    "start_time": "2022-12-12T15:26:07.679Z"
   },
   {
    "duration": 1304,
    "start_time": "2022-12-12T15:28:12.233Z"
   },
   {
    "duration": 361,
    "start_time": "2022-12-12T15:28:13.539Z"
   },
   {
    "duration": 18,
    "start_time": "2022-12-12T15:28:13.901Z"
   },
   {
    "duration": 34,
    "start_time": "2022-12-12T15:28:13.920Z"
   },
   {
    "duration": 55,
    "start_time": "2022-12-12T15:28:13.958Z"
   },
   {
    "duration": 44,
    "start_time": "2022-12-12T15:28:14.015Z"
   },
   {
    "duration": 47,
    "start_time": "2022-12-12T15:28:14.061Z"
   },
   {
    "duration": 80,
    "start_time": "2022-12-12T15:28:14.110Z"
   },
   {
    "duration": 144,
    "start_time": "2022-12-12T15:28:14.192Z"
   },
   {
    "duration": 52,
    "start_time": "2022-12-12T15:28:14.338Z"
   },
   {
    "duration": 35,
    "start_time": "2022-12-12T15:28:14.392Z"
   },
   {
    "duration": 52,
    "start_time": "2022-12-12T15:28:14.429Z"
   },
   {
    "duration": 638,
    "start_time": "2022-12-12T15:28:14.483Z"
   },
   {
    "duration": 619,
    "start_time": "2022-12-12T15:28:15.126Z"
   },
   {
    "duration": 671,
    "start_time": "2022-12-12T15:28:15.746Z"
   },
   {
    "duration": 5,
    "start_time": "2022-12-12T15:28:16.418Z"
   },
   {
    "duration": 172,
    "start_time": "2022-12-12T15:28:16.424Z"
   },
   {
    "duration": 4,
    "start_time": "2022-12-12T15:28:16.598Z"
   },
   {
    "duration": 73,
    "start_time": "2022-12-12T15:28:16.604Z"
   },
   {
    "duration": 49,
    "start_time": "2022-12-12T15:28:16.679Z"
   },
   {
    "duration": 112,
    "start_time": "2022-12-12T15:28:16.731Z"
   },
   {
    "duration": 40,
    "start_time": "2022-12-12T15:28:16.845Z"
   },
   {
    "duration": 59,
    "start_time": "2022-12-12T15:28:16.887Z"
   },
   {
    "duration": 31,
    "start_time": "2022-12-12T15:28:16.948Z"
   },
   {
    "duration": 37,
    "start_time": "2022-12-12T15:28:16.981Z"
   },
   {
    "duration": 46,
    "start_time": "2022-12-12T15:28:17.020Z"
   },
   {
    "duration": 33,
    "start_time": "2022-12-12T15:28:17.068Z"
   },
   {
    "duration": 29,
    "start_time": "2022-12-12T15:28:17.103Z"
   },
   {
    "duration": 36,
    "start_time": "2022-12-12T15:28:17.134Z"
   },
   {
    "duration": 30,
    "start_time": "2022-12-12T15:28:17.172Z"
   },
   {
    "duration": 17,
    "start_time": "2022-12-12T15:28:17.204Z"
   },
   {
    "duration": 37,
    "start_time": "2022-12-12T15:28:17.222Z"
   },
   {
    "duration": 21,
    "start_time": "2022-12-12T15:28:17.260Z"
   },
   {
    "duration": 22,
    "start_time": "2022-12-12T15:28:17.282Z"
   },
   {
    "duration": 33,
    "start_time": "2022-12-12T15:28:17.306Z"
   },
   {
    "duration": 16,
    "start_time": "2022-12-12T15:28:17.340Z"
   },
   {
    "duration": 41,
    "start_time": "2022-12-12T15:28:17.358Z"
   },
   {
    "duration": 182,
    "start_time": "2022-12-12T15:28:17.402Z"
   },
   {
    "duration": 197,
    "start_time": "2022-12-12T15:28:17.588Z"
   },
   {
    "duration": 230,
    "start_time": "2022-12-12T15:28:17.786Z"
   },
   {
    "duration": 44,
    "start_time": "2022-12-12T15:33:12.439Z"
   },
   {
    "duration": 3,
    "start_time": "2022-12-12T15:33:52.762Z"
   },
   {
    "duration": 96,
    "start_time": "2022-12-12T15:33:52.893Z"
   },
   {
    "duration": 111,
    "start_time": "2022-12-12T15:33:53.258Z"
   },
   {
    "duration": 58,
    "start_time": "2022-12-12T15:33:53.824Z"
   },
   {
    "duration": 20,
    "start_time": "2022-12-12T15:34:02.661Z"
   },
   {
    "duration": 22,
    "start_time": "2022-12-12T15:34:03.192Z"
   },
   {
    "duration": 19,
    "start_time": "2022-12-12T15:34:03.712Z"
   },
   {
    "duration": 2,
    "start_time": "2022-12-12T15:39:54.184Z"
   },
   {
    "duration": 44,
    "start_time": "2022-12-12T15:39:54.437Z"
   },
   {
    "duration": 16,
    "start_time": "2022-12-12T15:39:54.769Z"
   },
   {
    "duration": 26,
    "start_time": "2022-12-12T15:39:55.694Z"
   },
   {
    "duration": 23,
    "start_time": "2022-12-12T15:45:25.310Z"
   },
   {
    "duration": 20,
    "start_time": "2022-12-12T15:49:40.164Z"
   },
   {
    "duration": 16,
    "start_time": "2022-12-12T15:49:40.380Z"
   },
   {
    "duration": 22,
    "start_time": "2022-12-12T15:49:41.407Z"
   },
   {
    "duration": 8,
    "start_time": "2022-12-12T15:55:03.527Z"
   },
   {
    "duration": 20,
    "start_time": "2022-12-12T15:56:56.240Z"
   },
   {
    "duration": 10,
    "start_time": "2022-12-12T15:57:08.647Z"
   },
   {
    "duration": 54,
    "start_time": "2022-12-12T15:57:39.442Z"
   },
   {
    "duration": 8,
    "start_time": "2022-12-12T16:01:08.766Z"
   },
   {
    "duration": 3,
    "start_time": "2022-12-12T16:22:28.363Z"
   },
   {
    "duration": 4,
    "start_time": "2022-12-12T16:22:29.324Z"
   },
   {
    "duration": 3,
    "start_time": "2022-12-12T16:24:10.908Z"
   },
   {
    "duration": 3,
    "start_time": "2022-12-12T16:24:18.827Z"
   },
   {
    "duration": 4,
    "start_time": "2022-12-12T16:24:56.787Z"
   },
   {
    "duration": 4,
    "start_time": "2022-12-12T16:25:53.720Z"
   },
   {
    "duration": 4,
    "start_time": "2022-12-12T16:27:01.352Z"
   },
   {
    "duration": 16,
    "start_time": "2022-12-12T16:43:51.029Z"
   },
   {
    "duration": 4,
    "start_time": "2022-12-12T16:44:01.011Z"
   },
   {
    "duration": 4,
    "start_time": "2022-12-12T16:44:09.410Z"
   },
   {
    "duration": 4,
    "start_time": "2022-12-12T16:44:11.548Z"
   },
   {
    "duration": 2,
    "start_time": "2022-12-12T16:44:40.500Z"
   },
   {
    "duration": 18,
    "start_time": "2022-12-12T16:44:41.548Z"
   },
   {
    "duration": 11,
    "start_time": "2022-12-12T16:48:26.645Z"
   },
   {
    "duration": 8,
    "start_time": "2022-12-12T16:48:32.456Z"
   },
   {
    "duration": 3,
    "start_time": "2022-12-12T16:48:33.915Z"
   },
   {
    "duration": 3,
    "start_time": "2022-12-12T16:48:34.576Z"
   },
   {
    "duration": 8,
    "start_time": "2022-12-12T16:48:34.950Z"
   },
   {
    "duration": 47,
    "start_time": "2022-12-13T09:37:33.766Z"
   },
   {
    "duration": 1607,
    "start_time": "2022-12-13T09:37:39.371Z"
   },
   {
    "duration": 616,
    "start_time": "2022-12-13T09:37:40.980Z"
   },
   {
    "duration": 17,
    "start_time": "2022-12-13T09:37:41.598Z"
   },
   {
    "duration": 10,
    "start_time": "2022-12-13T09:37:41.617Z"
   },
   {
    "duration": 14,
    "start_time": "2022-12-13T09:37:41.630Z"
   },
   {
    "duration": 51,
    "start_time": "2022-12-13T09:37:41.645Z"
   },
   {
    "duration": 15,
    "start_time": "2022-12-13T09:37:41.698Z"
   },
   {
    "duration": 15,
    "start_time": "2022-12-13T09:37:41.715Z"
   },
   {
    "duration": 165,
    "start_time": "2022-12-13T09:37:41.732Z"
   },
   {
    "duration": 44,
    "start_time": "2022-12-13T09:37:41.900Z"
   },
   {
    "duration": 56,
    "start_time": "2022-12-13T09:37:41.946Z"
   },
   {
    "duration": 34,
    "start_time": "2022-12-13T09:37:42.004Z"
   },
   {
    "duration": 690,
    "start_time": "2022-12-13T09:37:42.040Z"
   },
   {
    "duration": 610,
    "start_time": "2022-12-13T09:37:42.733Z"
   },
   {
    "duration": 717,
    "start_time": "2022-12-13T09:37:43.345Z"
   },
   {
    "duration": 4,
    "start_time": "2022-12-13T09:37:44.064Z"
   },
   {
    "duration": 166,
    "start_time": "2022-12-13T09:37:44.070Z"
   },
   {
    "duration": 3,
    "start_time": "2022-12-13T09:37:44.238Z"
   },
   {
    "duration": 54,
    "start_time": "2022-12-13T09:37:44.243Z"
   },
   {
    "duration": 45,
    "start_time": "2022-12-13T09:37:44.299Z"
   },
   {
    "duration": 130,
    "start_time": "2022-12-13T09:37:44.346Z"
   },
   {
    "duration": 41,
    "start_time": "2022-12-13T09:37:44.478Z"
   },
   {
    "duration": 36,
    "start_time": "2022-12-13T09:37:44.520Z"
   },
   {
    "duration": 39,
    "start_time": "2022-12-13T09:37:44.558Z"
   },
   {
    "duration": 15,
    "start_time": "2022-12-13T09:37:44.599Z"
   },
   {
    "duration": 13,
    "start_time": "2022-12-13T09:37:44.616Z"
   },
   {
    "duration": 15,
    "start_time": "2022-12-13T09:37:44.631Z"
   },
   {
    "duration": 8,
    "start_time": "2022-12-13T09:37:44.647Z"
   },
   {
    "duration": 4,
    "start_time": "2022-12-13T09:37:44.696Z"
   },
   {
    "duration": 20,
    "start_time": "2022-12-13T09:37:44.702Z"
   },
   {
    "duration": 16,
    "start_time": "2022-12-13T09:37:44.724Z"
   },
   {
    "duration": 55,
    "start_time": "2022-12-13T09:37:44.741Z"
   },
   {
    "duration": 15,
    "start_time": "2022-12-13T09:37:44.798Z"
   },
   {
    "duration": 18,
    "start_time": "2022-12-13T09:37:44.815Z"
   },
   {
    "duration": 16,
    "start_time": "2022-12-13T09:37:44.835Z"
   },
   {
    "duration": 44,
    "start_time": "2022-12-13T09:37:44.853Z"
   },
   {
    "duration": 199,
    "start_time": "2022-12-13T09:37:44.899Z"
   },
   {
    "duration": 107,
    "start_time": "2022-12-13T09:37:45.100Z"
   },
   {
    "duration": 195,
    "start_time": "2022-12-13T09:37:45.210Z"
   },
   {
    "duration": 291,
    "start_time": "2022-12-13T09:37:45.408Z"
   },
   {
    "duration": 0,
    "start_time": "2022-12-13T09:37:45.701Z"
   },
   {
    "duration": 0,
    "start_time": "2022-12-13T09:37:45.702Z"
   },
   {
    "duration": 0,
    "start_time": "2022-12-13T09:37:45.703Z"
   },
   {
    "duration": 0,
    "start_time": "2022-12-13T09:37:45.705Z"
   },
   {
    "duration": 0,
    "start_time": "2022-12-13T09:37:45.706Z"
   },
   {
    "duration": 0,
    "start_time": "2022-12-13T09:37:45.707Z"
   },
   {
    "duration": 0,
    "start_time": "2022-12-13T09:37:45.708Z"
   },
   {
    "duration": 0,
    "start_time": "2022-12-13T09:37:45.709Z"
   },
   {
    "duration": 0,
    "start_time": "2022-12-13T09:37:45.710Z"
   },
   {
    "duration": 0,
    "start_time": "2022-12-13T09:37:45.711Z"
   },
   {
    "duration": 0,
    "start_time": "2022-12-13T09:37:45.712Z"
   },
   {
    "duration": 1360,
    "start_time": "2022-12-13T09:38:33.493Z"
   },
   {
    "duration": 367,
    "start_time": "2022-12-13T09:38:34.856Z"
   },
   {
    "duration": 14,
    "start_time": "2022-12-13T09:38:35.225Z"
   },
   {
    "duration": 11,
    "start_time": "2022-12-13T09:38:35.240Z"
   },
   {
    "duration": 11,
    "start_time": "2022-12-13T09:38:35.254Z"
   },
   {
    "duration": 41,
    "start_time": "2022-12-13T09:38:35.267Z"
   },
   {
    "duration": 14,
    "start_time": "2022-12-13T09:38:35.311Z"
   },
   {
    "duration": 19,
    "start_time": "2022-12-13T09:38:35.327Z"
   },
   {
    "duration": 152,
    "start_time": "2022-12-13T09:38:35.348Z"
   },
   {
    "duration": 39,
    "start_time": "2022-12-13T09:38:35.502Z"
   },
   {
    "duration": 60,
    "start_time": "2022-12-13T09:38:35.543Z"
   },
   {
    "duration": 34,
    "start_time": "2022-12-13T09:38:35.605Z"
   },
   {
    "duration": 700,
    "start_time": "2022-12-13T09:38:35.641Z"
   },
   {
    "duration": 618,
    "start_time": "2022-12-13T09:38:36.344Z"
   },
   {
    "duration": 710,
    "start_time": "2022-12-13T09:38:36.964Z"
   },
   {
    "duration": 4,
    "start_time": "2022-12-13T09:38:37.676Z"
   },
   {
    "duration": 161,
    "start_time": "2022-12-13T09:38:37.682Z"
   },
   {
    "duration": 4,
    "start_time": "2022-12-13T09:38:37.845Z"
   },
   {
    "duration": 56,
    "start_time": "2022-12-13T09:38:37.851Z"
   },
   {
    "duration": 46,
    "start_time": "2022-12-13T09:38:37.909Z"
   },
   {
    "duration": 127,
    "start_time": "2022-12-13T09:38:37.957Z"
   },
   {
    "duration": 37,
    "start_time": "2022-12-13T09:38:38.086Z"
   },
   {
    "duration": 43,
    "start_time": "2022-12-13T09:38:38.125Z"
   },
   {
    "duration": 35,
    "start_time": "2022-12-13T09:38:38.170Z"
   },
   {
    "duration": 18,
    "start_time": "2022-12-13T09:38:38.207Z"
   },
   {
    "duration": 16,
    "start_time": "2022-12-13T09:38:38.226Z"
   },
   {
    "duration": 15,
    "start_time": "2022-12-13T09:38:38.244Z"
   },
   {
    "duration": 42,
    "start_time": "2022-12-13T09:38:38.261Z"
   },
   {
    "duration": 5,
    "start_time": "2022-12-13T09:38:38.305Z"
   },
   {
    "duration": 21,
    "start_time": "2022-12-13T09:38:38.312Z"
   },
   {
    "duration": 14,
    "start_time": "2022-12-13T09:38:38.335Z"
   },
   {
    "duration": 51,
    "start_time": "2022-12-13T09:38:38.351Z"
   },
   {
    "duration": 13,
    "start_time": "2022-12-13T09:38:38.404Z"
   },
   {
    "duration": 17,
    "start_time": "2022-12-13T09:38:38.419Z"
   },
   {
    "duration": 16,
    "start_time": "2022-12-13T09:38:38.437Z"
   },
   {
    "duration": 4,
    "start_time": "2022-12-13T09:38:38.454Z"
   },
   {
    "duration": 58,
    "start_time": "2022-12-13T09:38:38.459Z"
   },
   {
    "duration": 105,
    "start_time": "2022-12-13T09:38:38.598Z"
   },
   {
    "duration": 207,
    "start_time": "2022-12-13T09:38:38.705Z"
   },
   {
    "duration": 295,
    "start_time": "2022-12-13T09:38:38.914Z"
   },
   {
    "duration": 0,
    "start_time": "2022-12-13T09:38:39.211Z"
   },
   {
    "duration": 0,
    "start_time": "2022-12-13T09:38:39.213Z"
   },
   {
    "duration": 0,
    "start_time": "2022-12-13T09:38:39.214Z"
   },
   {
    "duration": 0,
    "start_time": "2022-12-13T09:38:39.214Z"
   },
   {
    "duration": 0,
    "start_time": "2022-12-13T09:38:39.215Z"
   },
   {
    "duration": 0,
    "start_time": "2022-12-13T09:38:39.217Z"
   },
   {
    "duration": 1,
    "start_time": "2022-12-13T09:38:39.217Z"
   },
   {
    "duration": 0,
    "start_time": "2022-12-13T09:38:39.218Z"
   },
   {
    "duration": 0,
    "start_time": "2022-12-13T09:38:39.220Z"
   },
   {
    "duration": 0,
    "start_time": "2022-12-13T09:38:39.221Z"
   },
   {
    "duration": 0,
    "start_time": "2022-12-13T09:38:39.221Z"
   },
   {
    "duration": 43,
    "start_time": "2022-12-13T09:39:08.371Z"
   },
   {
    "duration": 3,
    "start_time": "2022-12-13T09:39:11.017Z"
   },
   {
    "duration": 3,
    "start_time": "2022-12-13T09:39:11.966Z"
   },
   {
    "duration": 6,
    "start_time": "2022-12-13T09:39:12.574Z"
   },
   {
    "duration": 9,
    "start_time": "2022-12-13T09:39:14.576Z"
   },
   {
    "duration": 13,
    "start_time": "2022-12-13T09:39:49.055Z"
   },
   {
    "duration": 4,
    "start_time": "2022-12-13T09:40:32.741Z"
   },
   {
    "duration": 5,
    "start_time": "2022-12-13T09:46:11.489Z"
   },
   {
    "duration": 8,
    "start_time": "2022-12-13T09:46:27.952Z"
   },
   {
    "duration": 9,
    "start_time": "2022-12-13T09:47:38.320Z"
   },
   {
    "duration": 4,
    "start_time": "2022-12-13T09:47:48.310Z"
   },
   {
    "duration": 9,
    "start_time": "2022-12-13T09:47:56.693Z"
   },
   {
    "duration": 4,
    "start_time": "2022-12-13T09:48:01.402Z"
   },
   {
    "duration": 6,
    "start_time": "2022-12-13T09:48:05.967Z"
   },
   {
    "duration": 9,
    "start_time": "2022-12-13T09:48:13.657Z"
   },
   {
    "duration": 4,
    "start_time": "2022-12-13T09:48:20.750Z"
   },
   {
    "duration": 10,
    "start_time": "2022-12-13T09:49:11.524Z"
   },
   {
    "duration": 4,
    "start_time": "2022-12-13T09:49:43.325Z"
   },
   {
    "duration": 3,
    "start_time": "2022-12-13T09:50:00.180Z"
   },
   {
    "duration": 5,
    "start_time": "2022-12-13T09:50:13.923Z"
   },
   {
    "duration": 9,
    "start_time": "2022-12-13T09:50:42.300Z"
   },
   {
    "duration": 3,
    "start_time": "2022-12-13T09:51:24.083Z"
   },
   {
    "duration": 6,
    "start_time": "2022-12-13T09:51:30.327Z"
   },
   {
    "duration": 8,
    "start_time": "2022-12-13T09:51:35.820Z"
   },
   {
    "duration": 5,
    "start_time": "2022-12-13T09:51:39.054Z"
   },
   {
    "duration": 10,
    "start_time": "2022-12-13T09:51:41.535Z"
   },
   {
    "duration": 9,
    "start_time": "2022-12-13T09:51:48.356Z"
   },
   {
    "duration": 5,
    "start_time": "2022-12-13T09:51:51.743Z"
   },
   {
    "duration": 40,
    "start_time": "2022-12-13T09:52:40.515Z"
   },
   {
    "duration": 9,
    "start_time": "2022-12-13T09:53:40.075Z"
   },
   {
    "duration": 9,
    "start_time": "2022-12-13T09:54:27.853Z"
   },
   {
    "duration": 1348,
    "start_time": "2022-12-13T09:54:39.643Z"
   },
   {
    "duration": 374,
    "start_time": "2022-12-13T09:54:40.994Z"
   },
   {
    "duration": 14,
    "start_time": "2022-12-13T09:54:41.370Z"
   },
   {
    "duration": 10,
    "start_time": "2022-12-13T09:54:41.396Z"
   },
   {
    "duration": 16,
    "start_time": "2022-12-13T09:54:41.408Z"
   },
   {
    "duration": 19,
    "start_time": "2022-12-13T09:54:41.427Z"
   },
   {
    "duration": 12,
    "start_time": "2022-12-13T09:54:41.448Z"
   },
   {
    "duration": 46,
    "start_time": "2022-12-13T09:54:41.462Z"
   },
   {
    "duration": 151,
    "start_time": "2022-12-13T09:54:41.510Z"
   },
   {
    "duration": 56,
    "start_time": "2022-12-13T09:54:41.663Z"
   },
   {
    "duration": 38,
    "start_time": "2022-12-13T09:54:41.722Z"
   },
   {
    "duration": 60,
    "start_time": "2022-12-13T09:54:41.762Z"
   },
   {
    "duration": 745,
    "start_time": "2022-12-13T09:54:41.824Z"
   },
   {
    "duration": 629,
    "start_time": "2022-12-13T09:54:42.574Z"
   },
   {
    "duration": 740,
    "start_time": "2022-12-13T09:54:43.204Z"
   },
   {
    "duration": 4,
    "start_time": "2022-12-13T09:54:43.946Z"
   },
   {
    "duration": 207,
    "start_time": "2022-12-13T09:54:43.952Z"
   },
   {
    "duration": 4,
    "start_time": "2022-12-13T09:54:44.160Z"
   },
   {
    "duration": 54,
    "start_time": "2022-12-13T09:54:44.166Z"
   },
   {
    "duration": 44,
    "start_time": "2022-12-13T09:54:44.222Z"
   },
   {
    "duration": 142,
    "start_time": "2022-12-13T09:54:44.267Z"
   },
   {
    "duration": 32,
    "start_time": "2022-12-13T09:54:44.411Z"
   },
   {
    "duration": 72,
    "start_time": "2022-12-13T09:54:44.446Z"
   },
   {
    "duration": 12,
    "start_time": "2022-12-13T09:54:44.521Z"
   },
   {
    "duration": 30,
    "start_time": "2022-12-13T09:54:44.535Z"
   },
   {
    "duration": 36,
    "start_time": "2022-12-13T09:54:44.566Z"
   },
   {
    "duration": 18,
    "start_time": "2022-12-13T09:54:44.605Z"
   },
   {
    "duration": 7,
    "start_time": "2022-12-13T09:54:44.625Z"
   },
   {
    "duration": 7,
    "start_time": "2022-12-13T09:54:44.633Z"
   },
   {
    "duration": 23,
    "start_time": "2022-12-13T09:54:44.642Z"
   },
   {
    "duration": 20,
    "start_time": "2022-12-13T09:54:44.696Z"
   },
   {
    "duration": 15,
    "start_time": "2022-12-13T09:54:44.718Z"
   },
   {
    "duration": 35,
    "start_time": "2022-12-13T09:54:44.735Z"
   },
   {
    "duration": 32,
    "start_time": "2022-12-13T09:54:44.771Z"
   },
   {
    "duration": 15,
    "start_time": "2022-12-13T09:54:44.805Z"
   },
   {
    "duration": 3,
    "start_time": "2022-12-13T09:54:44.822Z"
   },
   {
    "duration": 75,
    "start_time": "2022-12-13T09:54:44.826Z"
   },
   {
    "duration": 143,
    "start_time": "2022-12-13T09:54:44.903Z"
   },
   {
    "duration": 158,
    "start_time": "2022-12-13T09:54:45.048Z"
   },
   {
    "duration": 136,
    "start_time": "2022-12-13T09:54:45.300Z"
   },
   {
    "duration": 18,
    "start_time": "2022-12-13T09:54:45.440Z"
   },
   {
    "duration": 45,
    "start_time": "2022-12-13T09:54:45.460Z"
   },
   {
    "duration": 41,
    "start_time": "2022-12-13T09:54:45.507Z"
   },
   {
    "duration": 58,
    "start_time": "2022-12-13T09:54:45.550Z"
   },
   {
    "duration": 99,
    "start_time": "2022-12-13T09:54:45.610Z"
   },
   {
    "duration": 12,
    "start_time": "2022-12-13T09:54:45.711Z"
   },
   {
    "duration": 25,
    "start_time": "2022-12-13T09:54:45.725Z"
   },
   {
    "duration": 11,
    "start_time": "2022-12-13T09:54:45.752Z"
   },
   {
    "duration": 19,
    "start_time": "2022-12-13T09:54:45.765Z"
   },
   {
    "duration": 24,
    "start_time": "2022-12-13T09:54:45.786Z"
   },
   {
    "duration": 21,
    "start_time": "2022-12-13T09:54:45.811Z"
   },
   {
    "duration": 164,
    "start_time": "2022-12-13T09:54:45.834Z"
   },
   {
    "duration": 1,
    "start_time": "2022-12-13T09:54:45.999Z"
   },
   {
    "duration": 5,
    "start_time": "2022-12-13T09:54:59.779Z"
   },
   {
    "duration": 6,
    "start_time": "2022-12-13T09:55:43.203Z"
   },
   {
    "duration": 10,
    "start_time": "2022-12-13T09:58:18.278Z"
   },
   {
    "duration": 11,
    "start_time": "2022-12-13T09:58:54.459Z"
   },
   {
    "duration": 6,
    "start_time": "2022-12-13T09:59:03.671Z"
   },
   {
    "duration": 6,
    "start_time": "2022-12-13T10:00:39.566Z"
   },
   {
    "duration": 12,
    "start_time": "2022-12-13T10:01:15.002Z"
   },
   {
    "duration": 1327,
    "start_time": "2022-12-13T10:01:53.148Z"
   },
   {
    "duration": 350,
    "start_time": "2022-12-13T10:01:54.477Z"
   },
   {
    "duration": 13,
    "start_time": "2022-12-13T10:01:54.829Z"
   },
   {
    "duration": 8,
    "start_time": "2022-12-13T10:01:54.844Z"
   },
   {
    "duration": 10,
    "start_time": "2022-12-13T10:01:54.855Z"
   },
   {
    "duration": 41,
    "start_time": "2022-12-13T10:01:54.867Z"
   },
   {
    "duration": 13,
    "start_time": "2022-12-13T10:01:54.909Z"
   },
   {
    "duration": 12,
    "start_time": "2022-12-13T10:01:54.923Z"
   },
   {
    "duration": 143,
    "start_time": "2022-12-13T10:01:54.937Z"
   },
   {
    "duration": 48,
    "start_time": "2022-12-13T10:01:55.082Z"
   },
   {
    "duration": 36,
    "start_time": "2022-12-13T10:01:55.132Z"
   },
   {
    "duration": 61,
    "start_time": "2022-12-13T10:01:55.170Z"
   },
   {
    "duration": 635,
    "start_time": "2022-12-13T10:01:55.232Z"
   },
   {
    "duration": 690,
    "start_time": "2022-12-13T10:01:55.870Z"
   },
   {
    "duration": 719,
    "start_time": "2022-12-13T10:01:56.561Z"
   },
   {
    "duration": 4,
    "start_time": "2022-12-13T10:01:57.282Z"
   },
   {
    "duration": 152,
    "start_time": "2022-12-13T10:01:57.296Z"
   },
   {
    "duration": 3,
    "start_time": "2022-12-13T10:01:57.450Z"
   },
   {
    "duration": 59,
    "start_time": "2022-12-13T10:01:57.455Z"
   },
   {
    "duration": 43,
    "start_time": "2022-12-13T10:01:57.516Z"
   },
   {
    "duration": 119,
    "start_time": "2022-12-13T10:01:57.560Z"
   },
   {
    "duration": 43,
    "start_time": "2022-12-13T10:01:57.680Z"
   },
   {
    "duration": 36,
    "start_time": "2022-12-13T10:01:57.724Z"
   },
   {
    "duration": 35,
    "start_time": "2022-12-13T10:01:57.761Z"
   },
   {
    "duration": 17,
    "start_time": "2022-12-13T10:01:57.798Z"
   },
   {
    "duration": 15,
    "start_time": "2022-12-13T10:01:57.818Z"
   },
   {
    "duration": 19,
    "start_time": "2022-12-13T10:01:57.835Z"
   },
   {
    "duration": 46,
    "start_time": "2022-12-13T10:01:57.856Z"
   },
   {
    "duration": 15,
    "start_time": "2022-12-13T10:01:57.905Z"
   },
   {
    "duration": 25,
    "start_time": "2022-12-13T10:01:57.922Z"
   },
   {
    "duration": 15,
    "start_time": "2022-12-13T10:01:57.948Z"
   },
   {
    "duration": 42,
    "start_time": "2022-12-13T10:01:57.965Z"
   },
   {
    "duration": 13,
    "start_time": "2022-12-13T10:01:58.008Z"
   },
   {
    "duration": 17,
    "start_time": "2022-12-13T10:01:58.023Z"
   },
   {
    "duration": 14,
    "start_time": "2022-12-13T10:01:58.041Z"
   },
   {
    "duration": 8,
    "start_time": "2022-12-13T10:01:58.056Z"
   },
   {
    "duration": 50,
    "start_time": "2022-12-13T10:01:58.065Z"
   },
   {
    "duration": 188,
    "start_time": "2022-12-13T10:01:58.117Z"
   },
   {
    "duration": 190,
    "start_time": "2022-12-13T10:01:58.307Z"
   },
   {
    "duration": 137,
    "start_time": "2022-12-13T10:01:58.499Z"
   },
   {
    "duration": 2,
    "start_time": "2022-12-13T10:01:58.640Z"
   },
   {
    "duration": 5,
    "start_time": "2022-12-13T10:01:58.644Z"
   },
   {
    "duration": 8,
    "start_time": "2022-12-13T10:01:58.651Z"
   },
   {
    "duration": 36,
    "start_time": "2022-12-13T10:01:58.661Z"
   },
   {
    "duration": 7,
    "start_time": "2022-12-13T10:01:58.699Z"
   },
   {
    "duration": 4,
    "start_time": "2022-12-13T10:01:58.707Z"
   },
   {
    "duration": 128,
    "start_time": "2022-12-13T10:01:58.713Z"
   },
   {
    "duration": 0,
    "start_time": "2022-12-13T10:01:58.843Z"
   },
   {
    "duration": 0,
    "start_time": "2022-12-13T10:01:58.844Z"
   },
   {
    "duration": 0,
    "start_time": "2022-12-13T10:01:58.845Z"
   },
   {
    "duration": 0,
    "start_time": "2022-12-13T10:01:58.846Z"
   },
   {
    "duration": 0,
    "start_time": "2022-12-13T10:01:58.847Z"
   },
   {
    "duration": 0,
    "start_time": "2022-12-13T10:01:58.849Z"
   },
   {
    "duration": 0,
    "start_time": "2022-12-13T10:01:58.850Z"
   },
   {
    "duration": 0,
    "start_time": "2022-12-13T10:01:58.850Z"
   },
   {
    "duration": 7,
    "start_time": "2022-12-13T10:02:13.950Z"
   },
   {
    "duration": 6,
    "start_time": "2022-12-13T10:02:14.403Z"
   },
   {
    "duration": 9,
    "start_time": "2022-12-13T10:02:17.446Z"
   },
   {
    "duration": 45,
    "start_time": "2022-12-13T10:03:22.437Z"
   },
   {
    "duration": 11,
    "start_time": "2022-12-13T10:03:29.147Z"
   },
   {
    "duration": 6,
    "start_time": "2022-12-13T10:03:52.184Z"
   },
   {
    "duration": 8,
    "start_time": "2022-12-13T10:07:15.439Z"
   },
   {
    "duration": 10,
    "start_time": "2022-12-13T10:07:23.273Z"
   },
   {
    "duration": 6,
    "start_time": "2022-12-13T10:07:48.180Z"
   },
   {
    "duration": 6,
    "start_time": "2022-12-13T10:07:54.670Z"
   },
   {
    "duration": 7,
    "start_time": "2022-12-13T10:07:55.008Z"
   },
   {
    "duration": 9,
    "start_time": "2022-12-13T10:07:55.775Z"
   },
   {
    "duration": 4,
    "start_time": "2022-12-13T10:13:25.873Z"
   },
   {
    "duration": 10,
    "start_time": "2022-12-13T10:22:17.277Z"
   },
   {
    "duration": 12,
    "start_time": "2022-12-13T10:23:19.035Z"
   },
   {
    "duration": 12,
    "start_time": "2022-12-13T10:23:26.152Z"
   },
   {
    "duration": 55,
    "start_time": "2022-12-13T10:23:36.889Z"
   },
   {
    "duration": 50,
    "start_time": "2022-12-13T10:24:02.124Z"
   },
   {
    "duration": 43,
    "start_time": "2022-12-13T10:24:27.675Z"
   },
   {
    "duration": 63,
    "start_time": "2022-12-13T10:24:45.274Z"
   },
   {
    "duration": 42,
    "start_time": "2022-12-13T10:24:50.209Z"
   },
   {
    "duration": 13,
    "start_time": "2022-12-13T10:24:52.378Z"
   },
   {
    "duration": 50,
    "start_time": "2022-12-13T10:25:05.754Z"
   },
   {
    "duration": 4,
    "start_time": "2022-12-13T10:25:28.992Z"
   },
   {
    "duration": 52,
    "start_time": "2022-12-13T10:25:29.441Z"
   },
   {
    "duration": 14,
    "start_time": "2022-12-13T10:25:35.488Z"
   },
   {
    "duration": 4,
    "start_time": "2022-12-13T10:27:51.618Z"
   },
   {
    "duration": 15,
    "start_time": "2022-12-13T10:27:52.175Z"
   },
   {
    "duration": 3,
    "start_time": "2022-12-13T10:29:04.598Z"
   },
   {
    "duration": 30,
    "start_time": "2022-12-13T10:29:05.164Z"
   },
   {
    "duration": 4,
    "start_time": "2022-12-13T10:34:02.444Z"
   },
   {
    "duration": 12,
    "start_time": "2022-12-13T10:34:06.983Z"
   },
   {
    "duration": 3,
    "start_time": "2022-12-13T10:35:53.363Z"
   },
   {
    "duration": 3,
    "start_time": "2022-12-13T10:35:54.522Z"
   },
   {
    "duration": 4,
    "start_time": "2022-12-13T10:35:57.786Z"
   },
   {
    "duration": 23,
    "start_time": "2022-12-13T10:36:17.074Z"
   },
   {
    "duration": 4,
    "start_time": "2022-12-13T10:36:52.716Z"
   },
   {
    "duration": 22,
    "start_time": "2022-12-13T10:36:54.531Z"
   },
   {
    "duration": 5,
    "start_time": "2022-12-13T11:23:09.074Z"
   },
   {
    "duration": 5,
    "start_time": "2022-12-13T11:23:15.105Z"
   },
   {
    "duration": 5,
    "start_time": "2022-12-13T11:23:48.270Z"
   },
   {
    "duration": 4,
    "start_time": "2022-12-13T11:25:24.484Z"
   },
   {
    "duration": 5,
    "start_time": "2022-12-13T11:26:01.771Z"
   },
   {
    "duration": 9,
    "start_time": "2022-12-13T11:26:32.153Z"
   },
   {
    "duration": 5,
    "start_time": "2022-12-13T11:27:12.254Z"
   },
   {
    "duration": 4,
    "start_time": "2022-12-13T11:27:29.907Z"
   },
   {
    "duration": 5,
    "start_time": "2022-12-13T11:28:19.781Z"
   },
   {
    "duration": 6,
    "start_time": "2022-12-13T11:28:35.268Z"
   },
   {
    "duration": 4,
    "start_time": "2022-12-13T11:28:44.070Z"
   },
   {
    "duration": 12,
    "start_time": "2022-12-13T11:29:58.030Z"
   },
   {
    "duration": 3,
    "start_time": "2022-12-13T11:34:38.815Z"
   },
   {
    "duration": 25,
    "start_time": "2022-12-13T11:34:41.798Z"
   },
   {
    "duration": 4,
    "start_time": "2022-12-13T11:39:41.114Z"
   },
   {
    "duration": 26,
    "start_time": "2022-12-13T11:39:43.852Z"
   },
   {
    "duration": 5,
    "start_time": "2022-12-13T11:42:31.287Z"
   },
   {
    "duration": 20,
    "start_time": "2022-12-13T11:42:33.930Z"
   },
   {
    "duration": 1359,
    "start_time": "2022-12-13T11:44:04.101Z"
   },
   {
    "duration": 366,
    "start_time": "2022-12-13T11:44:05.461Z"
   },
   {
    "duration": 15,
    "start_time": "2022-12-13T11:44:05.828Z"
   },
   {
    "duration": 9,
    "start_time": "2022-12-13T11:44:05.845Z"
   },
   {
    "duration": 40,
    "start_time": "2022-12-13T11:44:05.856Z"
   },
   {
    "duration": 18,
    "start_time": "2022-12-13T11:44:05.898Z"
   },
   {
    "duration": 15,
    "start_time": "2022-12-13T11:44:05.918Z"
   },
   {
    "duration": 20,
    "start_time": "2022-12-13T11:44:05.935Z"
   },
   {
    "duration": 192,
    "start_time": "2022-12-13T11:44:05.956Z"
   },
   {
    "duration": 67,
    "start_time": "2022-12-13T11:44:06.151Z"
   },
   {
    "duration": 40,
    "start_time": "2022-12-13T11:44:06.220Z"
   },
   {
    "duration": 56,
    "start_time": "2022-12-13T11:44:06.262Z"
   },
   {
    "duration": 634,
    "start_time": "2022-12-13T11:44:06.319Z"
   },
   {
    "duration": 600,
    "start_time": "2022-12-13T11:44:06.955Z"
   },
   {
    "duration": 741,
    "start_time": "2022-12-13T11:44:07.557Z"
   },
   {
    "duration": 4,
    "start_time": "2022-12-13T11:44:08.301Z"
   },
   {
    "duration": 158,
    "start_time": "2022-12-13T11:44:08.306Z"
   },
   {
    "duration": 4,
    "start_time": "2022-12-13T11:44:08.466Z"
   },
   {
    "duration": 54,
    "start_time": "2022-12-13T11:44:08.471Z"
   },
   {
    "duration": 50,
    "start_time": "2022-12-13T11:44:08.527Z"
   },
   {
    "duration": 128,
    "start_time": "2022-12-13T11:44:08.579Z"
   },
   {
    "duration": 31,
    "start_time": "2022-12-13T11:44:08.709Z"
   },
   {
    "duration": 61,
    "start_time": "2022-12-13T11:44:08.741Z"
   },
   {
    "duration": 11,
    "start_time": "2022-12-13T11:44:08.804Z"
   },
   {
    "duration": 22,
    "start_time": "2022-12-13T11:44:08.817Z"
   },
   {
    "duration": 13,
    "start_time": "2022-12-13T11:44:08.841Z"
   },
   {
    "duration": 44,
    "start_time": "2022-12-13T11:44:08.856Z"
   },
   {
    "duration": 9,
    "start_time": "2022-12-13T11:44:08.904Z"
   },
   {
    "duration": 5,
    "start_time": "2022-12-13T11:44:08.914Z"
   },
   {
    "duration": 22,
    "start_time": "2022-12-13T11:44:08.920Z"
   },
   {
    "duration": 15,
    "start_time": "2022-12-13T11:44:08.943Z"
   },
   {
    "duration": 16,
    "start_time": "2022-12-13T11:44:08.997Z"
   },
   {
    "duration": 12,
    "start_time": "2022-12-13T11:44:09.015Z"
   },
   {
    "duration": 16,
    "start_time": "2022-12-13T11:44:09.029Z"
   },
   {
    "duration": 49,
    "start_time": "2022-12-13T11:44:09.047Z"
   },
   {
    "duration": 3,
    "start_time": "2022-12-13T11:44:09.098Z"
   },
   {
    "duration": 95,
    "start_time": "2022-12-13T11:44:09.102Z"
   },
   {
    "duration": 106,
    "start_time": "2022-12-13T11:44:09.199Z"
   },
   {
    "duration": 197,
    "start_time": "2022-12-13T11:44:09.308Z"
   },
   {
    "duration": 244,
    "start_time": "2022-12-13T11:44:09.506Z"
   },
   {
    "duration": 3,
    "start_time": "2022-12-13T11:44:09.751Z"
   },
   {
    "duration": 10,
    "start_time": "2022-12-13T11:44:09.755Z"
   },
   {
    "duration": 9,
    "start_time": "2022-12-13T11:44:09.766Z"
   },
   {
    "duration": 6,
    "start_time": "2022-12-13T11:44:09.777Z"
   },
   {
    "duration": 130,
    "start_time": "2022-12-13T11:44:09.796Z"
   },
   {
    "duration": 0,
    "start_time": "2022-12-13T11:44:09.927Z"
   },
   {
    "duration": 0,
    "start_time": "2022-12-13T11:44:09.928Z"
   },
   {
    "duration": 0,
    "start_time": "2022-12-13T11:44:09.930Z"
   },
   {
    "duration": 0,
    "start_time": "2022-12-13T11:44:09.931Z"
   },
   {
    "duration": 0,
    "start_time": "2022-12-13T11:44:09.932Z"
   },
   {
    "duration": 0,
    "start_time": "2022-12-13T11:44:09.934Z"
   },
   {
    "duration": 0,
    "start_time": "2022-12-13T11:44:09.935Z"
   },
   {
    "duration": 0,
    "start_time": "2022-12-13T11:44:09.936Z"
   },
   {
    "duration": 0,
    "start_time": "2022-12-13T11:44:09.937Z"
   },
   {
    "duration": 0,
    "start_time": "2022-12-13T11:44:09.938Z"
   },
   {
    "duration": 0,
    "start_time": "2022-12-13T11:44:09.940Z"
   },
   {
    "duration": 0,
    "start_time": "2022-12-13T11:44:09.941Z"
   },
   {
    "duration": 0,
    "start_time": "2022-12-13T11:44:09.942Z"
   },
   {
    "duration": 0,
    "start_time": "2022-12-13T11:44:09.943Z"
   },
   {
    "duration": 0,
    "start_time": "2022-12-13T11:44:09.944Z"
   },
   {
    "duration": 0,
    "start_time": "2022-12-13T11:44:09.945Z"
   },
   {
    "duration": 0,
    "start_time": "2022-12-13T11:44:09.946Z"
   },
   {
    "duration": 0,
    "start_time": "2022-12-13T11:44:09.948Z"
   },
   {
    "duration": 0,
    "start_time": "2022-12-13T11:44:09.949Z"
   },
   {
    "duration": 0,
    "start_time": "2022-12-13T11:44:09.950Z"
   },
   {
    "duration": 0,
    "start_time": "2022-12-13T11:44:09.951Z"
   },
   {
    "duration": 0,
    "start_time": "2022-12-13T11:44:09.951Z"
   },
   {
    "duration": 0,
    "start_time": "2022-12-13T11:44:09.953Z"
   },
   {
    "duration": 0,
    "start_time": "2022-12-13T11:44:09.954Z"
   },
   {
    "duration": 0,
    "start_time": "2022-12-13T11:44:09.997Z"
   },
   {
    "duration": 4,
    "start_time": "2022-12-13T11:51:48.472Z"
   },
   {
    "duration": 19,
    "start_time": "2022-12-13T11:51:51.746Z"
   },
   {
    "duration": 10,
    "start_time": "2022-12-13T11:57:44.140Z"
   },
   {
    "duration": 3,
    "start_time": "2022-12-13T11:57:48.335Z"
   },
   {
    "duration": 12,
    "start_time": "2022-12-13T11:57:48.724Z"
   },
   {
    "duration": 3,
    "start_time": "2022-12-13T11:58:09.802Z"
   },
   {
    "duration": 16,
    "start_time": "2022-12-13T11:58:10.314Z"
   },
   {
    "duration": 4,
    "start_time": "2022-12-13T11:58:19.934Z"
   },
   {
    "duration": 23,
    "start_time": "2022-12-13T11:58:20.419Z"
   },
   {
    "duration": 8,
    "start_time": "2022-12-13T11:59:02.579Z"
   },
   {
    "duration": 4,
    "start_time": "2022-12-13T11:59:26.633Z"
   },
   {
    "duration": 13,
    "start_time": "2022-12-13T11:59:27.438Z"
   },
   {
    "duration": 4,
    "start_time": "2022-12-13T11:59:36.552Z"
   },
   {
    "duration": 7,
    "start_time": "2022-12-13T11:59:36.946Z"
   },
   {
    "duration": 6,
    "start_time": "2022-12-13T12:00:09.901Z"
   },
   {
    "duration": 8,
    "start_time": "2022-12-13T12:00:28.429Z"
   },
   {
    "duration": 3,
    "start_time": "2022-12-13T12:02:07.217Z"
   },
   {
    "duration": 8,
    "start_time": "2022-12-13T12:02:07.518Z"
   },
   {
    "duration": 9,
    "start_time": "2022-12-13T12:02:07.905Z"
   },
   {
    "duration": 8,
    "start_time": "2022-12-13T12:02:08.258Z"
   },
   {
    "duration": 14,
    "start_time": "2022-12-13T12:02:45.778Z"
   },
   {
    "duration": 16,
    "start_time": "2022-12-13T12:03:27.295Z"
   },
   {
    "duration": 4,
    "start_time": "2022-12-13T12:16:29.824Z"
   },
   {
    "duration": 47,
    "start_time": "2022-12-13T12:16:30.337Z"
   },
   {
    "duration": 43,
    "start_time": "2022-12-13T12:16:37.814Z"
   },
   {
    "duration": 3,
    "start_time": "2022-12-13T12:16:42.877Z"
   },
   {
    "duration": 16,
    "start_time": "2022-12-13T12:16:46.452Z"
   },
   {
    "duration": 25,
    "start_time": "2022-12-13T12:20:07.606Z"
   },
   {
    "duration": 4,
    "start_time": "2022-12-13T12:21:21.572Z"
   },
   {
    "duration": 22,
    "start_time": "2022-12-13T12:21:22.553Z"
   },
   {
    "duration": 4,
    "start_time": "2022-12-13T12:21:49.822Z"
   },
   {
    "duration": 21,
    "start_time": "2022-12-13T12:21:50.167Z"
   },
   {
    "duration": 25,
    "start_time": "2022-12-13T12:21:50.725Z"
   },
   {
    "duration": 29,
    "start_time": "2022-12-13T12:21:51.707Z"
   },
   {
    "duration": 1462,
    "start_time": "2022-12-13T12:23:09.807Z"
   },
   {
    "duration": 378,
    "start_time": "2022-12-13T12:23:11.271Z"
   },
   {
    "duration": 14,
    "start_time": "2022-12-13T12:23:11.651Z"
   },
   {
    "duration": 9,
    "start_time": "2022-12-13T12:23:11.667Z"
   },
   {
    "duration": 11,
    "start_time": "2022-12-13T12:23:11.698Z"
   },
   {
    "duration": 20,
    "start_time": "2022-12-13T12:23:11.711Z"
   },
   {
    "duration": 13,
    "start_time": "2022-12-13T12:23:11.732Z"
   },
   {
    "duration": 14,
    "start_time": "2022-12-13T12:23:11.747Z"
   },
   {
    "duration": 147,
    "start_time": "2022-12-13T12:23:11.797Z"
   },
   {
    "duration": 52,
    "start_time": "2022-12-13T12:23:11.945Z"
   },
   {
    "duration": 38,
    "start_time": "2022-12-13T12:23:11.999Z"
   },
   {
    "duration": 59,
    "start_time": "2022-12-13T12:23:12.038Z"
   },
   {
    "duration": 641,
    "start_time": "2022-12-13T12:23:12.099Z"
   },
   {
    "duration": 636,
    "start_time": "2022-12-13T12:23:12.744Z"
   },
   {
    "duration": 764,
    "start_time": "2022-12-13T12:23:13.382Z"
   },
   {
    "duration": 4,
    "start_time": "2022-12-13T12:23:14.148Z"
   },
   {
    "duration": 163,
    "start_time": "2022-12-13T12:23:14.154Z"
   },
   {
    "duration": 4,
    "start_time": "2022-12-13T12:23:14.319Z"
   },
   {
    "duration": 42,
    "start_time": "2022-12-13T12:23:14.325Z"
   },
   {
    "duration": 74,
    "start_time": "2022-12-13T12:23:14.369Z"
   },
   {
    "duration": 119,
    "start_time": "2022-12-13T12:23:14.444Z"
   },
   {
    "duration": 46,
    "start_time": "2022-12-13T12:23:14.565Z"
   },
   {
    "duration": 40,
    "start_time": "2022-12-13T12:23:14.612Z"
   },
   {
    "duration": 43,
    "start_time": "2022-12-13T12:23:14.654Z"
   },
   {
    "duration": 18,
    "start_time": "2022-12-13T12:23:14.699Z"
   },
   {
    "duration": 16,
    "start_time": "2022-12-13T12:23:14.719Z"
   },
   {
    "duration": 17,
    "start_time": "2022-12-13T12:23:14.737Z"
   },
   {
    "duration": 47,
    "start_time": "2022-12-13T12:23:14.756Z"
   },
   {
    "duration": 5,
    "start_time": "2022-12-13T12:23:14.805Z"
   },
   {
    "duration": 24,
    "start_time": "2022-12-13T12:23:14.811Z"
   },
   {
    "duration": 16,
    "start_time": "2022-12-13T12:23:14.837Z"
   },
   {
    "duration": 53,
    "start_time": "2022-12-13T12:23:14.855Z"
   },
   {
    "duration": 18,
    "start_time": "2022-12-13T12:23:14.910Z"
   },
   {
    "duration": 22,
    "start_time": "2022-12-13T12:23:14.930Z"
   },
   {
    "duration": 52,
    "start_time": "2022-12-13T12:23:14.953Z"
   },
   {
    "duration": 3,
    "start_time": "2022-12-13T12:23:15.007Z"
   },
   {
    "duration": 93,
    "start_time": "2022-12-13T12:23:15.012Z"
   },
   {
    "duration": 205,
    "start_time": "2022-12-13T12:23:15.107Z"
   },
   {
    "duration": 195,
    "start_time": "2022-12-13T12:23:15.314Z"
   },
   {
    "duration": 144,
    "start_time": "2022-12-13T12:23:15.603Z"
   },
   {
    "duration": 3,
    "start_time": "2022-12-13T12:23:15.751Z"
   },
   {
    "duration": 16,
    "start_time": "2022-12-13T12:23:15.756Z"
   },
   {
    "duration": 24,
    "start_time": "2022-12-13T12:23:15.774Z"
   },
   {
    "duration": 11,
    "start_time": "2022-12-13T12:23:15.800Z"
   },
   {
    "duration": 18,
    "start_time": "2022-12-13T12:23:15.813Z"
   },
   {
    "duration": 13,
    "start_time": "2022-12-13T12:23:15.834Z"
   },
   {
    "duration": 184,
    "start_time": "2022-12-13T12:23:15.849Z"
   },
   {
    "duration": 0,
    "start_time": "2022-12-13T12:23:16.035Z"
   },
   {
    "duration": 0,
    "start_time": "2022-12-13T12:23:16.037Z"
   },
   {
    "duration": 0,
    "start_time": "2022-12-13T12:23:16.038Z"
   },
   {
    "duration": 0,
    "start_time": "2022-12-13T12:23:16.040Z"
   },
   {
    "duration": 0,
    "start_time": "2022-12-13T12:23:16.041Z"
   },
   {
    "duration": 0,
    "start_time": "2022-12-13T12:23:16.042Z"
   },
   {
    "duration": 0,
    "start_time": "2022-12-13T12:23:16.044Z"
   },
   {
    "duration": 0,
    "start_time": "2022-12-13T12:23:16.045Z"
   },
   {
    "duration": 0,
    "start_time": "2022-12-13T12:23:16.046Z"
   },
   {
    "duration": 0,
    "start_time": "2022-12-13T12:23:16.048Z"
   },
   {
    "duration": 0,
    "start_time": "2022-12-13T12:23:16.049Z"
   },
   {
    "duration": 0,
    "start_time": "2022-12-13T12:23:16.050Z"
   },
   {
    "duration": 0,
    "start_time": "2022-12-13T12:23:16.052Z"
   },
   {
    "duration": 0,
    "start_time": "2022-12-13T12:23:16.053Z"
   },
   {
    "duration": 0,
    "start_time": "2022-12-13T12:23:16.054Z"
   },
   {
    "duration": 0,
    "start_time": "2022-12-13T12:23:16.055Z"
   },
   {
    "duration": 0,
    "start_time": "2022-12-13T12:23:16.058Z"
   },
   {
    "duration": 4,
    "start_time": "2022-12-13T12:26:10.342Z"
   },
   {
    "duration": 371,
    "start_time": "2022-12-13T12:26:10.592Z"
   },
   {
    "duration": 11,
    "start_time": "2022-12-13T12:26:10.966Z"
   },
   {
    "duration": 20,
    "start_time": "2022-12-13T12:26:10.979Z"
   },
   {
    "duration": 13,
    "start_time": "2022-12-13T12:26:11.001Z"
   },
   {
    "duration": 18,
    "start_time": "2022-12-13T12:26:11.019Z"
   },
   {
    "duration": 27,
    "start_time": "2022-12-13T12:26:11.095Z"
   },
   {
    "duration": 15,
    "start_time": "2022-12-13T12:26:11.177Z"
   },
   {
    "duration": 137,
    "start_time": "2022-12-13T12:26:11.344Z"
   },
   {
    "duration": 4,
    "start_time": "2022-12-13T12:26:25.969Z"
   },
   {
    "duration": 354,
    "start_time": "2022-12-13T12:26:26.217Z"
   },
   {
    "duration": 9,
    "start_time": "2022-12-13T12:26:26.573Z"
   },
   {
    "duration": 20,
    "start_time": "2022-12-13T12:26:26.584Z"
   },
   {
    "duration": 1448,
    "start_time": "2022-12-13T12:26:35.180Z"
   },
   {
    "duration": 360,
    "start_time": "2022-12-13T12:26:36.630Z"
   },
   {
    "duration": 14,
    "start_time": "2022-12-13T12:26:36.993Z"
   },
   {
    "duration": 10,
    "start_time": "2022-12-13T12:26:37.412Z"
   },
   {
    "duration": 13,
    "start_time": "2022-12-13T12:26:37.913Z"
   },
   {
    "duration": 17,
    "start_time": "2022-12-13T12:26:37.996Z"
   },
   {
    "duration": 15,
    "start_time": "2022-12-13T12:26:38.072Z"
   },
   {
    "duration": 14,
    "start_time": "2022-12-13T12:26:38.155Z"
   },
   {
    "duration": 123,
    "start_time": "2022-12-13T12:26:38.322Z"
   },
   {
    "duration": 38,
    "start_time": "2022-12-13T12:26:38.660Z"
   },
   {
    "duration": 37,
    "start_time": "2022-12-13T12:26:38.741Z"
   },
   {
    "duration": 34,
    "start_time": "2022-12-13T12:26:38.826Z"
   },
   {
    "duration": 665,
    "start_time": "2022-12-13T12:26:38.917Z"
   },
   {
    "duration": 608,
    "start_time": "2022-12-13T12:26:39.596Z"
   },
   {
    "duration": 765,
    "start_time": "2022-12-13T12:26:40.206Z"
   },
   {
    "duration": 6,
    "start_time": "2022-12-13T12:26:40.974Z"
   },
   {
    "duration": 168,
    "start_time": "2022-12-13T12:26:40.981Z"
   },
   {
    "duration": 4,
    "start_time": "2022-12-13T12:26:41.150Z"
   },
   {
    "duration": 59,
    "start_time": "2022-12-13T12:26:41.156Z"
   },
   {
    "duration": 40,
    "start_time": "2022-12-13T12:26:41.216Z"
   },
   {
    "duration": 126,
    "start_time": "2022-12-13T12:26:41.258Z"
   },
   {
    "duration": 35,
    "start_time": "2022-12-13T12:26:41.387Z"
   },
   {
    "duration": 39,
    "start_time": "2022-12-13T12:26:41.424Z"
   },
   {
    "duration": 13,
    "start_time": "2022-12-13T12:26:41.495Z"
   },
   {
    "duration": 17,
    "start_time": "2022-12-13T12:26:41.509Z"
   },
   {
    "duration": 17,
    "start_time": "2022-12-13T12:26:41.527Z"
   },
   {
    "duration": 51,
    "start_time": "2022-12-13T12:26:41.546Z"
   },
   {
    "duration": 8,
    "start_time": "2022-12-13T12:26:41.599Z"
   },
   {
    "duration": 7,
    "start_time": "2022-12-13T12:26:41.609Z"
   },
   {
    "duration": 19,
    "start_time": "2022-12-13T12:26:41.811Z"
   },
   {
    "duration": 15,
    "start_time": "2022-12-13T12:26:42.118Z"
   },
   {
    "duration": 15,
    "start_time": "2022-12-13T12:26:42.421Z"
   },
   {
    "duration": 17,
    "start_time": "2022-12-13T12:26:42.756Z"
   },
   {
    "duration": 21,
    "start_time": "2022-12-13T12:26:43.120Z"
   },
   {
    "duration": 19,
    "start_time": "2022-12-13T12:26:43.523Z"
   },
   {
    "duration": 3,
    "start_time": "2022-12-13T12:26:44.252Z"
   },
   {
    "duration": 26,
    "start_time": "2022-12-13T12:26:45.027Z"
   },
   {
    "duration": 16,
    "start_time": "2022-12-13T12:26:45.230Z"
   },
   {
    "duration": 18,
    "start_time": "2022-12-13T12:26:45.578Z"
   },
   {
    "duration": 48,
    "start_time": "2022-12-13T12:26:45.798Z"
   },
   {
    "duration": 4,
    "start_time": "2022-12-13T12:26:46.507Z"
   },
   {
    "duration": 4,
    "start_time": "2022-12-13T12:26:47.404Z"
   },
   {
    "duration": 8,
    "start_time": "2022-12-13T12:26:47.776Z"
   },
   {
    "duration": 4,
    "start_time": "2022-12-13T12:26:48.445Z"
   },
   {
    "duration": 2,
    "start_time": "2022-12-13T12:26:50.879Z"
   },
   {
    "duration": 3,
    "start_time": "2022-12-13T12:26:51.315Z"
   },
   {
    "duration": 3,
    "start_time": "2022-12-13T12:26:59.744Z"
   },
   {
    "duration": 3,
    "start_time": "2022-12-13T12:27:00.136Z"
   },
   {
    "duration": 3,
    "start_time": "2022-12-13T12:27:00.522Z"
   },
   {
    "duration": 128,
    "start_time": "2022-12-13T12:27:01.552Z"
   },
   {
    "duration": 4,
    "start_time": "2022-12-13T12:27:43.503Z"
   },
   {
    "duration": 2,
    "start_time": "2022-12-13T12:27:44.143Z"
   },
   {
    "duration": 2,
    "start_time": "2022-12-13T12:27:44.464Z"
   },
   {
    "duration": 21,
    "start_time": "2022-12-13T12:27:45.458Z"
   },
   {
    "duration": 3,
    "start_time": "2022-12-13T12:28:07.342Z"
   },
   {
    "duration": 3,
    "start_time": "2022-12-13T12:28:07.640Z"
   },
   {
    "duration": 2,
    "start_time": "2022-12-13T12:28:07.939Z"
   },
   {
    "duration": 8,
    "start_time": "2022-12-13T12:28:08.804Z"
   },
   {
    "duration": 8,
    "start_time": "2022-12-13T12:28:14.148Z"
   },
   {
    "duration": 8,
    "start_time": "2022-12-13T12:28:15.239Z"
   },
   {
    "duration": 3,
    "start_time": "2022-12-13T12:28:38.965Z"
   },
   {
    "duration": 5,
    "start_time": "2022-12-13T12:28:40.311Z"
   },
   {
    "duration": 14,
    "start_time": "2022-12-13T12:28:53.716Z"
   },
   {
    "duration": 4,
    "start_time": "2022-12-13T12:30:34.522Z"
   },
   {
    "duration": 18,
    "start_time": "2022-12-13T12:30:36.146Z"
   },
   {
    "duration": 4,
    "start_time": "2022-12-13T12:31:37.775Z"
   },
   {
    "duration": 15,
    "start_time": "2022-12-13T12:31:39.049Z"
   },
   {
    "duration": 6,
    "start_time": "2022-12-13T12:32:22.395Z"
   },
   {
    "duration": 25,
    "start_time": "2022-12-13T12:32:23.597Z"
   },
   {
    "duration": 4,
    "start_time": "2022-12-13T12:33:25.600Z"
   },
   {
    "duration": 20,
    "start_time": "2022-12-13T12:33:25.892Z"
   },
   {
    "duration": 4,
    "start_time": "2022-12-13T12:33:52.391Z"
   },
   {
    "duration": 24,
    "start_time": "2022-12-13T12:33:52.919Z"
   },
   {
    "duration": 4,
    "start_time": "2022-12-13T12:37:01.442Z"
   },
   {
    "duration": 14,
    "start_time": "2022-12-13T12:37:02.312Z"
   },
   {
    "duration": 5,
    "start_time": "2022-12-13T12:37:30.608Z"
   },
   {
    "duration": 26,
    "start_time": "2022-12-13T12:37:31.033Z"
   },
   {
    "duration": 4,
    "start_time": "2022-12-13T12:37:55.916Z"
   },
   {
    "duration": 21,
    "start_time": "2022-12-13T12:37:56.466Z"
   },
   {
    "duration": 5,
    "start_time": "2022-12-13T12:38:02.721Z"
   },
   {
    "duration": 18,
    "start_time": "2022-12-13T12:38:03.243Z"
   },
   {
    "duration": 5,
    "start_time": "2022-12-13T12:38:16.999Z"
   },
   {
    "duration": 1018,
    "start_time": "2022-12-13T12:38:17.534Z"
   },
   {
    "duration": 1070,
    "start_time": "2022-12-13T12:38:37.293Z"
   },
   {
    "duration": 5,
    "start_time": "2022-12-13T12:38:55.665Z"
   },
   {
    "duration": 24,
    "start_time": "2022-12-13T12:38:56.033Z"
   },
   {
    "duration": 4,
    "start_time": "2022-12-13T12:39:04.199Z"
   },
   {
    "duration": 1065,
    "start_time": "2022-12-13T12:39:04.705Z"
   },
   {
    "duration": 1031,
    "start_time": "2022-12-13T12:41:04.744Z"
   },
   {
    "duration": 4,
    "start_time": "2022-12-13T12:42:02.212Z"
   },
   {
    "duration": 1012,
    "start_time": "2022-12-13T12:42:02.526Z"
   },
   {
    "duration": 1020,
    "start_time": "2022-12-13T12:42:03.539Z"
   },
   {
    "duration": 1028,
    "start_time": "2022-12-13T12:42:04.561Z"
   },
   {
    "duration": 42,
    "start_time": "2022-12-13T18:09:17.731Z"
   },
   {
    "duration": 1483,
    "start_time": "2022-12-13T18:09:26.428Z"
   },
   {
    "duration": 2008,
    "start_time": "2022-12-13T18:09:27.912Z"
   },
   {
    "duration": 14,
    "start_time": "2022-12-13T18:09:29.922Z"
   },
   {
    "duration": 24,
    "start_time": "2022-12-13T18:09:29.938Z"
   },
   {
    "duration": 36,
    "start_time": "2022-12-13T18:09:29.964Z"
   },
   {
    "duration": 41,
    "start_time": "2022-12-13T18:09:30.002Z"
   },
   {
    "duration": 32,
    "start_time": "2022-12-13T18:09:30.045Z"
   },
   {
    "duration": 22,
    "start_time": "2022-12-13T18:09:30.079Z"
   },
   {
    "duration": 138,
    "start_time": "2022-12-13T18:09:30.103Z"
   },
   {
    "duration": 36,
    "start_time": "2022-12-13T18:09:30.243Z"
   },
   {
    "duration": 36,
    "start_time": "2022-12-13T18:09:30.280Z"
   },
   {
    "duration": 62,
    "start_time": "2022-12-13T18:09:30.317Z"
   },
   {
    "duration": 556,
    "start_time": "2022-12-13T18:09:30.380Z"
   },
   {
    "duration": 560,
    "start_time": "2022-12-13T18:09:30.938Z"
   },
   {
    "duration": 678,
    "start_time": "2022-12-13T18:09:31.500Z"
   },
   {
    "duration": 5,
    "start_time": "2022-12-13T18:09:32.179Z"
   },
   {
    "duration": 156,
    "start_time": "2022-12-13T18:09:32.185Z"
   },
   {
    "duration": 4,
    "start_time": "2022-12-13T18:09:32.342Z"
   },
   {
    "duration": 56,
    "start_time": "2022-12-13T18:09:32.348Z"
   },
   {
    "duration": 45,
    "start_time": "2022-12-13T18:09:32.406Z"
   },
   {
    "duration": 100,
    "start_time": "2022-12-13T18:09:32.453Z"
   },
   {
    "duration": 27,
    "start_time": "2022-12-13T18:09:32.555Z"
   },
   {
    "duration": 50,
    "start_time": "2022-12-13T18:09:32.584Z"
   },
   {
    "duration": 10,
    "start_time": "2022-12-13T18:09:32.636Z"
   },
   {
    "duration": 30,
    "start_time": "2022-12-13T18:09:32.647Z"
   },
   {
    "duration": 33,
    "start_time": "2022-12-13T18:09:32.678Z"
   },
   {
    "duration": 29,
    "start_time": "2022-12-13T18:09:32.712Z"
   },
   {
    "duration": 24,
    "start_time": "2022-12-13T18:09:32.744Z"
   },
   {
    "duration": 28,
    "start_time": "2022-12-13T18:09:32.769Z"
   },
   {
    "duration": 20,
    "start_time": "2022-12-13T18:09:32.799Z"
   },
   {
    "duration": 32,
    "start_time": "2022-12-13T18:09:32.821Z"
   },
   {
    "duration": 22,
    "start_time": "2022-12-13T18:09:32.855Z"
   },
   {
    "duration": 13,
    "start_time": "2022-12-13T18:09:32.879Z"
   },
   {
    "duration": 21,
    "start_time": "2022-12-13T18:09:32.894Z"
   },
   {
    "duration": 18,
    "start_time": "2022-12-13T18:09:32.917Z"
   },
   {
    "duration": 21,
    "start_time": "2022-12-13T18:09:32.937Z"
   },
   {
    "duration": 165,
    "start_time": "2022-12-13T18:09:32.960Z"
   },
   {
    "duration": 102,
    "start_time": "2022-12-13T18:09:33.128Z"
   },
   {
    "duration": 194,
    "start_time": "2022-12-13T18:09:33.232Z"
   },
   {
    "duration": 135,
    "start_time": "2022-12-13T18:09:33.429Z"
   },
   {
    "duration": 2,
    "start_time": "2022-12-13T18:09:33.566Z"
   },
   {
    "duration": 9,
    "start_time": "2022-12-13T18:09:33.570Z"
   },
   {
    "duration": 18,
    "start_time": "2022-12-13T18:09:33.581Z"
   },
   {
    "duration": 31,
    "start_time": "2022-12-13T18:09:33.600Z"
   },
   {
    "duration": 36,
    "start_time": "2022-12-13T18:09:33.632Z"
   },
   {
    "duration": 18,
    "start_time": "2022-12-13T18:09:33.670Z"
   },
   {
    "duration": 16,
    "start_time": "2022-12-13T18:09:33.690Z"
   },
   {
    "duration": 12,
    "start_time": "2022-12-13T18:09:33.707Z"
   },
   {
    "duration": 22,
    "start_time": "2022-12-13T18:09:33.720Z"
   },
   {
    "duration": 6,
    "start_time": "2022-12-13T18:09:33.743Z"
   },
   {
    "duration": 922,
    "start_time": "2022-12-13T18:09:33.750Z"
   },
   {
    "duration": 939,
    "start_time": "2022-12-13T18:09:34.673Z"
   },
   {
    "duration": 908,
    "start_time": "2022-12-13T18:09:35.614Z"
   },
   {
    "duration": 4,
    "start_time": "2022-12-13T18:09:36.523Z"
   },
   {
    "duration": 918,
    "start_time": "2022-12-13T18:12:42.076Z"
   },
   {
    "duration": 934,
    "start_time": "2022-12-13T18:12:42.996Z"
   },
   {
    "duration": 967,
    "start_time": "2022-12-13T18:12:43.932Z"
   },
   {
    "duration": 895,
    "start_time": "2022-12-13T18:18:58.721Z"
   },
   {
    "duration": 5,
    "start_time": "2022-12-13T18:19:05.578Z"
   },
   {
    "duration": 968,
    "start_time": "2022-12-13T18:19:10.184Z"
   },
   {
    "duration": 954,
    "start_time": "2022-12-13T18:24:53.540Z"
   },
   {
    "duration": 975,
    "start_time": "2022-12-13T18:24:54.758Z"
   },
   {
    "duration": 953,
    "start_time": "2022-12-13T18:25:29.826Z"
   },
   {
    "duration": 948,
    "start_time": "2022-12-13T18:25:51.957Z"
   },
   {
    "duration": 931,
    "start_time": "2022-12-13T18:26:22.926Z"
   },
   {
    "duration": 938,
    "start_time": "2022-12-13T18:26:32.227Z"
   },
   {
    "duration": 936,
    "start_time": "2022-12-13T18:26:37.169Z"
   },
   {
    "duration": 924,
    "start_time": "2022-12-13T18:26:53.169Z"
   },
   {
    "duration": 1734,
    "start_time": "2022-12-14T15:20:01.151Z"
   },
   {
    "duration": 678,
    "start_time": "2022-12-14T15:20:02.888Z"
   },
   {
    "duration": 14,
    "start_time": "2022-12-14T15:20:03.568Z"
   },
   {
    "duration": 39,
    "start_time": "2022-12-14T15:20:03.584Z"
   },
   {
    "duration": 27,
    "start_time": "2022-12-14T15:20:03.625Z"
   },
   {
    "duration": 24,
    "start_time": "2022-12-14T15:20:03.654Z"
   },
   {
    "duration": 53,
    "start_time": "2022-12-14T15:20:03.680Z"
   },
   {
    "duration": 69,
    "start_time": "2022-12-14T15:20:03.735Z"
   },
   {
    "duration": 150,
    "start_time": "2022-12-14T15:20:03.806Z"
   },
   {
    "duration": 40,
    "start_time": "2022-12-14T15:20:03.957Z"
   },
   {
    "duration": 63,
    "start_time": "2022-12-14T15:20:03.999Z"
   },
   {
    "duration": 36,
    "start_time": "2022-12-14T15:20:04.064Z"
   },
   {
    "duration": 679,
    "start_time": "2022-12-14T15:20:04.102Z"
   },
   {
    "duration": 669,
    "start_time": "2022-12-14T15:20:04.786Z"
   },
   {
    "duration": 790,
    "start_time": "2022-12-14T15:20:05.457Z"
   },
   {
    "duration": 5,
    "start_time": "2022-12-14T15:20:06.248Z"
   },
   {
    "duration": 166,
    "start_time": "2022-12-14T15:20:06.255Z"
   },
   {
    "duration": 13,
    "start_time": "2022-12-14T15:20:06.423Z"
   },
   {
    "duration": 65,
    "start_time": "2022-12-14T15:20:06.437Z"
   },
   {
    "duration": 44,
    "start_time": "2022-12-14T15:20:06.504Z"
   },
   {
    "duration": 143,
    "start_time": "2022-12-14T15:20:06.550Z"
   },
   {
    "duration": 52,
    "start_time": "2022-12-14T15:20:06.696Z"
   },
   {
    "duration": 50,
    "start_time": "2022-12-14T15:20:06.750Z"
   },
   {
    "duration": 38,
    "start_time": "2022-12-14T15:20:06.801Z"
   },
   {
    "duration": 30,
    "start_time": "2022-12-14T15:20:06.841Z"
   },
   {
    "duration": 48,
    "start_time": "2022-12-14T15:20:06.873Z"
   },
   {
    "duration": 19,
    "start_time": "2022-12-14T15:20:06.924Z"
   },
   {
    "duration": 9,
    "start_time": "2022-12-14T15:20:06.945Z"
   },
   {
    "duration": 10,
    "start_time": "2022-12-14T15:20:06.956Z"
   },
   {
    "duration": 29,
    "start_time": "2022-12-14T15:20:06.967Z"
   },
   {
    "duration": 16,
    "start_time": "2022-12-14T15:20:06.997Z"
   },
   {
    "duration": 21,
    "start_time": "2022-12-14T15:20:07.037Z"
   },
   {
    "duration": 18,
    "start_time": "2022-12-14T15:20:07.061Z"
   },
   {
    "duration": 26,
    "start_time": "2022-12-14T15:20:07.082Z"
   },
   {
    "duration": 19,
    "start_time": "2022-12-14T15:20:07.136Z"
   },
   {
    "duration": 22,
    "start_time": "2022-12-14T15:20:07.157Z"
   },
   {
    "duration": 165,
    "start_time": "2022-12-14T15:20:07.181Z"
   },
   {
    "duration": 102,
    "start_time": "2022-12-14T15:20:07.348Z"
   },
   {
    "duration": 185,
    "start_time": "2022-12-14T15:20:07.452Z"
   },
   {
    "duration": 141,
    "start_time": "2022-12-14T15:20:07.639Z"
   },
   {
    "duration": 3,
    "start_time": "2022-12-14T15:20:07.785Z"
   },
   {
    "duration": 26,
    "start_time": "2022-12-14T15:20:07.790Z"
   },
   {
    "duration": 22,
    "start_time": "2022-12-14T15:20:07.819Z"
   },
   {
    "duration": 11,
    "start_time": "2022-12-14T15:20:07.843Z"
   },
   {
    "duration": 10,
    "start_time": "2022-12-14T15:20:07.856Z"
   },
   {
    "duration": 18,
    "start_time": "2022-12-14T15:20:07.868Z"
   },
   {
    "duration": 23,
    "start_time": "2022-12-14T15:20:07.888Z"
   },
   {
    "duration": 13,
    "start_time": "2022-12-14T15:20:07.913Z"
   },
   {
    "duration": 20,
    "start_time": "2022-12-14T15:20:07.927Z"
   },
   {
    "duration": 11,
    "start_time": "2022-12-14T15:20:07.949Z"
   },
   {
    "duration": 1081,
    "start_time": "2022-12-14T15:20:07.962Z"
   },
   {
    "duration": 1056,
    "start_time": "2022-12-14T15:20:09.045Z"
   },
   {
    "duration": 1060,
    "start_time": "2022-12-14T15:20:10.104Z"
   },
   {
    "duration": 4,
    "start_time": "2022-12-14T15:20:11.165Z"
   },
   {
    "duration": 114,
    "start_time": "2022-12-14T15:20:50.768Z"
   },
   {
    "duration": 9,
    "start_time": "2022-12-14T15:20:51.150Z"
   },
   {
    "duration": 4,
    "start_time": "2022-12-14T15:21:03.872Z"
   },
   {
    "duration": 4,
    "start_time": "2022-12-14T15:21:05.110Z"
   },
   {
    "duration": 7,
    "start_time": "2022-12-14T15:21:05.966Z"
   },
   {
    "duration": 19,
    "start_time": "2022-12-14T15:21:06.733Z"
   },
   {
    "duration": 1318,
    "start_time": "2022-12-14T15:22:16.246Z"
   },
   {
    "duration": 363,
    "start_time": "2022-12-14T15:22:17.566Z"
   },
   {
    "duration": 13,
    "start_time": "2022-12-14T15:22:17.931Z"
   },
   {
    "duration": 11,
    "start_time": "2022-12-14T15:22:17.945Z"
   },
   {
    "duration": 12,
    "start_time": "2022-12-14T15:22:17.958Z"
   },
   {
    "duration": 16,
    "start_time": "2022-12-14T15:22:17.971Z"
   },
   {
    "duration": 17,
    "start_time": "2022-12-14T15:22:17.989Z"
   },
   {
    "duration": 39,
    "start_time": "2022-12-14T15:22:18.008Z"
   },
   {
    "duration": 127,
    "start_time": "2022-12-14T15:22:18.048Z"
   },
   {
    "duration": 35,
    "start_time": "2022-12-14T15:22:18.177Z"
   },
   {
    "duration": 48,
    "start_time": "2022-12-14T15:22:18.213Z"
   },
   {
    "duration": 31,
    "start_time": "2022-12-14T15:22:18.262Z"
   },
   {
    "duration": 625,
    "start_time": "2022-12-14T15:22:18.294Z"
   },
   {
    "duration": 649,
    "start_time": "2022-12-14T15:22:18.922Z"
   },
   {
    "duration": 720,
    "start_time": "2022-12-14T15:22:19.573Z"
   },
   {
    "duration": 5,
    "start_time": "2022-12-14T15:22:20.295Z"
   },
   {
    "duration": 159,
    "start_time": "2022-12-14T15:22:20.301Z"
   },
   {
    "duration": 4,
    "start_time": "2022-12-14T15:22:20.462Z"
   },
   {
    "duration": 69,
    "start_time": "2022-12-14T15:22:20.468Z"
   },
   {
    "duration": 44,
    "start_time": "2022-12-14T15:22:20.539Z"
   },
   {
    "duration": 122,
    "start_time": "2022-12-14T15:22:20.585Z"
   },
   {
    "duration": 39,
    "start_time": "2022-12-14T15:22:20.709Z"
   },
   {
    "duration": 36,
    "start_time": "2022-12-14T15:22:20.750Z"
   },
   {
    "duration": 11,
    "start_time": "2022-12-14T15:22:20.787Z"
   },
   {
    "duration": 41,
    "start_time": "2022-12-14T15:22:20.799Z"
   },
   {
    "duration": 14,
    "start_time": "2022-12-14T15:22:20.842Z"
   },
   {
    "duration": 17,
    "start_time": "2022-12-14T15:22:20.857Z"
   },
   {
    "duration": 18,
    "start_time": "2022-12-14T15:22:20.876Z"
   },
   {
    "duration": 8,
    "start_time": "2022-12-14T15:22:20.896Z"
   },
   {
    "duration": 35,
    "start_time": "2022-12-14T15:22:20.905Z"
   },
   {
    "duration": 14,
    "start_time": "2022-12-14T15:22:20.941Z"
   },
   {
    "duration": 13,
    "start_time": "2022-12-14T15:22:20.957Z"
   },
   {
    "duration": 13,
    "start_time": "2022-12-14T15:22:20.972Z"
   },
   {
    "duration": 30,
    "start_time": "2022-12-14T15:22:20.986Z"
   },
   {
    "duration": 31,
    "start_time": "2022-12-14T15:22:21.017Z"
   },
   {
    "duration": 11,
    "start_time": "2022-12-14T15:22:21.049Z"
   },
   {
    "duration": 76,
    "start_time": "2022-12-14T15:22:21.062Z"
   },
   {
    "duration": 109,
    "start_time": "2022-12-14T15:22:21.144Z"
   },
   {
    "duration": 197,
    "start_time": "2022-12-14T15:22:21.255Z"
   },
   {
    "duration": 218,
    "start_time": "2022-12-14T15:22:21.454Z"
   },
   {
    "duration": 3,
    "start_time": "2022-12-14T15:22:21.675Z"
   },
   {
    "duration": 9,
    "start_time": "2022-12-14T15:22:21.679Z"
   },
   {
    "duration": 23,
    "start_time": "2022-12-14T15:22:21.689Z"
   },
   {
    "duration": 13,
    "start_time": "2022-12-14T15:22:21.713Z"
   },
   {
    "duration": 25,
    "start_time": "2022-12-14T15:22:21.728Z"
   },
   {
    "duration": 13,
    "start_time": "2022-12-14T15:22:21.754Z"
   },
   {
    "duration": 16,
    "start_time": "2022-12-14T15:22:21.768Z"
   },
   {
    "duration": 13,
    "start_time": "2022-12-14T15:22:21.786Z"
   },
   {
    "duration": 16,
    "start_time": "2022-12-14T15:22:21.801Z"
   },
   {
    "duration": 7,
    "start_time": "2022-12-14T15:22:21.818Z"
   },
   {
    "duration": 1010,
    "start_time": "2022-12-14T15:22:21.826Z"
   },
   {
    "duration": 904,
    "start_time": "2022-12-14T15:22:22.837Z"
   },
   {
    "duration": 915,
    "start_time": "2022-12-14T15:22:23.743Z"
   },
   {
    "duration": 5,
    "start_time": "2022-12-14T15:22:24.659Z"
   },
   {
    "duration": 7,
    "start_time": "2022-12-14T15:22:24.666Z"
   },
   {
    "duration": 11,
    "start_time": "2022-12-14T15:22:24.675Z"
   },
   {
    "duration": 8,
    "start_time": "2022-12-14T15:22:24.688Z"
   },
   {
    "duration": 5,
    "start_time": "2022-12-14T15:23:18.841Z"
   },
   {
    "duration": 4,
    "start_time": "2022-12-14T15:23:50.582Z"
   },
   {
    "duration": 4,
    "start_time": "2022-12-14T15:25:56.092Z"
   },
   {
    "duration": 4,
    "start_time": "2022-12-14T15:27:50.913Z"
   },
   {
    "duration": 8,
    "start_time": "2022-12-14T15:27:51.276Z"
   },
   {
    "duration": 5,
    "start_time": "2022-12-14T15:27:51.933Z"
   },
   {
    "duration": 4,
    "start_time": "2022-12-14T15:27:52.841Z"
   },
   {
    "duration": 6,
    "start_time": "2022-12-14T15:27:55.798Z"
   },
   {
    "duration": 4,
    "start_time": "2022-12-14T15:28:00.888Z"
   },
   {
    "duration": 4,
    "start_time": "2022-12-14T15:29:03.326Z"
   },
   {
    "duration": 6,
    "start_time": "2022-12-14T15:29:03.761Z"
   },
   {
    "duration": 4,
    "start_time": "2022-12-14T15:29:04.608Z"
   },
   {
    "duration": 4,
    "start_time": "2022-12-14T15:33:53.644Z"
   },
   {
    "duration": 4,
    "start_time": "2022-12-14T15:34:04.699Z"
   },
   {
    "duration": 3,
    "start_time": "2022-12-14T15:35:24.299Z"
   },
   {
    "duration": 5,
    "start_time": "2022-12-14T15:35:33.942Z"
   },
   {
    "duration": 4,
    "start_time": "2022-12-14T15:35:41.402Z"
   },
   {
    "duration": 52,
    "start_time": "2022-12-14T15:36:08.139Z"
   },
   {
    "duration": 1490,
    "start_time": "2022-12-14T15:36:15.501Z"
   },
   {
    "duration": 624,
    "start_time": "2022-12-14T15:36:16.993Z"
   },
   {
    "duration": 14,
    "start_time": "2022-12-14T15:36:17.618Z"
   },
   {
    "duration": 13,
    "start_time": "2022-12-14T15:36:17.634Z"
   },
   {
    "duration": 17,
    "start_time": "2022-12-14T15:36:17.650Z"
   },
   {
    "duration": 36,
    "start_time": "2022-12-14T15:36:17.669Z"
   },
   {
    "duration": 19,
    "start_time": "2022-12-14T15:36:17.706Z"
   },
   {
    "duration": 16,
    "start_time": "2022-12-14T15:36:17.727Z"
   },
   {
    "duration": 128,
    "start_time": "2022-12-14T15:36:17.745Z"
   },
   {
    "duration": 37,
    "start_time": "2022-12-14T15:36:17.876Z"
   },
   {
    "duration": 50,
    "start_time": "2022-12-14T15:36:17.915Z"
   },
   {
    "duration": 38,
    "start_time": "2022-12-14T15:36:17.967Z"
   },
   {
    "duration": 656,
    "start_time": "2022-12-14T15:36:18.013Z"
   },
   {
    "duration": 687,
    "start_time": "2022-12-14T15:36:18.671Z"
   },
   {
    "duration": 745,
    "start_time": "2022-12-14T15:36:19.359Z"
   },
   {
    "duration": 4,
    "start_time": "2022-12-14T15:36:20.106Z"
   },
   {
    "duration": 153,
    "start_time": "2022-12-14T15:36:20.112Z"
   },
   {
    "duration": 5,
    "start_time": "2022-12-14T15:36:20.267Z"
   },
   {
    "duration": 57,
    "start_time": "2022-12-14T15:36:20.273Z"
   },
   {
    "duration": 43,
    "start_time": "2022-12-14T15:36:20.332Z"
   },
   {
    "duration": 118,
    "start_time": "2022-12-14T15:36:20.377Z"
   },
   {
    "duration": 40,
    "start_time": "2022-12-14T15:36:20.496Z"
   },
   {
    "duration": 40,
    "start_time": "2022-12-14T15:36:20.538Z"
   },
   {
    "duration": 11,
    "start_time": "2022-12-14T15:36:20.580Z"
   },
   {
    "duration": 50,
    "start_time": "2022-12-14T15:36:20.593Z"
   },
   {
    "duration": 60,
    "start_time": "2022-12-14T15:36:20.645Z"
   },
   {
    "duration": 22,
    "start_time": "2022-12-14T15:36:20.706Z"
   },
   {
    "duration": 22,
    "start_time": "2022-12-14T15:36:20.732Z"
   },
   {
    "duration": 40,
    "start_time": "2022-12-14T15:36:20.756Z"
   },
   {
    "duration": 61,
    "start_time": "2022-12-14T15:36:20.798Z"
   },
   {
    "duration": 17,
    "start_time": "2022-12-14T15:36:20.861Z"
   },
   {
    "duration": 35,
    "start_time": "2022-12-14T15:36:20.880Z"
   },
   {
    "duration": 32,
    "start_time": "2022-12-14T15:36:20.916Z"
   },
   {
    "duration": 36,
    "start_time": "2022-12-14T15:36:20.950Z"
   },
   {
    "duration": 14,
    "start_time": "2022-12-14T15:36:20.988Z"
   },
   {
    "duration": 20,
    "start_time": "2022-12-14T15:36:21.004Z"
   },
   {
    "duration": 25,
    "start_time": "2022-12-14T15:36:21.025Z"
   },
   {
    "duration": 118,
    "start_time": "2022-12-14T15:36:21.135Z"
   },
   {
    "duration": 206,
    "start_time": "2022-12-14T15:36:21.255Z"
   },
   {
    "duration": 140,
    "start_time": "2022-12-14T15:36:21.537Z"
   },
   {
    "duration": 3,
    "start_time": "2022-12-14T15:36:21.679Z"
   },
   {
    "duration": 11,
    "start_time": "2022-12-14T15:36:21.684Z"
   },
   {
    "duration": 21,
    "start_time": "2022-12-14T15:36:21.697Z"
   },
   {
    "duration": 20,
    "start_time": "2022-12-14T15:36:21.719Z"
   },
   {
    "duration": 13,
    "start_time": "2022-12-14T15:36:21.741Z"
   },
   {
    "duration": 26,
    "start_time": "2022-12-14T15:36:21.756Z"
   },
   {
    "duration": 6,
    "start_time": "2022-12-14T15:36:21.784Z"
   },
   {
    "duration": 23,
    "start_time": "2022-12-14T15:36:21.792Z"
   },
   {
    "duration": 14,
    "start_time": "2022-12-14T15:36:21.817Z"
   },
   {
    "duration": 10,
    "start_time": "2022-12-14T15:36:21.833Z"
   },
   {
    "duration": 6,
    "start_time": "2022-12-14T15:36:21.845Z"
   },
   {
    "duration": 1155,
    "start_time": "2022-12-14T15:36:21.853Z"
   },
   {
    "duration": 995,
    "start_time": "2022-12-14T15:36:23.011Z"
   },
   {
    "duration": 1043,
    "start_time": "2022-12-14T15:36:24.008Z"
   },
   {
    "duration": 4,
    "start_time": "2022-12-14T15:36:25.052Z"
   },
   {
    "duration": 14,
    "start_time": "2022-12-14T15:36:25.058Z"
   },
   {
    "duration": 16,
    "start_time": "2022-12-14T15:36:25.074Z"
   },
   {
    "duration": 11,
    "start_time": "2022-12-14T15:36:25.093Z"
   },
   {
    "duration": 22,
    "start_time": "2022-12-14T15:36:25.106Z"
   },
   {
    "duration": 12,
    "start_time": "2022-12-14T15:36:25.130Z"
   },
   {
    "duration": 7,
    "start_time": "2022-12-14T15:36:25.144Z"
   },
   {
    "duration": 17,
    "start_time": "2022-12-14T15:36:25.153Z"
   },
   {
    "duration": 7,
    "start_time": "2022-12-14T15:36:25.172Z"
   },
   {
    "duration": 15,
    "start_time": "2022-12-14T15:36:25.180Z"
   },
   {
    "duration": 15,
    "start_time": "2022-12-14T15:36:25.197Z"
   },
   {
    "duration": 12,
    "start_time": "2022-12-14T15:36:25.214Z"
   },
   {
    "duration": 4,
    "start_time": "2022-12-14T15:37:20.667Z"
   },
   {
    "duration": 4,
    "start_time": "2022-12-14T15:37:29.471Z"
   },
   {
    "duration": 4,
    "start_time": "2022-12-14T15:37:34.115Z"
   },
   {
    "duration": 3,
    "start_time": "2022-12-14T15:37:46.206Z"
   },
   {
    "duration": 6,
    "start_time": "2022-12-14T15:39:05.859Z"
   },
   {
    "duration": 158,
    "start_time": "2022-12-14T15:39:11.331Z"
   },
   {
    "duration": 179,
    "start_time": "2022-12-14T15:39:49.951Z"
   },
   {
    "duration": 6,
    "start_time": "2022-12-14T15:44:26.182Z"
   },
   {
    "duration": 4,
    "start_time": "2022-12-14T15:45:27.867Z"
   },
   {
    "duration": 5,
    "start_time": "2022-12-14T15:45:31.808Z"
   },
   {
    "duration": 3,
    "start_time": "2022-12-14T15:45:56.276Z"
   },
   {
    "duration": 154,
    "start_time": "2022-12-14T15:45:56.799Z"
   },
   {
    "duration": 176,
    "start_time": "2022-12-14T15:48:29.225Z"
   },
   {
    "duration": 214,
    "start_time": "2022-12-14T15:48:35.972Z"
   },
   {
    "duration": 1469,
    "start_time": "2022-12-14T15:50:10.049Z"
   },
   {
    "duration": 380,
    "start_time": "2022-12-14T15:50:11.520Z"
   },
   {
    "duration": 14,
    "start_time": "2022-12-14T15:50:11.902Z"
   },
   {
    "duration": 19,
    "start_time": "2022-12-14T15:50:11.918Z"
   },
   {
    "duration": 28,
    "start_time": "2022-12-14T15:50:11.940Z"
   },
   {
    "duration": 31,
    "start_time": "2022-12-14T15:50:11.970Z"
   },
   {
    "duration": 21,
    "start_time": "2022-12-14T15:50:12.003Z"
   },
   {
    "duration": 29,
    "start_time": "2022-12-14T15:50:12.025Z"
   },
   {
    "duration": 131,
    "start_time": "2022-12-14T15:50:12.056Z"
   },
   {
    "duration": 47,
    "start_time": "2022-12-14T15:50:12.189Z"
   },
   {
    "duration": 36,
    "start_time": "2022-12-14T15:50:12.238Z"
   },
   {
    "duration": 35,
    "start_time": "2022-12-14T15:50:12.275Z"
   },
   {
    "duration": 751,
    "start_time": "2022-12-14T15:50:12.312Z"
   },
   {
    "duration": 646,
    "start_time": "2022-12-14T15:50:13.067Z"
   },
   {
    "duration": 773,
    "start_time": "2022-12-14T15:50:13.715Z"
   },
   {
    "duration": 5,
    "start_time": "2022-12-14T15:50:14.490Z"
   },
   {
    "duration": 193,
    "start_time": "2022-12-14T15:50:14.497Z"
   },
   {
    "duration": 4,
    "start_time": "2022-12-14T15:50:14.692Z"
   },
   {
    "duration": 61,
    "start_time": "2022-12-14T15:50:14.698Z"
   },
   {
    "duration": 44,
    "start_time": "2022-12-14T15:50:14.761Z"
   },
   {
    "duration": 119,
    "start_time": "2022-12-14T15:50:14.807Z"
   },
   {
    "duration": 39,
    "start_time": "2022-12-14T15:50:14.927Z"
   },
   {
    "duration": 37,
    "start_time": "2022-12-14T15:50:14.968Z"
   },
   {
    "duration": 34,
    "start_time": "2022-12-14T15:50:15.007Z"
   },
   {
    "duration": 25,
    "start_time": "2022-12-14T15:50:15.043Z"
   },
   {
    "duration": 38,
    "start_time": "2022-12-14T15:50:15.070Z"
   },
   {
    "duration": 23,
    "start_time": "2022-12-14T15:50:15.110Z"
   },
   {
    "duration": 9,
    "start_time": "2022-12-14T15:50:15.135Z"
   },
   {
    "duration": 10,
    "start_time": "2022-12-14T15:50:15.145Z"
   },
   {
    "duration": 29,
    "start_time": "2022-12-14T15:50:15.157Z"
   },
   {
    "duration": 16,
    "start_time": "2022-12-14T15:50:15.187Z"
   },
   {
    "duration": 24,
    "start_time": "2022-12-14T15:50:15.204Z"
   },
   {
    "duration": 18,
    "start_time": "2022-12-14T15:50:15.236Z"
   },
   {
    "duration": 27,
    "start_time": "2022-12-14T15:50:15.255Z"
   },
   {
    "duration": 29,
    "start_time": "2022-12-14T15:50:15.284Z"
   },
   {
    "duration": 10,
    "start_time": "2022-12-14T15:50:15.314Z"
   },
   {
    "duration": 38,
    "start_time": "2022-12-14T15:50:15.326Z"
   },
   {
    "duration": 273,
    "start_time": "2022-12-14T15:50:15.366Z"
   },
   {
    "duration": 102,
    "start_time": "2022-12-14T15:50:15.642Z"
   },
   {
    "duration": 217,
    "start_time": "2022-12-14T15:50:15.747Z"
   },
   {
    "duration": 3,
    "start_time": "2022-12-14T15:50:15.968Z"
   },
   {
    "duration": 21,
    "start_time": "2022-12-14T15:50:15.973Z"
   },
   {
    "duration": 19,
    "start_time": "2022-12-14T15:50:15.996Z"
   },
   {
    "duration": 23,
    "start_time": "2022-12-14T15:50:16.017Z"
   },
   {
    "duration": 25,
    "start_time": "2022-12-14T15:50:16.042Z"
   },
   {
    "duration": 25,
    "start_time": "2022-12-14T15:50:16.069Z"
   },
   {
    "duration": 10,
    "start_time": "2022-12-14T15:50:16.096Z"
   },
   {
    "duration": 36,
    "start_time": "2022-12-14T15:50:16.108Z"
   },
   {
    "duration": 14,
    "start_time": "2022-12-14T15:50:16.147Z"
   },
   {
    "duration": 11,
    "start_time": "2022-12-14T15:50:16.163Z"
   },
   {
    "duration": 14,
    "start_time": "2022-12-14T15:50:16.176Z"
   },
   {
    "duration": 1082,
    "start_time": "2022-12-14T15:50:16.191Z"
   },
   {
    "duration": 981,
    "start_time": "2022-12-14T15:50:17.275Z"
   },
   {
    "duration": 1013,
    "start_time": "2022-12-14T15:50:18.257Z"
   },
   {
    "duration": 4,
    "start_time": "2022-12-14T15:50:19.272Z"
   },
   {
    "duration": 21,
    "start_time": "2022-12-14T15:50:19.277Z"
   },
   {
    "duration": 210,
    "start_time": "2022-12-14T15:50:19.300Z"
   },
   {
    "duration": 3,
    "start_time": "2022-12-14T15:50:19.512Z"
   },
   {
    "duration": 220,
    "start_time": "2022-12-14T15:50:19.517Z"
   },
   {
    "duration": 147,
    "start_time": "2022-12-14T15:50:19.739Z"
   },
   {
    "duration": 167,
    "start_time": "2022-12-14T15:50:19.888Z"
   },
   {
    "duration": 4,
    "start_time": "2022-12-14T15:50:20.057Z"
   },
   {
    "duration": 33,
    "start_time": "2022-12-14T15:50:20.063Z"
   },
   {
    "duration": 20,
    "start_time": "2022-12-14T15:50:20.098Z"
   },
   {
    "duration": 13,
    "start_time": "2022-12-14T15:50:20.119Z"
   },
   {
    "duration": 7,
    "start_time": "2022-12-14T15:50:20.133Z"
   },
   {
    "duration": 11,
    "start_time": "2022-12-14T15:50:20.142Z"
   },
   {
    "duration": 35,
    "start_time": "2022-12-14T15:50:20.155Z"
   },
   {
    "duration": 18,
    "start_time": "2022-12-14T15:50:20.192Z"
   },
   {
    "duration": 19,
    "start_time": "2022-12-14T15:50:20.212Z"
   },
   {
    "duration": 25,
    "start_time": "2022-12-14T15:50:20.232Z"
   },
   {
    "duration": 21,
    "start_time": "2022-12-14T15:50:20.259Z"
   },
   {
    "duration": 18,
    "start_time": "2022-12-14T15:50:20.282Z"
   },
   {
    "duration": 25,
    "start_time": "2022-12-14T15:50:20.301Z"
   },
   {
    "duration": 8,
    "start_time": "2022-12-14T15:50:20.327Z"
   },
   {
    "duration": 20,
    "start_time": "2022-12-14T15:50:20.337Z"
   },
   {
    "duration": 1387,
    "start_time": "2022-12-14T15:52:00.971Z"
   },
   {
    "duration": 443,
    "start_time": "2022-12-14T15:52:02.360Z"
   },
   {
    "duration": 14,
    "start_time": "2022-12-14T15:52:02.805Z"
   },
   {
    "duration": 20,
    "start_time": "2022-12-14T15:52:02.821Z"
   },
   {
    "duration": 20,
    "start_time": "2022-12-14T15:52:02.843Z"
   },
   {
    "duration": 34,
    "start_time": "2022-12-14T15:52:02.865Z"
   },
   {
    "duration": 16,
    "start_time": "2022-12-14T15:52:02.900Z"
   },
   {
    "duration": 16,
    "start_time": "2022-12-14T15:52:02.918Z"
   },
   {
    "duration": 140,
    "start_time": "2022-12-14T15:52:02.935Z"
   },
   {
    "duration": 40,
    "start_time": "2022-12-14T15:52:03.077Z"
   },
   {
    "duration": 47,
    "start_time": "2022-12-14T15:52:03.119Z"
   },
   {
    "duration": 36,
    "start_time": "2022-12-14T15:52:03.168Z"
   },
   {
    "duration": 677,
    "start_time": "2022-12-14T15:52:03.206Z"
   },
   {
    "duration": 660,
    "start_time": "2022-12-14T15:52:03.886Z"
   },
   {
    "duration": 772,
    "start_time": "2022-12-14T15:52:04.547Z"
   },
   {
    "duration": 6,
    "start_time": "2022-12-14T15:52:05.320Z"
   },
   {
    "duration": 172,
    "start_time": "2022-12-14T15:52:05.327Z"
   },
   {
    "duration": 5,
    "start_time": "2022-12-14T15:52:05.500Z"
   },
   {
    "duration": 59,
    "start_time": "2022-12-14T15:52:05.506Z"
   },
   {
    "duration": 46,
    "start_time": "2022-12-14T15:52:05.567Z"
   },
   {
    "duration": 128,
    "start_time": "2022-12-14T15:52:05.615Z"
   },
   {
    "duration": 35,
    "start_time": "2022-12-14T15:52:05.746Z"
   },
   {
    "duration": 62,
    "start_time": "2022-12-14T15:52:05.783Z"
   },
   {
    "duration": 11,
    "start_time": "2022-12-14T15:52:05.847Z"
   },
   {
    "duration": 35,
    "start_time": "2022-12-14T15:52:05.859Z"
   },
   {
    "duration": 40,
    "start_time": "2022-12-14T15:52:05.896Z"
   },
   {
    "duration": 29,
    "start_time": "2022-12-14T15:52:05.938Z"
   },
   {
    "duration": 51,
    "start_time": "2022-12-14T15:52:05.969Z"
   },
   {
    "duration": 16,
    "start_time": "2022-12-14T15:52:06.022Z"
   },
   {
    "duration": 32,
    "start_time": "2022-12-14T15:52:06.039Z"
   },
   {
    "duration": 16,
    "start_time": "2022-12-14T15:52:06.073Z"
   },
   {
    "duration": 27,
    "start_time": "2022-12-14T15:52:06.092Z"
   },
   {
    "duration": 30,
    "start_time": "2022-12-14T15:52:06.121Z"
   },
   {
    "duration": 20,
    "start_time": "2022-12-14T15:52:06.153Z"
   },
   {
    "duration": 14,
    "start_time": "2022-12-14T15:52:06.175Z"
   },
   {
    "duration": 15,
    "start_time": "2022-12-14T15:52:06.191Z"
   },
   {
    "duration": 129,
    "start_time": "2022-12-14T15:52:06.208Z"
   },
   {
    "duration": 112,
    "start_time": "2022-12-14T15:52:06.339Z"
   },
   {
    "duration": 201,
    "start_time": "2022-12-14T15:52:06.453Z"
   },
   {
    "duration": 131,
    "start_time": "2022-12-14T15:52:06.737Z"
   },
   {
    "duration": 4,
    "start_time": "2022-12-14T15:52:06.872Z"
   },
   {
    "duration": 11,
    "start_time": "2022-12-14T15:52:06.878Z"
   },
   {
    "duration": 7,
    "start_time": "2022-12-14T15:52:06.891Z"
   },
   {
    "duration": 19,
    "start_time": "2022-12-14T15:52:06.900Z"
   },
   {
    "duration": 20,
    "start_time": "2022-12-14T15:52:06.921Z"
   },
   {
    "duration": 20,
    "start_time": "2022-12-14T15:52:06.943Z"
   },
   {
    "duration": 11,
    "start_time": "2022-12-14T15:52:06.965Z"
   },
   {
    "duration": 24,
    "start_time": "2022-12-14T15:52:06.978Z"
   },
   {
    "duration": 23,
    "start_time": "2022-12-14T15:52:07.004Z"
   },
   {
    "duration": 13,
    "start_time": "2022-12-14T15:52:07.029Z"
   },
   {
    "duration": 13,
    "start_time": "2022-12-14T15:52:07.044Z"
   },
   {
    "duration": 1089,
    "start_time": "2022-12-14T15:52:07.059Z"
   },
   {
    "duration": 1056,
    "start_time": "2022-12-14T15:52:08.150Z"
   },
   {
    "duration": 1050,
    "start_time": "2022-12-14T15:52:09.208Z"
   },
   {
    "duration": 6,
    "start_time": "2022-12-14T15:52:10.260Z"
   },
   {
    "duration": 30,
    "start_time": "2022-12-14T15:52:10.268Z"
   },
   {
    "duration": 204,
    "start_time": "2022-12-14T15:52:10.300Z"
   },
   {
    "duration": 4,
    "start_time": "2022-12-14T15:52:10.506Z"
   },
   {
    "duration": 208,
    "start_time": "2022-12-14T15:52:10.511Z"
   },
   {
    "duration": 3,
    "start_time": "2022-12-14T15:52:10.722Z"
   },
   {
    "duration": 206,
    "start_time": "2022-12-14T15:52:10.735Z"
   },
   {
    "duration": 4,
    "start_time": "2022-12-14T15:52:10.943Z"
   },
   {
    "duration": 24,
    "start_time": "2022-12-14T15:52:10.949Z"
   },
   {
    "duration": 12,
    "start_time": "2022-12-14T15:52:10.975Z"
   },
   {
    "duration": 24,
    "start_time": "2022-12-14T15:52:10.989Z"
   },
   {
    "duration": 22,
    "start_time": "2022-12-14T15:52:11.014Z"
   },
   {
    "duration": 29,
    "start_time": "2022-12-14T15:52:11.038Z"
   },
   {
    "duration": 21,
    "start_time": "2022-12-14T15:52:11.068Z"
   },
   {
    "duration": 36,
    "start_time": "2022-12-14T15:52:11.091Z"
   },
   {
    "duration": 27,
    "start_time": "2022-12-14T15:52:11.129Z"
   },
   {
    "duration": 27,
    "start_time": "2022-12-14T15:52:11.158Z"
   },
   {
    "duration": 18,
    "start_time": "2022-12-14T15:52:11.187Z"
   },
   {
    "duration": 1458,
    "start_time": "2022-12-14T15:53:47.518Z"
   },
   {
    "duration": 417,
    "start_time": "2022-12-14T15:53:48.978Z"
   },
   {
    "duration": 15,
    "start_time": "2022-12-14T15:53:49.396Z"
   },
   {
    "duration": 28,
    "start_time": "2022-12-14T15:53:49.413Z"
   },
   {
    "duration": 37,
    "start_time": "2022-12-14T15:53:49.444Z"
   },
   {
    "duration": 32,
    "start_time": "2022-12-14T15:53:49.483Z"
   },
   {
    "duration": 17,
    "start_time": "2022-12-14T15:53:49.518Z"
   },
   {
    "duration": 25,
    "start_time": "2022-12-14T15:53:49.537Z"
   },
   {
    "duration": 137,
    "start_time": "2022-12-14T15:53:49.564Z"
   },
   {
    "duration": 51,
    "start_time": "2022-12-14T15:53:49.703Z"
   },
   {
    "duration": 38,
    "start_time": "2022-12-14T15:53:49.756Z"
   },
   {
    "duration": 55,
    "start_time": "2022-12-14T15:53:49.796Z"
   },
   {
    "duration": 711,
    "start_time": "2022-12-14T15:53:49.853Z"
   },
   {
    "duration": 680,
    "start_time": "2022-12-14T15:53:50.567Z"
   },
   {
    "duration": 791,
    "start_time": "2022-12-14T15:53:51.249Z"
   },
   {
    "duration": 5,
    "start_time": "2022-12-14T15:53:52.042Z"
   },
   {
    "duration": 202,
    "start_time": "2022-12-14T15:53:52.048Z"
   },
   {
    "duration": 4,
    "start_time": "2022-12-14T15:53:52.253Z"
   },
   {
    "duration": 115,
    "start_time": "2022-12-14T15:53:52.260Z"
   },
   {
    "duration": 74,
    "start_time": "2022-12-14T15:53:52.378Z"
   },
   {
    "duration": 143,
    "start_time": "2022-12-14T15:53:52.454Z"
   },
   {
    "duration": 54,
    "start_time": "2022-12-14T15:53:52.600Z"
   },
   {
    "duration": 53,
    "start_time": "2022-12-14T15:53:52.657Z"
   },
   {
    "duration": 13,
    "start_time": "2022-12-14T15:53:52.734Z"
   },
   {
    "duration": 29,
    "start_time": "2022-12-14T15:53:52.749Z"
   },
   {
    "duration": 23,
    "start_time": "2022-12-14T15:53:52.780Z"
   },
   {
    "duration": 46,
    "start_time": "2022-12-14T15:53:52.805Z"
   },
   {
    "duration": 13,
    "start_time": "2022-12-14T15:53:52.853Z"
   },
   {
    "duration": 32,
    "start_time": "2022-12-14T15:53:52.868Z"
   },
   {
    "duration": 38,
    "start_time": "2022-12-14T15:53:52.902Z"
   },
   {
    "duration": 15,
    "start_time": "2022-12-14T15:53:52.942Z"
   },
   {
    "duration": 24,
    "start_time": "2022-12-14T15:53:52.959Z"
   },
   {
    "duration": 41,
    "start_time": "2022-12-14T15:53:52.985Z"
   },
   {
    "duration": 25,
    "start_time": "2022-12-14T15:53:53.028Z"
   },
   {
    "duration": 23,
    "start_time": "2022-12-14T15:53:53.054Z"
   },
   {
    "duration": 20,
    "start_time": "2022-12-14T15:53:53.079Z"
   },
   {
    "duration": 43,
    "start_time": "2022-12-14T15:53:53.101Z"
   },
   {
    "duration": 292,
    "start_time": "2022-12-14T15:53:53.146Z"
   },
   {
    "duration": 119,
    "start_time": "2022-12-14T15:53:53.441Z"
   },
   {
    "duration": 220,
    "start_time": "2022-12-14T15:53:53.562Z"
   },
   {
    "duration": 5,
    "start_time": "2022-12-14T15:53:53.786Z"
   },
   {
    "duration": 26,
    "start_time": "2022-12-14T15:53:53.793Z"
   },
   {
    "duration": 18,
    "start_time": "2022-12-14T15:53:53.821Z"
   },
   {
    "duration": 13,
    "start_time": "2022-12-14T15:53:53.841Z"
   },
   {
    "duration": 8,
    "start_time": "2022-12-14T15:53:53.856Z"
   },
   {
    "duration": 18,
    "start_time": "2022-12-14T15:53:53.866Z"
   },
   {
    "duration": 21,
    "start_time": "2022-12-14T15:53:53.886Z"
   },
   {
    "duration": 18,
    "start_time": "2022-12-14T15:53:53.909Z"
   },
   {
    "duration": 17,
    "start_time": "2022-12-14T15:53:53.929Z"
   },
   {
    "duration": 9,
    "start_time": "2022-12-14T15:53:53.948Z"
   },
   {
    "duration": 14,
    "start_time": "2022-12-14T15:53:53.959Z"
   },
   {
    "duration": 1050,
    "start_time": "2022-12-14T15:53:53.975Z"
   },
   {
    "duration": 1050,
    "start_time": "2022-12-14T15:53:55.027Z"
   },
   {
    "duration": 1047,
    "start_time": "2022-12-14T15:53:56.079Z"
   },
   {
    "duration": 7,
    "start_time": "2022-12-14T15:53:57.129Z"
   },
   {
    "duration": 37,
    "start_time": "2022-12-14T15:53:57.137Z"
   },
   {
    "duration": 264,
    "start_time": "2022-12-14T15:53:57.176Z"
   },
   {
    "duration": 5,
    "start_time": "2022-12-14T15:53:57.442Z"
   },
   {
    "duration": 6,
    "start_time": "2022-12-14T15:53:57.449Z"
   },
   {
    "duration": 201,
    "start_time": "2022-12-14T15:53:57.456Z"
   },
   {
    "duration": 5,
    "start_time": "2022-12-14T15:53:57.659Z"
   },
   {
    "duration": 19,
    "start_time": "2022-12-14T15:53:57.666Z"
   },
   {
    "duration": 201,
    "start_time": "2022-12-14T15:53:57.687Z"
   },
   {
    "duration": 5,
    "start_time": "2022-12-14T15:53:57.890Z"
   },
   {
    "duration": 27,
    "start_time": "2022-12-14T15:53:57.896Z"
   },
   {
    "duration": 16,
    "start_time": "2022-12-14T15:53:57.925Z"
   },
   {
    "duration": 10,
    "start_time": "2022-12-14T15:53:57.942Z"
   },
   {
    "duration": 11,
    "start_time": "2022-12-14T15:53:57.953Z"
   },
   {
    "duration": 7,
    "start_time": "2022-12-14T15:53:57.966Z"
   },
   {
    "duration": 21,
    "start_time": "2022-12-14T15:53:57.974Z"
   },
   {
    "duration": 15,
    "start_time": "2022-12-14T15:53:57.997Z"
   },
   {
    "duration": 12,
    "start_time": "2022-12-14T15:53:58.014Z"
   },
   {
    "duration": 6,
    "start_time": "2022-12-14T15:53:58.028Z"
   },
   {
    "duration": 15,
    "start_time": "2022-12-14T15:53:58.036Z"
   },
   {
    "duration": 8,
    "start_time": "2022-12-14T15:53:58.052Z"
   },
   {
    "duration": 1474,
    "start_time": "2022-12-14T15:56:22.138Z"
   },
   {
    "duration": 387,
    "start_time": "2022-12-14T15:56:23.614Z"
   },
   {
    "duration": 14,
    "start_time": "2022-12-14T15:56:24.003Z"
   },
   {
    "duration": 18,
    "start_time": "2022-12-14T15:56:24.018Z"
   },
   {
    "duration": 11,
    "start_time": "2022-12-14T15:56:24.039Z"
   },
   {
    "duration": 29,
    "start_time": "2022-12-14T15:56:24.051Z"
   },
   {
    "duration": 15,
    "start_time": "2022-12-14T15:56:24.082Z"
   },
   {
    "duration": 14,
    "start_time": "2022-12-14T15:56:24.099Z"
   },
   {
    "duration": 145,
    "start_time": "2022-12-14T15:56:24.115Z"
   },
   {
    "duration": 38,
    "start_time": "2022-12-14T15:56:24.262Z"
   },
   {
    "duration": 52,
    "start_time": "2022-12-14T15:56:24.302Z"
   },
   {
    "duration": 37,
    "start_time": "2022-12-14T15:56:24.356Z"
   },
   {
    "duration": 702,
    "start_time": "2022-12-14T15:56:24.395Z"
   },
   {
    "duration": 701,
    "start_time": "2022-12-14T15:56:25.101Z"
   },
   {
    "duration": 821,
    "start_time": "2022-12-14T15:56:25.804Z"
   },
   {
    "duration": 8,
    "start_time": "2022-12-14T15:56:26.627Z"
   },
   {
    "duration": 229,
    "start_time": "2022-12-14T15:56:26.637Z"
   },
   {
    "duration": 4,
    "start_time": "2022-12-14T15:56:26.867Z"
   },
   {
    "duration": 52,
    "start_time": "2022-12-14T15:56:26.873Z"
   },
   {
    "duration": 46,
    "start_time": "2022-12-14T15:56:26.934Z"
   },
   {
    "duration": 129,
    "start_time": "2022-12-14T15:56:26.982Z"
   },
   {
    "duration": 39,
    "start_time": "2022-12-14T15:56:27.113Z"
   },
   {
    "duration": 41,
    "start_time": "2022-12-14T15:56:27.153Z"
   },
   {
    "duration": 40,
    "start_time": "2022-12-14T15:56:27.195Z"
   },
   {
    "duration": 20,
    "start_time": "2022-12-14T15:56:27.237Z"
   },
   {
    "duration": 23,
    "start_time": "2022-12-14T15:56:27.258Z"
   },
   {
    "duration": 20,
    "start_time": "2022-12-14T15:56:27.282Z"
   },
   {
    "duration": 32,
    "start_time": "2022-12-14T15:56:27.305Z"
   },
   {
    "duration": 24,
    "start_time": "2022-12-14T15:56:27.339Z"
   },
   {
    "duration": 30,
    "start_time": "2022-12-14T15:56:27.365Z"
   },
   {
    "duration": 25,
    "start_time": "2022-12-14T15:56:27.397Z"
   },
   {
    "duration": 17,
    "start_time": "2022-12-14T15:56:27.424Z"
   },
   {
    "duration": 19,
    "start_time": "2022-12-14T15:56:27.442Z"
   },
   {
    "duration": 26,
    "start_time": "2022-12-14T15:56:27.463Z"
   },
   {
    "duration": 14,
    "start_time": "2022-12-14T15:56:27.491Z"
   },
   {
    "duration": 2,
    "start_time": "2022-12-14T15:56:27.507Z"
   },
   {
    "duration": 101,
    "start_time": "2022-12-14T15:56:27.534Z"
   },
   {
    "duration": 202,
    "start_time": "2022-12-14T15:56:27.638Z"
   },
   {
    "duration": 110,
    "start_time": "2022-12-14T15:56:27.842Z"
   },
   {
    "duration": 222,
    "start_time": "2022-12-14T15:56:27.955Z"
   },
   {
    "duration": 3,
    "start_time": "2022-12-14T15:56:28.181Z"
   },
   {
    "duration": 30,
    "start_time": "2022-12-14T15:56:28.186Z"
   },
   {
    "duration": 12,
    "start_time": "2022-12-14T15:56:28.217Z"
   },
   {
    "duration": 15,
    "start_time": "2022-12-14T15:56:28.230Z"
   },
   {
    "duration": 26,
    "start_time": "2022-12-14T15:56:28.246Z"
   },
   {
    "duration": 24,
    "start_time": "2022-12-14T15:56:28.273Z"
   },
   {
    "duration": 12,
    "start_time": "2022-12-14T15:56:28.300Z"
   },
   {
    "duration": 11,
    "start_time": "2022-12-14T15:56:28.314Z"
   },
   {
    "duration": 13,
    "start_time": "2022-12-14T15:56:28.327Z"
   },
   {
    "duration": 10,
    "start_time": "2022-12-14T15:56:28.341Z"
   },
   {
    "duration": 8,
    "start_time": "2022-12-14T15:56:28.353Z"
   },
   {
    "duration": 1076,
    "start_time": "2022-12-14T15:56:28.363Z"
   },
   {
    "duration": 1040,
    "start_time": "2022-12-14T15:56:29.441Z"
   },
   {
    "duration": 1062,
    "start_time": "2022-12-14T15:56:30.483Z"
   },
   {
    "duration": 4,
    "start_time": "2022-12-14T15:56:31.550Z"
   },
   {
    "duration": 22,
    "start_time": "2022-12-14T15:56:31.556Z"
   },
   {
    "duration": 220,
    "start_time": "2022-12-14T15:56:31.580Z"
   },
   {
    "duration": 6,
    "start_time": "2022-12-14T15:56:31.801Z"
   },
   {
    "duration": 50,
    "start_time": "2022-12-14T15:56:31.810Z"
   },
   {
    "duration": 217,
    "start_time": "2022-12-14T15:56:31.862Z"
   },
   {
    "duration": 17,
    "start_time": "2022-12-14T15:56:32.081Z"
   },
   {
    "duration": 18,
    "start_time": "2022-12-14T15:56:32.100Z"
   },
   {
    "duration": 229,
    "start_time": "2022-12-14T15:56:32.120Z"
   },
   {
    "duration": 6,
    "start_time": "2022-12-14T15:56:32.352Z"
   },
   {
    "duration": 21,
    "start_time": "2022-12-14T15:56:32.359Z"
   },
   {
    "duration": 22,
    "start_time": "2022-12-14T15:56:32.382Z"
   },
   {
    "duration": 10,
    "start_time": "2022-12-14T15:56:32.406Z"
   },
   {
    "duration": 17,
    "start_time": "2022-12-14T15:56:32.418Z"
   },
   {
    "duration": 15,
    "start_time": "2022-12-14T15:56:32.438Z"
   },
   {
    "duration": 21,
    "start_time": "2022-12-14T15:56:32.455Z"
   },
   {
    "duration": 19,
    "start_time": "2022-12-14T15:56:32.478Z"
   },
   {
    "duration": 17,
    "start_time": "2022-12-14T15:56:32.499Z"
   },
   {
    "duration": 12,
    "start_time": "2022-12-14T15:56:32.518Z"
   },
   {
    "duration": 35,
    "start_time": "2022-12-14T15:56:32.532Z"
   },
   {
    "duration": 17,
    "start_time": "2022-12-14T15:56:32.569Z"
   },
   {
    "duration": 1395,
    "start_time": "2022-12-14T15:59:09.683Z"
   },
   {
    "duration": 413,
    "start_time": "2022-12-14T15:59:11.080Z"
   },
   {
    "duration": 15,
    "start_time": "2022-12-14T15:59:11.494Z"
   },
   {
    "duration": 30,
    "start_time": "2022-12-14T15:59:11.511Z"
   },
   {
    "duration": 38,
    "start_time": "2022-12-14T15:59:11.544Z"
   },
   {
    "duration": 57,
    "start_time": "2022-12-14T15:59:11.583Z"
   },
   {
    "duration": 59,
    "start_time": "2022-12-14T15:59:11.642Z"
   },
   {
    "duration": 39,
    "start_time": "2022-12-14T15:59:11.703Z"
   },
   {
    "duration": 153,
    "start_time": "2022-12-14T15:59:11.744Z"
   },
   {
    "duration": 50,
    "start_time": "2022-12-14T15:59:11.899Z"
   },
   {
    "duration": 37,
    "start_time": "2022-12-14T15:59:11.950Z"
   },
   {
    "duration": 55,
    "start_time": "2022-12-14T15:59:11.990Z"
   },
   {
    "duration": 791,
    "start_time": "2022-12-14T15:59:12.048Z"
   },
   {
    "duration": 692,
    "start_time": "2022-12-14T15:59:12.842Z"
   },
   {
    "duration": 766,
    "start_time": "2022-12-14T15:59:13.536Z"
   },
   {
    "duration": 4,
    "start_time": "2022-12-14T15:59:14.304Z"
   },
   {
    "duration": 177,
    "start_time": "2022-12-14T15:59:14.310Z"
   },
   {
    "duration": 4,
    "start_time": "2022-12-14T15:59:14.490Z"
   },
   {
    "duration": 54,
    "start_time": "2022-12-14T15:59:14.496Z"
   },
   {
    "duration": 43,
    "start_time": "2022-12-14T15:59:14.552Z"
   },
   {
    "duration": 127,
    "start_time": "2022-12-14T15:59:14.597Z"
   },
   {
    "duration": 35,
    "start_time": "2022-12-14T15:59:14.726Z"
   },
   {
    "duration": 41,
    "start_time": "2022-12-14T15:59:14.762Z"
   },
   {
    "duration": 2,
    "start_time": "2022-12-14T15:59:14.805Z"
   },
   {
    "duration": 16,
    "start_time": "2022-12-14T15:59:14.835Z"
   },
   {
    "duration": 29,
    "start_time": "2022-12-14T15:59:14.852Z"
   },
   {
    "duration": 25,
    "start_time": "2022-12-14T15:59:14.883Z"
   },
   {
    "duration": 9,
    "start_time": "2022-12-14T15:59:14.909Z"
   },
   {
    "duration": 17,
    "start_time": "2022-12-14T15:59:14.920Z"
   },
   {
    "duration": 29,
    "start_time": "2022-12-14T15:59:14.939Z"
   },
   {
    "duration": 15,
    "start_time": "2022-12-14T15:59:14.969Z"
   },
   {
    "duration": 22,
    "start_time": "2022-12-14T15:59:14.986Z"
   },
   {
    "duration": 35,
    "start_time": "2022-12-14T15:59:15.009Z"
   },
   {
    "duration": 31,
    "start_time": "2022-12-14T15:59:15.045Z"
   },
   {
    "duration": 28,
    "start_time": "2022-12-14T15:59:15.078Z"
   },
   {
    "duration": 3,
    "start_time": "2022-12-14T15:59:15.107Z"
   },
   {
    "duration": 44,
    "start_time": "2022-12-14T15:59:15.112Z"
   },
   {
    "duration": 204,
    "start_time": "2022-12-14T15:59:15.158Z"
   },
   {
    "duration": 182,
    "start_time": "2022-12-14T15:59:15.364Z"
   },
   {
    "duration": 275,
    "start_time": "2022-12-14T15:59:15.549Z"
   },
   {
    "duration": 3,
    "start_time": "2022-12-14T15:59:15.830Z"
   },
   {
    "duration": 21,
    "start_time": "2022-12-14T15:59:15.835Z"
   },
   {
    "duration": 10,
    "start_time": "2022-12-14T15:59:15.858Z"
   },
   {
    "duration": 18,
    "start_time": "2022-12-14T15:59:15.870Z"
   },
   {
    "duration": 5,
    "start_time": "2022-12-14T15:59:15.890Z"
   },
   {
    "duration": 9,
    "start_time": "2022-12-14T15:59:15.897Z"
   },
   {
    "duration": 14,
    "start_time": "2022-12-14T15:59:15.908Z"
   },
   {
    "duration": 21,
    "start_time": "2022-12-14T15:59:15.924Z"
   },
   {
    "duration": 20,
    "start_time": "2022-12-14T15:59:15.947Z"
   },
   {
    "duration": 9,
    "start_time": "2022-12-14T15:59:15.969Z"
   },
   {
    "duration": 9,
    "start_time": "2022-12-14T15:59:15.979Z"
   },
   {
    "duration": 1095,
    "start_time": "2022-12-14T15:59:15.990Z"
   },
   {
    "duration": 1019,
    "start_time": "2022-12-14T15:59:17.087Z"
   },
   {
    "duration": 1044,
    "start_time": "2022-12-14T15:59:18.108Z"
   },
   {
    "duration": 5,
    "start_time": "2022-12-14T15:59:19.154Z"
   },
   {
    "duration": 27,
    "start_time": "2022-12-14T15:59:19.160Z"
   },
   {
    "duration": 230,
    "start_time": "2022-12-14T15:59:19.189Z"
   },
   {
    "duration": 5,
    "start_time": "2022-12-14T15:59:19.421Z"
   },
   {
    "duration": 8,
    "start_time": "2022-12-14T15:59:19.428Z"
   },
   {
    "duration": 204,
    "start_time": "2022-12-14T15:59:19.438Z"
   },
   {
    "duration": 5,
    "start_time": "2022-12-14T15:59:19.644Z"
   },
   {
    "duration": 9,
    "start_time": "2022-12-14T15:59:19.651Z"
   },
   {
    "duration": 210,
    "start_time": "2022-12-14T15:59:19.661Z"
   },
   {
    "duration": 5,
    "start_time": "2022-12-14T15:59:19.873Z"
   },
   {
    "duration": 17,
    "start_time": "2022-12-14T15:59:19.880Z"
   },
   {
    "duration": 9,
    "start_time": "2022-12-14T15:59:19.899Z"
   },
   {
    "duration": 21,
    "start_time": "2022-12-14T15:59:19.910Z"
   },
   {
    "duration": 12,
    "start_time": "2022-12-14T15:59:19.933Z"
   },
   {
    "duration": 11,
    "start_time": "2022-12-14T15:59:19.947Z"
   },
   {
    "duration": 7,
    "start_time": "2022-12-14T15:59:19.960Z"
   },
   {
    "duration": 7,
    "start_time": "2022-12-14T15:59:19.969Z"
   },
   {
    "duration": 14,
    "start_time": "2022-12-14T15:59:19.978Z"
   },
   {
    "duration": 10,
    "start_time": "2022-12-14T15:59:19.994Z"
   },
   {
    "duration": 24,
    "start_time": "2022-12-14T15:59:20.006Z"
   },
   {
    "duration": 21,
    "start_time": "2022-12-14T15:59:20.032Z"
   },
   {
    "duration": 4,
    "start_time": "2022-12-14T16:17:10.046Z"
   },
   {
    "duration": 1373,
    "start_time": "2022-12-14T16:17:23.501Z"
   },
   {
    "duration": 403,
    "start_time": "2022-12-14T16:17:24.876Z"
   },
   {
    "duration": 14,
    "start_time": "2022-12-14T16:17:25.281Z"
   },
   {
    "duration": 9,
    "start_time": "2022-12-14T16:17:25.297Z"
   },
   {
    "duration": 27,
    "start_time": "2022-12-14T16:17:25.308Z"
   },
   {
    "duration": 15,
    "start_time": "2022-12-14T16:17:25.337Z"
   },
   {
    "duration": 22,
    "start_time": "2022-12-14T16:17:25.353Z"
   },
   {
    "duration": 14,
    "start_time": "2022-12-14T16:17:25.377Z"
   },
   {
    "duration": 150,
    "start_time": "2022-12-14T16:17:25.393Z"
   },
   {
    "duration": 43,
    "start_time": "2022-12-14T16:17:25.545Z"
   },
   {
    "duration": 51,
    "start_time": "2022-12-14T16:17:25.590Z"
   },
   {
    "duration": 35,
    "start_time": "2022-12-14T16:17:25.643Z"
   },
   {
    "duration": 702,
    "start_time": "2022-12-14T16:17:25.680Z"
   },
   {
    "duration": 659,
    "start_time": "2022-12-14T16:17:26.384Z"
   },
   {
    "duration": 745,
    "start_time": "2022-12-14T16:17:27.045Z"
   },
   {
    "duration": 4,
    "start_time": "2022-12-14T16:17:27.792Z"
   },
   {
    "duration": 177,
    "start_time": "2022-12-14T16:17:27.798Z"
   },
   {
    "duration": 5,
    "start_time": "2022-12-14T16:17:27.976Z"
   },
   {
    "duration": 65,
    "start_time": "2022-12-14T16:17:27.982Z"
   },
   {
    "duration": 51,
    "start_time": "2022-12-14T16:17:28.049Z"
   },
   {
    "duration": 121,
    "start_time": "2022-12-14T16:17:28.102Z"
   },
   {
    "duration": 39,
    "start_time": "2022-12-14T16:17:28.225Z"
   },
   {
    "duration": 36,
    "start_time": "2022-12-14T16:17:28.266Z"
   },
   {
    "duration": 2,
    "start_time": "2022-12-14T16:17:28.304Z"
   },
   {
    "duration": 39,
    "start_time": "2022-12-14T16:17:28.308Z"
   },
   {
    "duration": 18,
    "start_time": "2022-12-14T16:17:28.349Z"
   },
   {
    "duration": 15,
    "start_time": "2022-12-14T16:17:28.368Z"
   },
   {
    "duration": 8,
    "start_time": "2022-12-14T16:17:28.387Z"
   },
   {
    "duration": 7,
    "start_time": "2022-12-14T16:17:28.397Z"
   },
   {
    "duration": 44,
    "start_time": "2022-12-14T16:17:28.406Z"
   },
   {
    "duration": 15,
    "start_time": "2022-12-14T16:17:28.451Z"
   },
   {
    "duration": 16,
    "start_time": "2022-12-14T16:17:28.467Z"
   },
   {
    "duration": 14,
    "start_time": "2022-12-14T16:17:28.485Z"
   },
   {
    "duration": 45,
    "start_time": "2022-12-14T16:17:28.500Z"
   },
   {
    "duration": 16,
    "start_time": "2022-12-14T16:17:28.547Z"
   },
   {
    "duration": 3,
    "start_time": "2022-12-14T16:17:28.565Z"
   },
   {
    "duration": 72,
    "start_time": "2022-12-14T16:17:28.569Z"
   },
   {
    "duration": 197,
    "start_time": "2022-12-14T16:17:28.643Z"
   },
   {
    "duration": 195,
    "start_time": "2022-12-14T16:17:28.842Z"
   },
   {
    "duration": 148,
    "start_time": "2022-12-14T16:17:29.040Z"
   },
   {
    "duration": 2,
    "start_time": "2022-12-14T16:17:29.190Z"
   },
   {
    "duration": 10,
    "start_time": "2022-12-14T16:17:29.194Z"
   },
   {
    "duration": 11,
    "start_time": "2022-12-14T16:17:29.205Z"
   },
   {
    "duration": 16,
    "start_time": "2022-12-14T16:17:29.217Z"
   },
   {
    "duration": 10,
    "start_time": "2022-12-14T16:17:29.234Z"
   },
   {
    "duration": 14,
    "start_time": "2022-12-14T16:17:29.245Z"
   },
   {
    "duration": 22,
    "start_time": "2022-12-14T16:17:29.261Z"
   },
   {
    "duration": 14,
    "start_time": "2022-12-14T16:17:29.285Z"
   },
   {
    "duration": 14,
    "start_time": "2022-12-14T16:17:29.301Z"
   },
   {
    "duration": 7,
    "start_time": "2022-12-14T16:17:29.317Z"
   },
   {
    "duration": 7,
    "start_time": "2022-12-14T16:17:29.326Z"
   },
   {
    "duration": 1020,
    "start_time": "2022-12-14T16:17:29.335Z"
   },
   {
    "duration": 1581,
    "start_time": "2022-12-14T16:17:30.357Z"
   },
   {
    "duration": 1183,
    "start_time": "2022-12-14T16:17:31.939Z"
   },
   {
    "duration": 4,
    "start_time": "2022-12-14T16:17:33.123Z"
   },
   {
    "duration": 9,
    "start_time": "2022-12-14T16:17:33.128Z"
   },
   {
    "duration": 179,
    "start_time": "2022-12-14T16:17:33.138Z"
   },
   {
    "duration": 5,
    "start_time": "2022-12-14T16:17:33.319Z"
   },
   {
    "duration": 6,
    "start_time": "2022-12-14T16:17:33.335Z"
   },
   {
    "duration": 174,
    "start_time": "2022-12-14T16:17:33.342Z"
   },
   {
    "duration": 5,
    "start_time": "2022-12-14T16:17:33.518Z"
   },
   {
    "duration": 3,
    "start_time": "2022-12-14T16:17:33.534Z"
   },
   {
    "duration": 176,
    "start_time": "2022-12-14T16:17:33.539Z"
   },
   {
    "duration": 5,
    "start_time": "2022-12-14T16:17:33.717Z"
   },
   {
    "duration": 16,
    "start_time": "2022-12-14T16:17:33.723Z"
   },
   {
    "duration": 10,
    "start_time": "2022-12-14T16:17:33.741Z"
   },
   {
    "duration": 7,
    "start_time": "2022-12-14T16:17:33.752Z"
   },
   {
    "duration": 22,
    "start_time": "2022-12-14T16:17:33.760Z"
   },
   {
    "duration": 12,
    "start_time": "2022-12-14T16:17:33.784Z"
   },
   {
    "duration": 6,
    "start_time": "2022-12-14T16:17:33.798Z"
   },
   {
    "duration": 13,
    "start_time": "2022-12-14T16:17:33.806Z"
   },
   {
    "duration": 6,
    "start_time": "2022-12-14T16:17:33.820Z"
   },
   {
    "duration": 11,
    "start_time": "2022-12-14T16:17:33.827Z"
   },
   {
    "duration": 18,
    "start_time": "2022-12-14T16:17:33.839Z"
   },
   {
    "duration": 8,
    "start_time": "2022-12-14T16:17:33.859Z"
   },
   {
    "duration": 3,
    "start_time": "2022-12-14T16:19:16.912Z"
   },
   {
    "duration": 4,
    "start_time": "2022-12-14T16:19:45.209Z"
   },
   {
    "duration": 4,
    "start_time": "2022-12-14T16:22:44.198Z"
   },
   {
    "duration": 4,
    "start_time": "2022-12-14T16:24:54.364Z"
   },
   {
    "duration": 4,
    "start_time": "2022-12-14T16:31:51.788Z"
   },
   {
    "duration": 4,
    "start_time": "2022-12-14T16:33:33.171Z"
   },
   {
    "duration": 1370,
    "start_time": "2022-12-14T16:34:52.864Z"
   },
   {
    "duration": 400,
    "start_time": "2022-12-14T16:34:54.236Z"
   },
   {
    "duration": 13,
    "start_time": "2022-12-14T16:34:54.638Z"
   },
   {
    "duration": 22,
    "start_time": "2022-12-14T16:34:54.653Z"
   },
   {
    "duration": 17,
    "start_time": "2022-12-14T16:34:54.678Z"
   },
   {
    "duration": 28,
    "start_time": "2022-12-14T16:34:54.697Z"
   },
   {
    "duration": 13,
    "start_time": "2022-12-14T16:34:54.727Z"
   },
   {
    "duration": 14,
    "start_time": "2022-12-14T16:34:54.742Z"
   },
   {
    "duration": 143,
    "start_time": "2022-12-14T16:34:54.758Z"
   },
   {
    "duration": 59,
    "start_time": "2022-12-14T16:34:54.903Z"
   },
   {
    "duration": 42,
    "start_time": "2022-12-14T16:34:54.963Z"
   },
   {
    "duration": 64,
    "start_time": "2022-12-14T16:34:55.008Z"
   },
   {
    "duration": 663,
    "start_time": "2022-12-14T16:34:55.074Z"
   },
   {
    "duration": 653,
    "start_time": "2022-12-14T16:34:55.741Z"
   },
   {
    "duration": 785,
    "start_time": "2022-12-14T16:34:56.396Z"
   },
   {
    "duration": 4,
    "start_time": "2022-12-14T16:34:57.183Z"
   },
   {
    "duration": 172,
    "start_time": "2022-12-14T16:34:57.188Z"
   },
   {
    "duration": 4,
    "start_time": "2022-12-14T16:34:57.362Z"
   },
   {
    "duration": 55,
    "start_time": "2022-12-14T16:34:57.368Z"
   },
   {
    "duration": 46,
    "start_time": "2022-12-14T16:34:57.425Z"
   },
   {
    "duration": 116,
    "start_time": "2022-12-14T16:34:57.473Z"
   },
   {
    "duration": 32,
    "start_time": "2022-12-14T16:34:57.591Z"
   },
   {
    "duration": 40,
    "start_time": "2022-12-14T16:34:57.636Z"
   },
   {
    "duration": 2,
    "start_time": "2022-12-14T16:34:57.677Z"
   },
   {
    "duration": 23,
    "start_time": "2022-12-14T16:34:57.681Z"
   },
   {
    "duration": 42,
    "start_time": "2022-12-14T16:34:57.705Z"
   },
   {
    "duration": 16,
    "start_time": "2022-12-14T16:34:57.749Z"
   },
   {
    "duration": 8,
    "start_time": "2022-12-14T16:34:57.766Z"
   },
   {
    "duration": 16,
    "start_time": "2022-12-14T16:34:57.776Z"
   },
   {
    "duration": 28,
    "start_time": "2022-12-14T16:34:57.793Z"
   },
   {
    "duration": 26,
    "start_time": "2022-12-14T16:34:57.822Z"
   },
   {
    "duration": 37,
    "start_time": "2022-12-14T16:34:57.849Z"
   },
   {
    "duration": 27,
    "start_time": "2022-12-14T16:34:57.888Z"
   },
   {
    "duration": 24,
    "start_time": "2022-12-14T16:34:57.917Z"
   },
   {
    "duration": 27,
    "start_time": "2022-12-14T16:34:57.943Z"
   },
   {
    "duration": 10,
    "start_time": "2022-12-14T16:34:57.972Z"
   },
   {
    "duration": 53,
    "start_time": "2022-12-14T16:34:57.984Z"
   },
   {
    "duration": 204,
    "start_time": "2022-12-14T16:34:58.041Z"
   },
   {
    "duration": 104,
    "start_time": "2022-12-14T16:34:58.250Z"
   },
   {
    "duration": 165,
    "start_time": "2022-12-14T16:34:58.435Z"
   },
   {
    "duration": 3,
    "start_time": "2022-12-14T16:34:58.605Z"
   },
   {
    "duration": 39,
    "start_time": "2022-12-14T16:34:58.609Z"
   },
   {
    "duration": 22,
    "start_time": "2022-12-14T16:34:58.650Z"
   },
   {
    "duration": 27,
    "start_time": "2022-12-14T16:34:58.674Z"
   },
   {
    "duration": 21,
    "start_time": "2022-12-14T16:34:58.703Z"
   },
   {
    "duration": 30,
    "start_time": "2022-12-14T16:34:58.725Z"
   },
   {
    "duration": 27,
    "start_time": "2022-12-14T16:34:58.757Z"
   },
   {
    "duration": 20,
    "start_time": "2022-12-14T16:34:58.786Z"
   },
   {
    "duration": 39,
    "start_time": "2022-12-14T16:34:58.808Z"
   },
   {
    "duration": 17,
    "start_time": "2022-12-14T16:34:58.849Z"
   },
   {
    "duration": 9,
    "start_time": "2022-12-14T16:34:58.868Z"
   },
   {
    "duration": 117,
    "start_time": "2022-12-14T16:34:58.879Z"
   },
   {
    "duration": 0,
    "start_time": "2022-12-14T16:34:58.998Z"
   },
   {
    "duration": 0,
    "start_time": "2022-12-14T16:34:59.000Z"
   },
   {
    "duration": 0,
    "start_time": "2022-12-14T16:34:59.001Z"
   },
   {
    "duration": 0,
    "start_time": "2022-12-14T16:34:59.003Z"
   },
   {
    "duration": 0,
    "start_time": "2022-12-14T16:34:59.005Z"
   },
   {
    "duration": 0,
    "start_time": "2022-12-14T16:34:59.006Z"
   },
   {
    "duration": 1,
    "start_time": "2022-12-14T16:34:59.007Z"
   },
   {
    "duration": 0,
    "start_time": "2022-12-14T16:34:59.009Z"
   },
   {
    "duration": 0,
    "start_time": "2022-12-14T16:34:59.010Z"
   },
   {
    "duration": 0,
    "start_time": "2022-12-14T16:34:59.012Z"
   },
   {
    "duration": 0,
    "start_time": "2022-12-14T16:34:59.013Z"
   },
   {
    "duration": 0,
    "start_time": "2022-12-14T16:34:59.036Z"
   },
   {
    "duration": 0,
    "start_time": "2022-12-14T16:34:59.037Z"
   },
   {
    "duration": 0,
    "start_time": "2022-12-14T16:34:59.040Z"
   },
   {
    "duration": 0,
    "start_time": "2022-12-14T16:34:59.041Z"
   },
   {
    "duration": 0,
    "start_time": "2022-12-14T16:34:59.043Z"
   },
   {
    "duration": 0,
    "start_time": "2022-12-14T16:34:59.045Z"
   },
   {
    "duration": 0,
    "start_time": "2022-12-14T16:34:59.046Z"
   },
   {
    "duration": 0,
    "start_time": "2022-12-14T16:34:59.048Z"
   },
   {
    "duration": 0,
    "start_time": "2022-12-14T16:34:59.050Z"
   },
   {
    "duration": 0,
    "start_time": "2022-12-14T16:34:59.051Z"
   },
   {
    "duration": 5,
    "start_time": "2022-12-14T16:36:00.094Z"
   },
   {
    "duration": 3,
    "start_time": "2022-12-14T16:36:00.593Z"
   },
   {
    "duration": 1032,
    "start_time": "2022-12-14T16:36:02.811Z"
   },
   {
    "duration": 1017,
    "start_time": "2022-12-14T16:36:03.845Z"
   },
   {
    "duration": 1039,
    "start_time": "2022-12-14T16:36:04.863Z"
   },
   {
    "duration": 3258,
    "start_time": "2022-12-14T16:43:44.940Z"
   },
   {
    "duration": 3,
    "start_time": "2022-12-14T16:53:56.228Z"
   },
   {
    "duration": 221,
    "start_time": "2022-12-14T16:53:56.737Z"
   },
   {
    "duration": 215,
    "start_time": "2022-12-14T16:55:17.724Z"
   },
   {
    "duration": 4,
    "start_time": "2022-12-14T16:55:20.435Z"
   },
   {
    "duration": 8,
    "start_time": "2022-12-14T16:55:20.927Z"
   },
   {
    "duration": 6,
    "start_time": "2022-12-14T16:58:53.858Z"
   },
   {
    "duration": 7,
    "start_time": "2022-12-14T16:58:54.313Z"
   },
   {
    "duration": 8,
    "start_time": "2022-12-14T17:01:13.871Z"
   },
   {
    "duration": 8,
    "start_time": "2022-12-14T17:03:45.774Z"
   },
   {
    "duration": 7,
    "start_time": "2022-12-14T17:03:52.903Z"
   },
   {
    "duration": 9,
    "start_time": "2022-12-14T17:17:39.522Z"
   },
   {
    "duration": 1493,
    "start_time": "2022-12-14T17:33:34.619Z"
   },
   {
    "duration": 419,
    "start_time": "2022-12-14T17:33:36.114Z"
   },
   {
    "duration": 19,
    "start_time": "2022-12-14T17:33:36.537Z"
   },
   {
    "duration": 14,
    "start_time": "2022-12-14T17:33:36.559Z"
   },
   {
    "duration": 24,
    "start_time": "2022-12-14T17:33:36.575Z"
   },
   {
    "duration": 27,
    "start_time": "2022-12-14T17:33:36.601Z"
   },
   {
    "duration": 27,
    "start_time": "2022-12-14T17:33:36.636Z"
   },
   {
    "duration": 19,
    "start_time": "2022-12-14T17:33:36.665Z"
   },
   {
    "duration": 200,
    "start_time": "2022-12-14T17:33:36.685Z"
   },
   {
    "duration": 53,
    "start_time": "2022-12-14T17:33:36.886Z"
   },
   {
    "duration": 38,
    "start_time": "2022-12-14T17:33:36.941Z"
   },
   {
    "duration": 61,
    "start_time": "2022-12-14T17:33:36.981Z"
   },
   {
    "duration": 684,
    "start_time": "2022-12-14T17:33:37.045Z"
   },
   {
    "duration": 648,
    "start_time": "2022-12-14T17:33:37.731Z"
   },
   {
    "duration": 754,
    "start_time": "2022-12-14T17:33:38.381Z"
   },
   {
    "duration": 5,
    "start_time": "2022-12-14T17:33:39.137Z"
   },
   {
    "duration": 165,
    "start_time": "2022-12-14T17:33:39.144Z"
   },
   {
    "duration": 4,
    "start_time": "2022-12-14T17:33:39.312Z"
   },
   {
    "duration": 56,
    "start_time": "2022-12-14T17:33:39.319Z"
   },
   {
    "duration": 45,
    "start_time": "2022-12-14T17:33:39.376Z"
   },
   {
    "duration": 112,
    "start_time": "2022-12-14T17:33:39.435Z"
   },
   {
    "duration": 32,
    "start_time": "2022-12-14T17:33:39.549Z"
   },
   {
    "duration": 63,
    "start_time": "2022-12-14T17:33:39.583Z"
   },
   {
    "duration": 3,
    "start_time": "2022-12-14T17:33:39.648Z"
   },
   {
    "duration": 17,
    "start_time": "2022-12-14T17:33:39.654Z"
   },
   {
    "duration": 19,
    "start_time": "2022-12-14T17:33:39.673Z"
   },
   {
    "duration": 45,
    "start_time": "2022-12-14T17:33:39.694Z"
   },
   {
    "duration": 8,
    "start_time": "2022-12-14T17:33:39.741Z"
   },
   {
    "duration": 12,
    "start_time": "2022-12-14T17:33:39.751Z"
   },
   {
    "duration": 22,
    "start_time": "2022-12-14T17:33:39.764Z"
   },
   {
    "duration": 13,
    "start_time": "2022-12-14T17:33:39.788Z"
   },
   {
    "duration": 41,
    "start_time": "2022-12-14T17:33:39.803Z"
   },
   {
    "duration": 15,
    "start_time": "2022-12-14T17:33:39.846Z"
   },
   {
    "duration": 19,
    "start_time": "2022-12-14T17:33:39.863Z"
   },
   {
    "duration": 14,
    "start_time": "2022-12-14T17:33:39.885Z"
   },
   {
    "duration": 3,
    "start_time": "2022-12-14T17:33:39.901Z"
   },
   {
    "duration": 101,
    "start_time": "2022-12-14T17:33:39.935Z"
   },
   {
    "duration": 110,
    "start_time": "2022-12-14T17:33:40.039Z"
   },
   {
    "duration": 287,
    "start_time": "2022-12-14T17:33:40.151Z"
   },
   {
    "duration": 46,
    "start_time": "2022-12-14T17:33:40.534Z"
   },
   {
    "duration": 3,
    "start_time": "2022-12-14T17:33:40.582Z"
   },
   {
    "duration": 7,
    "start_time": "2022-12-14T17:33:40.586Z"
   },
   {
    "duration": 13,
    "start_time": "2022-12-14T17:33:40.595Z"
   },
   {
    "duration": 12,
    "start_time": "2022-12-14T17:33:40.609Z"
   },
   {
    "duration": 20,
    "start_time": "2022-12-14T17:33:40.623Z"
   },
   {
    "duration": 32,
    "start_time": "2022-12-14T17:33:40.645Z"
   },
   {
    "duration": 4,
    "start_time": "2022-12-14T17:33:40.679Z"
   },
   {
    "duration": 3050,
    "start_time": "2022-12-14T17:33:40.685Z"
   },
   {
    "duration": 4,
    "start_time": "2022-12-14T17:33:43.737Z"
   },
   {
    "duration": 25,
    "start_time": "2022-12-14T17:33:43.743Z"
   },
   {
    "duration": 12,
    "start_time": "2022-12-14T17:33:43.770Z"
   },
   {
    "duration": 12,
    "start_time": "2022-12-14T17:33:43.784Z"
   },
   {
    "duration": 11,
    "start_time": "2022-12-14T17:33:43.798Z"
   },
   {
    "duration": 1447,
    "start_time": "2022-12-14T17:46:13.606Z"
   },
   {
    "duration": 406,
    "start_time": "2022-12-14T17:46:15.055Z"
   },
   {
    "duration": 14,
    "start_time": "2022-12-14T17:46:15.463Z"
   },
   {
    "duration": 15,
    "start_time": "2022-12-14T17:46:15.479Z"
   },
   {
    "duration": 42,
    "start_time": "2022-12-14T17:46:15.497Z"
   },
   {
    "duration": 42,
    "start_time": "2022-12-14T17:46:15.541Z"
   },
   {
    "duration": 23,
    "start_time": "2022-12-14T17:46:15.585Z"
   },
   {
    "duration": 16,
    "start_time": "2022-12-14T17:46:15.610Z"
   },
   {
    "duration": 141,
    "start_time": "2022-12-14T17:46:15.628Z"
   },
   {
    "duration": 40,
    "start_time": "2022-12-14T17:46:15.771Z"
   },
   {
    "duration": 52,
    "start_time": "2022-12-14T17:46:15.812Z"
   },
   {
    "duration": 36,
    "start_time": "2022-12-14T17:46:15.865Z"
   },
   {
    "duration": 694,
    "start_time": "2022-12-14T17:46:15.903Z"
   },
   {
    "duration": 685,
    "start_time": "2022-12-14T17:46:16.600Z"
   },
   {
    "duration": 767,
    "start_time": "2022-12-14T17:46:17.287Z"
   },
   {
    "duration": 6,
    "start_time": "2022-12-14T17:46:18.056Z"
   },
   {
    "duration": 164,
    "start_time": "2022-12-14T17:46:18.064Z"
   },
   {
    "duration": 7,
    "start_time": "2022-12-14T17:46:18.230Z"
   },
   {
    "duration": 54,
    "start_time": "2022-12-14T17:46:18.238Z"
   },
   {
    "duration": 53,
    "start_time": "2022-12-14T17:46:18.293Z"
   },
   {
    "duration": 117,
    "start_time": "2022-12-14T17:46:18.348Z"
   },
   {
    "duration": 36,
    "start_time": "2022-12-14T17:46:18.467Z"
   },
   {
    "duration": 68,
    "start_time": "2022-12-14T17:46:18.505Z"
   },
   {
    "duration": 20,
    "start_time": "2022-12-14T17:46:18.575Z"
   },
   {
    "duration": 40,
    "start_time": "2022-12-14T17:46:18.597Z"
   },
   {
    "duration": 19,
    "start_time": "2022-12-14T17:46:18.638Z"
   },
   {
    "duration": 9,
    "start_time": "2022-12-14T17:46:18.659Z"
   },
   {
    "duration": 8,
    "start_time": "2022-12-14T17:46:18.670Z"
   },
   {
    "duration": 31,
    "start_time": "2022-12-14T17:46:18.680Z"
   },
   {
    "duration": 17,
    "start_time": "2022-12-14T17:46:18.736Z"
   },
   {
    "duration": 25,
    "start_time": "2022-12-14T17:46:18.755Z"
   },
   {
    "duration": 15,
    "start_time": "2022-12-14T17:46:18.782Z"
   },
   {
    "duration": 42,
    "start_time": "2022-12-14T17:46:18.799Z"
   },
   {
    "duration": 17,
    "start_time": "2022-12-14T17:46:18.842Z"
   },
   {
    "duration": 10,
    "start_time": "2022-12-14T17:46:18.861Z"
   },
   {
    "duration": 164,
    "start_time": "2022-12-14T17:46:18.873Z"
   },
   {
    "duration": 199,
    "start_time": "2022-12-14T17:46:19.040Z"
   },
   {
    "duration": 126,
    "start_time": "2022-12-14T17:46:19.242Z"
   },
   {
    "duration": 162,
    "start_time": "2022-12-14T17:46:19.437Z"
   },
   {
    "duration": 3,
    "start_time": "2022-12-14T17:46:19.600Z"
   },
   {
    "duration": 18,
    "start_time": "2022-12-14T17:46:19.608Z"
   },
   {
    "duration": 22,
    "start_time": "2022-12-14T17:46:19.627Z"
   },
   {
    "duration": 23,
    "start_time": "2022-12-14T17:46:19.651Z"
   },
   {
    "duration": 44,
    "start_time": "2022-12-14T17:46:19.677Z"
   },
   {
    "duration": 4,
    "start_time": "2022-12-14T17:46:19.723Z"
   },
   {
    "duration": 3225,
    "start_time": "2022-12-14T17:46:19.729Z"
   },
   {
    "duration": 4,
    "start_time": "2022-12-14T17:46:22.955Z"
   },
   {
    "duration": 45,
    "start_time": "2022-12-14T17:46:22.961Z"
   },
   {
    "duration": 0,
    "start_time": "2022-12-14T17:46:23.009Z"
   },
   {
    "duration": 0,
    "start_time": "2022-12-14T17:46:23.010Z"
   },
   {
    "duration": 0,
    "start_time": "2022-12-14T17:46:23.012Z"
   },
   {
    "duration": 0,
    "start_time": "2022-12-14T17:46:23.013Z"
   },
   {
    "duration": 7,
    "start_time": "2022-12-14T17:48:14.136Z"
   },
   {
    "duration": 7,
    "start_time": "2022-12-14T17:48:14.257Z"
   },
   {
    "duration": 7,
    "start_time": "2022-12-14T17:48:14.449Z"
   },
   {
    "duration": 9,
    "start_time": "2022-12-14T17:48:15.206Z"
   },
   {
    "duration": 1461,
    "start_time": "2022-12-14T17:56:45.230Z"
   },
   {
    "duration": 430,
    "start_time": "2022-12-14T17:56:46.693Z"
   },
   {
    "duration": 15,
    "start_time": "2022-12-14T17:56:47.125Z"
   },
   {
    "duration": 28,
    "start_time": "2022-12-14T17:56:47.142Z"
   },
   {
    "duration": 14,
    "start_time": "2022-12-14T17:56:47.173Z"
   },
   {
    "duration": 25,
    "start_time": "2022-12-14T17:56:47.189Z"
   },
   {
    "duration": 15,
    "start_time": "2022-12-14T17:56:47.217Z"
   },
   {
    "duration": 16,
    "start_time": "2022-12-14T17:56:47.234Z"
   },
   {
    "duration": 143,
    "start_time": "2022-12-14T17:56:47.252Z"
   },
   {
    "duration": 51,
    "start_time": "2022-12-14T17:56:47.397Z"
   },
   {
    "duration": 37,
    "start_time": "2022-12-14T17:56:47.451Z"
   },
   {
    "duration": 55,
    "start_time": "2022-12-14T17:56:47.490Z"
   },
   {
    "duration": 678,
    "start_time": "2022-12-14T17:56:47.547Z"
   },
   {
    "duration": 643,
    "start_time": "2022-12-14T17:56:48.228Z"
   },
   {
    "duration": 817,
    "start_time": "2022-12-14T17:56:48.874Z"
   },
   {
    "duration": 5,
    "start_time": "2022-12-14T17:56:49.693Z"
   },
   {
    "duration": 173,
    "start_time": "2022-12-14T17:56:49.700Z"
   },
   {
    "duration": 4,
    "start_time": "2022-12-14T17:56:49.876Z"
   },
   {
    "duration": 55,
    "start_time": "2022-12-14T17:56:49.882Z"
   },
   {
    "duration": 45,
    "start_time": "2022-12-14T17:56:49.939Z"
   },
   {
    "duration": 133,
    "start_time": "2022-12-14T17:56:49.986Z"
   },
   {
    "duration": 39,
    "start_time": "2022-12-14T17:56:50.121Z"
   },
   {
    "duration": 38,
    "start_time": "2022-12-14T17:56:50.162Z"
   },
   {
    "duration": 34,
    "start_time": "2022-12-14T17:56:50.202Z"
   },
   {
    "duration": 20,
    "start_time": "2022-12-14T17:56:50.238Z"
   },
   {
    "duration": 20,
    "start_time": "2022-12-14T17:56:50.260Z"
   },
   {
    "duration": 13,
    "start_time": "2022-12-14T17:56:50.281Z"
   },
   {
    "duration": 11,
    "start_time": "2022-12-14T17:56:50.296Z"
   },
   {
    "duration": 31,
    "start_time": "2022-12-14T17:56:50.308Z"
   },
   {
    "duration": 14,
    "start_time": "2022-12-14T17:56:50.341Z"
   },
   {
    "duration": 17,
    "start_time": "2022-12-14T17:56:50.356Z"
   },
   {
    "duration": 15,
    "start_time": "2022-12-14T17:56:50.375Z"
   },
   {
    "duration": 46,
    "start_time": "2022-12-14T17:56:50.391Z"
   },
   {
    "duration": 14,
    "start_time": "2022-12-14T17:56:50.439Z"
   },
   {
    "duration": 9,
    "start_time": "2022-12-14T17:56:50.455Z"
   },
   {
    "duration": 72,
    "start_time": "2022-12-14T17:56:50.465Z"
   },
   {
    "duration": 110,
    "start_time": "2022-12-14T17:56:50.540Z"
   },
   {
    "duration": 209,
    "start_time": "2022-12-14T17:56:50.653Z"
   },
   {
    "duration": 214,
    "start_time": "2022-12-14T17:56:50.864Z"
   },
   {
    "duration": 3,
    "start_time": "2022-12-14T17:56:51.079Z"
   },
   {
    "duration": 24,
    "start_time": "2022-12-14T17:56:51.087Z"
   },
   {
    "duration": 11,
    "start_time": "2022-12-14T17:56:51.113Z"
   },
   {
    "duration": 20,
    "start_time": "2022-12-14T17:56:51.126Z"
   },
   {
    "duration": 32,
    "start_time": "2022-12-14T17:56:51.148Z"
   },
   {
    "duration": 4,
    "start_time": "2022-12-14T17:56:51.182Z"
   },
   {
    "duration": 3061,
    "start_time": "2022-12-14T17:56:51.188Z"
   },
   {
    "duration": 3,
    "start_time": "2022-12-14T17:56:54.250Z"
   },
   {
    "duration": 17,
    "start_time": "2022-12-14T17:56:54.255Z"
   },
   {
    "duration": 10,
    "start_time": "2022-12-14T17:56:54.274Z"
   },
   {
    "duration": 26,
    "start_time": "2022-12-14T17:56:54.286Z"
   },
   {
    "duration": 8,
    "start_time": "2022-12-14T17:56:54.314Z"
   },
   {
    "duration": 1549,
    "start_time": "2022-12-15T10:34:06.456Z"
   },
   {
    "duration": 1719,
    "start_time": "2022-12-15T10:34:08.007Z"
   },
   {
    "duration": 13,
    "start_time": "2022-12-15T10:34:09.728Z"
   },
   {
    "duration": 11,
    "start_time": "2022-12-15T10:34:09.742Z"
   },
   {
    "duration": 11,
    "start_time": "2022-12-15T10:34:09.755Z"
   },
   {
    "duration": 22,
    "start_time": "2022-12-15T10:34:09.768Z"
   },
   {
    "duration": 13,
    "start_time": "2022-12-15T10:34:09.791Z"
   },
   {
    "duration": 13,
    "start_time": "2022-12-15T10:34:09.805Z"
   },
   {
    "duration": 159,
    "start_time": "2022-12-15T10:34:09.819Z"
   },
   {
    "duration": 36,
    "start_time": "2022-12-15T10:34:09.979Z"
   },
   {
    "duration": 34,
    "start_time": "2022-12-15T10:34:10.016Z"
   },
   {
    "duration": 57,
    "start_time": "2022-12-15T10:34:10.052Z"
   },
   {
    "duration": 683,
    "start_time": "2022-12-15T10:34:10.110Z"
   },
   {
    "duration": 594,
    "start_time": "2022-12-15T10:34:10.796Z"
   },
   {
    "duration": 701,
    "start_time": "2022-12-15T10:34:11.392Z"
   },
   {
    "duration": 35,
    "start_time": "2022-12-15T10:34:12.095Z"
   },
   {
    "duration": 15,
    "start_time": "2022-12-15T10:34:12.131Z"
   },
   {
    "duration": 48,
    "start_time": "2022-12-15T10:34:12.148Z"
   },
   {
    "duration": 19,
    "start_time": "2022-12-15T10:34:12.198Z"
   },
   {
    "duration": 9,
    "start_time": "2022-12-15T10:34:12.219Z"
   },
   {
    "duration": 9,
    "start_time": "2022-12-15T10:34:12.230Z"
   },
   {
    "duration": 42,
    "start_time": "2022-12-15T10:34:12.241Z"
   },
   {
    "duration": 15,
    "start_time": "2022-12-15T10:34:12.285Z"
   },
   {
    "duration": 17,
    "start_time": "2022-12-15T10:34:12.302Z"
   },
   {
    "duration": 18,
    "start_time": "2022-12-15T10:34:12.322Z"
   },
   {
    "duration": 22,
    "start_time": "2022-12-15T10:34:12.377Z"
   },
   {
    "duration": 18,
    "start_time": "2022-12-15T10:34:12.401Z"
   },
   {
    "duration": 3,
    "start_time": "2022-12-15T10:34:12.421Z"
   },
   {
    "duration": 161,
    "start_time": "2022-12-15T10:34:12.426Z"
   },
   {
    "duration": 188,
    "start_time": "2022-12-15T10:34:12.592Z"
   },
   {
    "duration": 201,
    "start_time": "2022-12-15T10:34:12.782Z"
   },
   {
    "duration": 38,
    "start_time": "2022-12-15T10:34:13.077Z"
   },
   {
    "duration": 3,
    "start_time": "2022-12-15T10:34:13.116Z"
   },
   {
    "duration": 7,
    "start_time": "2022-12-15T10:34:13.120Z"
   },
   {
    "duration": 11,
    "start_time": "2022-12-15T10:34:13.128Z"
   },
   {
    "duration": 7,
    "start_time": "2022-12-15T10:34:13.140Z"
   },
   {
    "duration": 42,
    "start_time": "2022-12-15T10:34:13.148Z"
   },
   {
    "duration": 4,
    "start_time": "2022-12-15T10:34:13.191Z"
   },
   {
    "duration": 2757,
    "start_time": "2022-12-15T10:34:13.196Z"
   },
   {
    "duration": 3,
    "start_time": "2022-12-15T10:34:15.955Z"
   },
   {
    "duration": 20,
    "start_time": "2022-12-15T10:34:15.962Z"
   },
   {
    "duration": 5,
    "start_time": "2022-12-15T10:34:15.984Z"
   },
   {
    "duration": 8,
    "start_time": "2022-12-15T10:34:15.991Z"
   },
   {
    "duration": 8,
    "start_time": "2022-12-15T10:34:16.000Z"
   },
   {
    "duration": 7,
    "start_time": "2022-12-15T10:52:53.021Z"
   },
   {
    "duration": 7,
    "start_time": "2022-12-15T10:53:05.619Z"
   },
   {
    "duration": 1345,
    "start_time": "2022-12-15T10:55:56.490Z"
   },
   {
    "duration": 357,
    "start_time": "2022-12-15T10:55:57.837Z"
   },
   {
    "duration": 12,
    "start_time": "2022-12-15T10:55:58.196Z"
   },
   {
    "duration": 9,
    "start_time": "2022-12-15T10:55:58.209Z"
   },
   {
    "duration": 10,
    "start_time": "2022-12-15T10:55:58.219Z"
   },
   {
    "duration": 16,
    "start_time": "2022-12-15T10:55:58.230Z"
   },
   {
    "duration": 15,
    "start_time": "2022-12-15T10:55:58.277Z"
   },
   {
    "duration": 16,
    "start_time": "2022-12-15T10:55:58.294Z"
   },
   {
    "duration": 136,
    "start_time": "2022-12-15T10:55:58.312Z"
   },
   {
    "duration": 44,
    "start_time": "2022-12-15T10:55:58.449Z"
   },
   {
    "duration": 31,
    "start_time": "2022-12-15T10:55:58.495Z"
   },
   {
    "duration": 56,
    "start_time": "2022-12-15T10:55:58.528Z"
   },
   {
    "duration": 599,
    "start_time": "2022-12-15T10:55:58.585Z"
   },
   {
    "duration": 614,
    "start_time": "2022-12-15T10:55:59.188Z"
   },
   {
    "duration": 685,
    "start_time": "2022-12-15T10:55:59.804Z"
   },
   {
    "duration": 4,
    "start_time": "2022-12-15T10:56:00.491Z"
   },
   {
    "duration": 209,
    "start_time": "2022-12-15T10:56:00.497Z"
   },
   {
    "duration": 4,
    "start_time": "2022-12-15T10:56:00.708Z"
   },
   {
    "duration": 72,
    "start_time": "2022-12-15T10:56:00.713Z"
   },
   {
    "duration": 51,
    "start_time": "2022-12-15T10:56:00.786Z"
   },
   {
    "duration": 130,
    "start_time": "2022-12-15T10:56:00.838Z"
   },
   {
    "duration": 36,
    "start_time": "2022-12-15T10:56:00.970Z"
   },
   {
    "duration": 77,
    "start_time": "2022-12-15T10:56:01.008Z"
   },
   {
    "duration": 16,
    "start_time": "2022-12-15T10:56:01.087Z"
   },
   {
    "duration": 51,
    "start_time": "2022-12-15T10:56:01.105Z"
   },
   {
    "duration": 33,
    "start_time": "2022-12-15T10:56:01.157Z"
   },
   {
    "duration": 9,
    "start_time": "2022-12-15T10:56:01.192Z"
   },
   {
    "duration": 16,
    "start_time": "2022-12-15T10:56:01.203Z"
   },
   {
    "duration": 11,
    "start_time": "2022-12-15T10:56:01.221Z"
   },
   {
    "duration": 16,
    "start_time": "2022-12-15T10:56:01.234Z"
   },
   {
    "duration": 147,
    "start_time": "2022-12-15T10:56:01.251Z"
   },
   {
    "duration": 0,
    "start_time": "2022-12-15T10:56:01.400Z"
   },
   {
    "duration": 0,
    "start_time": "2022-12-15T10:56:01.402Z"
   },
   {
    "duration": 0,
    "start_time": "2022-12-15T10:56:01.402Z"
   },
   {
    "duration": 0,
    "start_time": "2022-12-15T10:56:01.404Z"
   },
   {
    "duration": 0,
    "start_time": "2022-12-15T10:56:01.404Z"
   },
   {
    "duration": 0,
    "start_time": "2022-12-15T10:56:01.405Z"
   },
   {
    "duration": 0,
    "start_time": "2022-12-15T10:56:01.406Z"
   },
   {
    "duration": 0,
    "start_time": "2022-12-15T10:56:01.408Z"
   },
   {
    "duration": 0,
    "start_time": "2022-12-15T10:56:01.409Z"
   },
   {
    "duration": 0,
    "start_time": "2022-12-15T10:56:01.410Z"
   },
   {
    "duration": 0,
    "start_time": "2022-12-15T10:56:01.411Z"
   },
   {
    "duration": 0,
    "start_time": "2022-12-15T10:56:01.412Z"
   },
   {
    "duration": 0,
    "start_time": "2022-12-15T10:56:01.412Z"
   },
   {
    "duration": 0,
    "start_time": "2022-12-15T10:56:01.413Z"
   },
   {
    "duration": 0,
    "start_time": "2022-12-15T10:56:01.414Z"
   },
   {
    "duration": 0,
    "start_time": "2022-12-15T10:56:01.415Z"
   },
   {
    "duration": 0,
    "start_time": "2022-12-15T10:56:01.416Z"
   },
   {
    "duration": 0,
    "start_time": "2022-12-15T10:56:01.417Z"
   },
   {
    "duration": 0,
    "start_time": "2022-12-15T10:56:01.418Z"
   },
   {
    "duration": 4,
    "start_time": "2022-12-15T10:57:02.509Z"
   },
   {
    "duration": 2,
    "start_time": "2022-12-15T10:57:02.912Z"
   },
   {
    "duration": 8,
    "start_time": "2022-12-15T10:57:04.215Z"
   },
   {
    "duration": 35,
    "start_time": "2022-12-15T10:57:04.738Z"
   },
   {
    "duration": 46,
    "start_time": "2022-12-15T10:57:19.920Z"
   },
   {
    "duration": 35,
    "start_time": "2022-12-15T10:57:23.155Z"
   },
   {
    "duration": 9,
    "start_time": "2022-12-15T11:02:37.288Z"
   },
   {
    "duration": 18,
    "start_time": "2022-12-15T11:02:52.152Z"
   },
   {
    "duration": 6,
    "start_time": "2022-12-15T11:03:26.605Z"
   },
   {
    "duration": 1284,
    "start_time": "2022-12-15T11:04:30.618Z"
   },
   {
    "duration": 379,
    "start_time": "2022-12-15T11:04:31.904Z"
   },
   {
    "duration": 14,
    "start_time": "2022-12-15T11:04:32.284Z"
   },
   {
    "duration": 9,
    "start_time": "2022-12-15T11:04:32.299Z"
   },
   {
    "duration": 11,
    "start_time": "2022-12-15T11:04:32.310Z"
   },
   {
    "duration": 15,
    "start_time": "2022-12-15T11:04:32.322Z"
   },
   {
    "duration": 13,
    "start_time": "2022-12-15T11:04:32.338Z"
   },
   {
    "duration": 13,
    "start_time": "2022-12-15T11:04:32.378Z"
   },
   {
    "duration": 122,
    "start_time": "2022-12-15T11:04:32.393Z"
   },
   {
    "duration": 34,
    "start_time": "2022-12-15T11:04:32.517Z"
   },
   {
    "duration": 49,
    "start_time": "2022-12-15T11:04:32.552Z"
   },
   {
    "duration": 32,
    "start_time": "2022-12-15T11:04:32.602Z"
   },
   {
    "duration": 634,
    "start_time": "2022-12-15T11:04:32.635Z"
   },
   {
    "duration": 560,
    "start_time": "2022-12-15T11:04:33.277Z"
   },
   {
    "duration": 717,
    "start_time": "2022-12-15T11:04:33.839Z"
   },
   {
    "duration": 4,
    "start_time": "2022-12-15T11:04:34.558Z"
   },
   {
    "duration": 148,
    "start_time": "2022-12-15T11:04:34.564Z"
   },
   {
    "duration": 4,
    "start_time": "2022-12-15T11:04:34.713Z"
   },
   {
    "duration": 41,
    "start_time": "2022-12-15T11:04:34.718Z"
   },
   {
    "duration": 50,
    "start_time": "2022-12-15T11:04:34.761Z"
   },
   {
    "duration": 106,
    "start_time": "2022-12-15T11:04:34.812Z"
   },
   {
    "duration": 28,
    "start_time": "2022-12-15T11:04:34.919Z"
   },
   {
    "duration": 50,
    "start_time": "2022-12-15T11:04:34.949Z"
   },
   {
    "duration": 12,
    "start_time": "2022-12-15T11:04:35.000Z"
   },
   {
    "duration": 34,
    "start_time": "2022-12-15T11:04:35.014Z"
   },
   {
    "duration": 14,
    "start_time": "2022-12-15T11:04:35.050Z"
   },
   {
    "duration": 7,
    "start_time": "2022-12-15T11:04:35.078Z"
   },
   {
    "duration": 5,
    "start_time": "2022-12-15T11:04:35.087Z"
   },
   {
    "duration": 13,
    "start_time": "2022-12-15T11:04:35.094Z"
   },
   {
    "duration": 9,
    "start_time": "2022-12-15T11:04:35.109Z"
   },
   {
    "duration": 25,
    "start_time": "2022-12-15T11:04:35.120Z"
   },
   {
    "duration": 23,
    "start_time": "2022-12-15T11:04:35.146Z"
   },
   {
    "duration": 104,
    "start_time": "2022-12-15T11:04:35.171Z"
   },
   {
    "duration": 0,
    "start_time": "2022-12-15T11:04:35.278Z"
   },
   {
    "duration": 0,
    "start_time": "2022-12-15T11:04:35.279Z"
   },
   {
    "duration": 0,
    "start_time": "2022-12-15T11:04:35.280Z"
   },
   {
    "duration": 0,
    "start_time": "2022-12-15T11:04:35.280Z"
   },
   {
    "duration": 0,
    "start_time": "2022-12-15T11:04:35.281Z"
   },
   {
    "duration": 0,
    "start_time": "2022-12-15T11:04:35.282Z"
   },
   {
    "duration": 0,
    "start_time": "2022-12-15T11:04:35.283Z"
   },
   {
    "duration": 0,
    "start_time": "2022-12-15T11:04:35.284Z"
   },
   {
    "duration": 0,
    "start_time": "2022-12-15T11:04:35.285Z"
   },
   {
    "duration": 0,
    "start_time": "2022-12-15T11:04:35.286Z"
   },
   {
    "duration": 0,
    "start_time": "2022-12-15T11:04:35.286Z"
   },
   {
    "duration": 0,
    "start_time": "2022-12-15T11:04:35.287Z"
   },
   {
    "duration": 0,
    "start_time": "2022-12-15T11:04:35.288Z"
   },
   {
    "duration": 0,
    "start_time": "2022-12-15T11:04:35.289Z"
   },
   {
    "duration": 0,
    "start_time": "2022-12-15T11:04:35.290Z"
   },
   {
    "duration": 0,
    "start_time": "2022-12-15T11:04:35.291Z"
   },
   {
    "duration": 0,
    "start_time": "2022-12-15T11:04:35.292Z"
   },
   {
    "duration": 0,
    "start_time": "2022-12-15T11:04:35.293Z"
   },
   {
    "duration": 0,
    "start_time": "2022-12-15T11:04:35.294Z"
   },
   {
    "duration": 1339,
    "start_time": "2022-12-15T11:07:21.467Z"
   },
   {
    "duration": 362,
    "start_time": "2022-12-15T11:07:22.808Z"
   },
   {
    "duration": 15,
    "start_time": "2022-12-15T11:07:23.171Z"
   },
   {
    "duration": 11,
    "start_time": "2022-12-15T11:07:23.188Z"
   },
   {
    "duration": 12,
    "start_time": "2022-12-15T11:07:23.202Z"
   },
   {
    "duration": 19,
    "start_time": "2022-12-15T11:07:23.216Z"
   },
   {
    "duration": 16,
    "start_time": "2022-12-15T11:07:23.237Z"
   },
   {
    "duration": 35,
    "start_time": "2022-12-15T11:07:23.254Z"
   },
   {
    "duration": 125,
    "start_time": "2022-12-15T11:07:23.291Z"
   },
   {
    "duration": 32,
    "start_time": "2022-12-15T11:07:23.418Z"
   },
   {
    "duration": 48,
    "start_time": "2022-12-15T11:07:23.451Z"
   },
   {
    "duration": 30,
    "start_time": "2022-12-15T11:07:23.501Z"
   },
   {
    "duration": 648,
    "start_time": "2022-12-15T11:07:23.533Z"
   },
   {
    "duration": 555,
    "start_time": "2022-12-15T11:07:24.184Z"
   },
   {
    "duration": 662,
    "start_time": "2022-12-15T11:07:24.740Z"
   },
   {
    "duration": 5,
    "start_time": "2022-12-15T11:07:25.403Z"
   },
   {
    "duration": 177,
    "start_time": "2022-12-15T11:07:25.409Z"
   },
   {
    "duration": 4,
    "start_time": "2022-12-15T11:07:25.588Z"
   },
   {
    "duration": 71,
    "start_time": "2022-12-15T11:07:25.594Z"
   },
   {
    "duration": 40,
    "start_time": "2022-12-15T11:07:25.667Z"
   },
   {
    "duration": 108,
    "start_time": "2022-12-15T11:07:25.709Z"
   },
   {
    "duration": 28,
    "start_time": "2022-12-15T11:07:25.818Z"
   },
   {
    "duration": 55,
    "start_time": "2022-12-15T11:07:25.848Z"
   },
   {
    "duration": 12,
    "start_time": "2022-12-15T11:07:25.905Z"
   },
   {
    "duration": 22,
    "start_time": "2022-12-15T11:07:25.918Z"
   },
   {
    "duration": 37,
    "start_time": "2022-12-15T11:07:25.941Z"
   },
   {
    "duration": 38,
    "start_time": "2022-12-15T11:07:25.980Z"
   },
   {
    "duration": 22,
    "start_time": "2022-12-15T11:07:26.020Z"
   },
   {
    "duration": 19,
    "start_time": "2022-12-15T11:07:26.043Z"
   },
   {
    "duration": 8,
    "start_time": "2022-12-15T11:07:26.063Z"
   },
   {
    "duration": 23,
    "start_time": "2022-12-15T11:07:26.072Z"
   },
   {
    "duration": 43,
    "start_time": "2022-12-15T11:07:26.097Z"
   },
   {
    "duration": 20,
    "start_time": "2022-12-15T11:07:26.142Z"
   },
   {
    "duration": 105,
    "start_time": "2022-12-15T11:07:26.164Z"
   },
   {
    "duration": 0,
    "start_time": "2022-12-15T11:07:26.271Z"
   },
   {
    "duration": 0,
    "start_time": "2022-12-15T11:07:26.272Z"
   },
   {
    "duration": 0,
    "start_time": "2022-12-15T11:07:26.273Z"
   },
   {
    "duration": 0,
    "start_time": "2022-12-15T11:07:26.274Z"
   },
   {
    "duration": 0,
    "start_time": "2022-12-15T11:07:26.275Z"
   },
   {
    "duration": 0,
    "start_time": "2022-12-15T11:07:26.276Z"
   },
   {
    "duration": 0,
    "start_time": "2022-12-15T11:07:26.277Z"
   },
   {
    "duration": 0,
    "start_time": "2022-12-15T11:07:26.278Z"
   },
   {
    "duration": 0,
    "start_time": "2022-12-15T11:07:26.278Z"
   },
   {
    "duration": 0,
    "start_time": "2022-12-15T11:07:26.279Z"
   },
   {
    "duration": 0,
    "start_time": "2022-12-15T11:07:26.280Z"
   },
   {
    "duration": 0,
    "start_time": "2022-12-15T11:07:26.281Z"
   },
   {
    "duration": 0,
    "start_time": "2022-12-15T11:07:26.282Z"
   },
   {
    "duration": 0,
    "start_time": "2022-12-15T11:07:26.283Z"
   },
   {
    "duration": 0,
    "start_time": "2022-12-15T11:07:26.283Z"
   },
   {
    "duration": 0,
    "start_time": "2022-12-15T11:07:26.284Z"
   },
   {
    "duration": 0,
    "start_time": "2022-12-15T11:07:26.285Z"
   },
   {
    "duration": 0,
    "start_time": "2022-12-15T11:07:26.286Z"
   },
   {
    "duration": 0,
    "start_time": "2022-12-15T11:07:26.287Z"
   },
   {
    "duration": 12,
    "start_time": "2022-12-15T11:10:20.679Z"
   },
   {
    "duration": 4,
    "start_time": "2022-12-15T11:10:25.391Z"
   },
   {
    "duration": 2,
    "start_time": "2022-12-15T11:10:25.545Z"
   },
   {
    "duration": 6,
    "start_time": "2022-12-15T11:10:26.354Z"
   },
   {
    "duration": 14,
    "start_time": "2022-12-15T11:10:26.438Z"
   },
   {
    "duration": 6,
    "start_time": "2022-12-15T11:10:26.526Z"
   },
   {
    "duration": 35,
    "start_time": "2022-12-15T11:10:26.607Z"
   },
   {
    "duration": 45,
    "start_time": "2022-12-15T11:10:27.360Z"
   },
   {
    "duration": 3,
    "start_time": "2022-12-15T11:11:31.720Z"
   },
   {
    "duration": 2,
    "start_time": "2022-12-15T11:11:32.161Z"
   },
   {
    "duration": 7,
    "start_time": "2022-12-15T11:11:33.248Z"
   },
   {
    "duration": 14,
    "start_time": "2022-12-15T11:11:33.696Z"
   },
   {
    "duration": 6,
    "start_time": "2022-12-15T11:11:34.173Z"
   },
   {
    "duration": 36,
    "start_time": "2022-12-15T11:11:35.013Z"
   },
   {
    "duration": 3,
    "start_time": "2022-12-15T11:13:19.685Z"
   },
   {
    "duration": 3,
    "start_time": "2022-12-15T11:13:19.931Z"
   },
   {
    "duration": 7,
    "start_time": "2022-12-15T11:13:20.926Z"
   },
   {
    "duration": 14,
    "start_time": "2022-12-15T11:13:24.585Z"
   },
   {
    "duration": 6,
    "start_time": "2022-12-15T11:13:24.996Z"
   },
   {
    "duration": 12,
    "start_time": "2022-12-15T11:13:25.550Z"
   },
   {
    "duration": 12,
    "start_time": "2022-12-15T11:13:26.698Z"
   },
   {
    "duration": 3,
    "start_time": "2022-12-15T11:14:00.173Z"
   },
   {
    "duration": 2,
    "start_time": "2022-12-15T11:14:00.599Z"
   },
   {
    "duration": 7,
    "start_time": "2022-12-15T11:14:01.477Z"
   },
   {
    "duration": 14,
    "start_time": "2022-12-15T11:14:01.949Z"
   },
   {
    "duration": 6,
    "start_time": "2022-12-15T11:14:02.424Z"
   },
   {
    "duration": 17,
    "start_time": "2022-12-15T11:14:03.060Z"
   },
   {
    "duration": 3,
    "start_time": "2022-12-15T11:14:15.986Z"
   },
   {
    "duration": 2,
    "start_time": "2022-12-15T11:14:16.300Z"
   },
   {
    "duration": 6,
    "start_time": "2022-12-15T11:14:16.948Z"
   },
   {
    "duration": 14,
    "start_time": "2022-12-15T11:14:17.359Z"
   },
   {
    "duration": 6,
    "start_time": "2022-12-15T11:14:17.878Z"
   },
   {
    "duration": 39,
    "start_time": "2022-12-15T11:14:18.522Z"
   },
   {
    "duration": 1340,
    "start_time": "2022-12-15T11:17:05.982Z"
   },
   {
    "duration": 343,
    "start_time": "2022-12-15T11:17:07.324Z"
   },
   {
    "duration": 17,
    "start_time": "2022-12-15T11:17:07.669Z"
   },
   {
    "duration": 9,
    "start_time": "2022-12-15T11:17:07.688Z"
   },
   {
    "duration": 11,
    "start_time": "2022-12-15T11:17:07.699Z"
   },
   {
    "duration": 17,
    "start_time": "2022-12-15T11:17:07.711Z"
   },
   {
    "duration": 13,
    "start_time": "2022-12-15T11:17:07.729Z"
   },
   {
    "duration": 40,
    "start_time": "2022-12-15T11:17:07.743Z"
   },
   {
    "duration": 133,
    "start_time": "2022-12-15T11:17:07.785Z"
   },
   {
    "duration": 36,
    "start_time": "2022-12-15T11:17:07.921Z"
   },
   {
    "duration": 51,
    "start_time": "2022-12-15T11:17:07.959Z"
   },
   {
    "duration": 35,
    "start_time": "2022-12-15T11:17:08.011Z"
   },
   {
    "duration": 594,
    "start_time": "2022-12-15T11:17:08.047Z"
   },
   {
    "duration": 564,
    "start_time": "2022-12-15T11:17:08.644Z"
   },
   {
    "duration": 663,
    "start_time": "2022-12-15T11:17:09.210Z"
   },
   {
    "duration": 5,
    "start_time": "2022-12-15T11:17:09.875Z"
   },
   {
    "duration": 151,
    "start_time": "2022-12-15T11:17:09.882Z"
   },
   {
    "duration": 5,
    "start_time": "2022-12-15T11:17:10.035Z"
   },
   {
    "duration": 58,
    "start_time": "2022-12-15T11:17:10.042Z"
   },
   {
    "duration": 40,
    "start_time": "2022-12-15T11:17:10.102Z"
   },
   {
    "duration": 123,
    "start_time": "2022-12-15T11:17:10.144Z"
   },
   {
    "duration": 31,
    "start_time": "2022-12-15T11:17:10.279Z"
   },
   {
    "duration": 66,
    "start_time": "2022-12-15T11:17:10.312Z"
   },
   {
    "duration": 15,
    "start_time": "2022-12-15T11:17:10.380Z"
   },
   {
    "duration": 15,
    "start_time": "2022-12-15T11:17:10.397Z"
   },
   {
    "duration": 15,
    "start_time": "2022-12-15T11:17:10.413Z"
   },
   {
    "duration": 8,
    "start_time": "2022-12-15T11:17:10.430Z"
   },
   {
    "duration": 39,
    "start_time": "2022-12-15T11:17:10.440Z"
   },
   {
    "duration": 10,
    "start_time": "2022-12-15T11:17:10.481Z"
   },
   {
    "duration": 13,
    "start_time": "2022-12-15T11:17:10.493Z"
   },
   {
    "duration": 19,
    "start_time": "2022-12-15T11:17:10.508Z"
   },
   {
    "duration": 6,
    "start_time": "2022-12-15T11:17:10.528Z"
   },
   {
    "duration": 24,
    "start_time": "2022-12-15T11:17:10.535Z"
   },
   {
    "duration": 30,
    "start_time": "2022-12-15T11:17:10.561Z"
   },
   {
    "duration": 3,
    "start_time": "2022-12-15T11:17:10.592Z"
   },
   {
    "duration": 81,
    "start_time": "2022-12-15T11:17:10.597Z"
   },
   {
    "duration": 113,
    "start_time": "2022-12-15T11:17:10.680Z"
   },
   {
    "duration": 107,
    "start_time": "2022-12-15T11:17:10.879Z"
   },
   {
    "duration": 226,
    "start_time": "2022-12-15T11:17:10.989Z"
   },
   {
    "duration": 2,
    "start_time": "2022-12-15T11:17:11.217Z"
   },
   {
    "duration": 7,
    "start_time": "2022-12-15T11:17:11.222Z"
   },
   {
    "duration": 11,
    "start_time": "2022-12-15T11:17:11.230Z"
   },
   {
    "duration": 10,
    "start_time": "2022-12-15T11:17:11.242Z"
   },
   {
    "duration": 36,
    "start_time": "2022-12-15T11:17:11.254Z"
   },
   {
    "duration": 28,
    "start_time": "2022-12-15T11:17:11.292Z"
   },
   {
    "duration": 2763,
    "start_time": "2022-12-15T11:17:11.322Z"
   },
   {
    "duration": 4,
    "start_time": "2022-12-15T11:17:14.087Z"
   },
   {
    "duration": 21,
    "start_time": "2022-12-15T11:17:14.093Z"
   },
   {
    "duration": 9,
    "start_time": "2022-12-15T11:17:14.116Z"
   },
   {
    "duration": 12,
    "start_time": "2022-12-15T11:17:14.128Z"
   },
   {
    "duration": 37,
    "start_time": "2022-12-15T11:17:14.142Z"
   },
   {
    "duration": 18,
    "start_time": "2022-12-15T11:19:40.447Z"
   },
   {
    "duration": 1348,
    "start_time": "2022-12-15T11:20:46.991Z"
   },
   {
    "duration": 366,
    "start_time": "2022-12-15T11:20:48.342Z"
   },
   {
    "duration": 12,
    "start_time": "2022-12-15T11:20:48.710Z"
   },
   {
    "duration": 17,
    "start_time": "2022-12-15T11:20:48.724Z"
   },
   {
    "duration": 21,
    "start_time": "2022-12-15T11:20:48.743Z"
   },
   {
    "duration": 23,
    "start_time": "2022-12-15T11:20:48.765Z"
   },
   {
    "duration": 14,
    "start_time": "2022-12-15T11:20:48.789Z"
   },
   {
    "duration": 16,
    "start_time": "2022-12-15T11:20:48.804Z"
   },
   {
    "duration": 157,
    "start_time": "2022-12-15T11:20:48.821Z"
   },
   {
    "duration": 42,
    "start_time": "2022-12-15T11:20:48.979Z"
   },
   {
    "duration": 64,
    "start_time": "2022-12-15T11:20:49.023Z"
   },
   {
    "duration": 45,
    "start_time": "2022-12-15T11:20:49.090Z"
   },
   {
    "duration": 673,
    "start_time": "2022-12-15T11:20:49.136Z"
   },
   {
    "duration": 682,
    "start_time": "2022-12-15T11:20:49.813Z"
   },
   {
    "duration": 734,
    "start_time": "2022-12-15T11:20:50.497Z"
   },
   {
    "duration": 4,
    "start_time": "2022-12-15T11:20:51.233Z"
   },
   {
    "duration": 160,
    "start_time": "2022-12-15T11:20:51.238Z"
   },
   {
    "duration": 3,
    "start_time": "2022-12-15T11:20:51.400Z"
   },
   {
    "duration": 41,
    "start_time": "2022-12-15T11:20:51.405Z"
   },
   {
    "duration": 66,
    "start_time": "2022-12-15T11:20:51.447Z"
   },
   {
    "duration": 108,
    "start_time": "2022-12-15T11:20:51.514Z"
   },
   {
    "duration": 32,
    "start_time": "2022-12-15T11:20:51.624Z"
   },
   {
    "duration": 57,
    "start_time": "2022-12-15T11:20:51.678Z"
   },
   {
    "duration": 41,
    "start_time": "2022-12-15T11:20:51.737Z"
   },
   {
    "duration": 17,
    "start_time": "2022-12-15T11:20:51.781Z"
   },
   {
    "duration": 33,
    "start_time": "2022-12-15T11:20:51.800Z"
   },
   {
    "duration": 10,
    "start_time": "2022-12-15T11:20:51.836Z"
   },
   {
    "duration": 31,
    "start_time": "2022-12-15T11:20:51.847Z"
   },
   {
    "duration": 15,
    "start_time": "2022-12-15T11:20:51.881Z"
   },
   {
    "duration": 80,
    "start_time": "2022-12-15T11:20:51.898Z"
   },
   {
    "duration": 0,
    "start_time": "2022-12-15T11:20:51.980Z"
   },
   {
    "duration": 0,
    "start_time": "2022-12-15T11:20:51.983Z"
   },
   {
    "duration": 0,
    "start_time": "2022-12-15T11:20:51.984Z"
   },
   {
    "duration": 0,
    "start_time": "2022-12-15T11:20:51.985Z"
   },
   {
    "duration": 1,
    "start_time": "2022-12-15T11:20:51.986Z"
   },
   {
    "duration": 0,
    "start_time": "2022-12-15T11:20:51.988Z"
   },
   {
    "duration": 0,
    "start_time": "2022-12-15T11:20:51.989Z"
   },
   {
    "duration": 0,
    "start_time": "2022-12-15T11:20:51.990Z"
   },
   {
    "duration": 0,
    "start_time": "2022-12-15T11:20:51.992Z"
   },
   {
    "duration": 0,
    "start_time": "2022-12-15T11:20:51.994Z"
   },
   {
    "duration": 0,
    "start_time": "2022-12-15T11:20:51.995Z"
   },
   {
    "duration": 0,
    "start_time": "2022-12-15T11:20:51.996Z"
   },
   {
    "duration": 0,
    "start_time": "2022-12-15T11:20:51.997Z"
   },
   {
    "duration": 0,
    "start_time": "2022-12-15T11:20:51.999Z"
   },
   {
    "duration": 0,
    "start_time": "2022-12-15T11:20:52.000Z"
   },
   {
    "duration": 0,
    "start_time": "2022-12-15T11:20:52.002Z"
   },
   {
    "duration": 0,
    "start_time": "2022-12-15T11:20:52.004Z"
   },
   {
    "duration": 0,
    "start_time": "2022-12-15T11:20:52.005Z"
   },
   {
    "duration": 0,
    "start_time": "2022-12-15T11:20:52.006Z"
   },
   {
    "duration": 0,
    "start_time": "2022-12-15T11:20:52.008Z"
   },
   {
    "duration": 0,
    "start_time": "2022-12-15T11:20:52.009Z"
   },
   {
    "duration": 0,
    "start_time": "2022-12-15T11:20:52.011Z"
   },
   {
    "duration": 22,
    "start_time": "2022-12-15T11:21:23.680Z"
   },
   {
    "duration": 13,
    "start_time": "2022-12-15T11:21:24.870Z"
   },
   {
    "duration": 22,
    "start_time": "2022-12-15T11:22:45.458Z"
   },
   {
    "duration": 5,
    "start_time": "2022-12-15T11:23:27.726Z"
   },
   {
    "duration": 15,
    "start_time": "2022-12-15T11:23:29.968Z"
   },
   {
    "duration": 5,
    "start_time": "2022-12-15T11:23:35.103Z"
   },
   {
    "duration": 1368,
    "start_time": "2022-12-15T11:23:54.069Z"
   },
   {
    "duration": 366,
    "start_time": "2022-12-15T11:23:55.439Z"
   },
   {
    "duration": 13,
    "start_time": "2022-12-15T11:23:55.807Z"
   },
   {
    "duration": 9,
    "start_time": "2022-12-15T11:23:55.821Z"
   },
   {
    "duration": 13,
    "start_time": "2022-12-15T11:23:55.832Z"
   },
   {
    "duration": 32,
    "start_time": "2022-12-15T11:23:55.847Z"
   },
   {
    "duration": 14,
    "start_time": "2022-12-15T11:23:55.880Z"
   },
   {
    "duration": 13,
    "start_time": "2022-12-15T11:23:55.896Z"
   },
   {
    "duration": 150,
    "start_time": "2022-12-15T11:23:55.912Z"
   },
   {
    "duration": 49,
    "start_time": "2022-12-15T11:23:56.063Z"
   },
   {
    "duration": 35,
    "start_time": "2022-12-15T11:23:56.113Z"
   },
   {
    "duration": 56,
    "start_time": "2022-12-15T11:23:56.149Z"
   },
   {
    "duration": 599,
    "start_time": "2022-12-15T11:23:56.207Z"
   },
   {
    "duration": 652,
    "start_time": "2022-12-15T11:23:56.809Z"
   },
   {
    "duration": 690,
    "start_time": "2022-12-15T11:23:57.463Z"
   },
   {
    "duration": 6,
    "start_time": "2022-12-15T11:23:58.155Z"
   },
   {
    "duration": 168,
    "start_time": "2022-12-15T11:23:58.162Z"
   },
   {
    "duration": 4,
    "start_time": "2022-12-15T11:23:58.332Z"
   },
   {
    "duration": 51,
    "start_time": "2022-12-15T11:23:58.338Z"
   },
   {
    "duration": 37,
    "start_time": "2022-12-15T11:23:58.392Z"
   },
   {
    "duration": 112,
    "start_time": "2022-12-15T11:23:58.431Z"
   },
   {
    "duration": 41,
    "start_time": "2022-12-15T11:23:58.544Z"
   },
   {
    "duration": 35,
    "start_time": "2022-12-15T11:23:58.586Z"
   },
   {
    "duration": 13,
    "start_time": "2022-12-15T11:23:58.622Z"
   },
   {
    "duration": 48,
    "start_time": "2022-12-15T11:23:58.637Z"
   },
   {
    "duration": 13,
    "start_time": "2022-12-15T11:23:58.687Z"
   },
   {
    "duration": 7,
    "start_time": "2022-12-15T11:23:58.702Z"
   },
   {
    "duration": 8,
    "start_time": "2022-12-15T11:23:58.711Z"
   },
   {
    "duration": 11,
    "start_time": "2022-12-15T11:23:58.720Z"
   },
   {
    "duration": 45,
    "start_time": "2022-12-15T11:23:58.733Z"
   },
   {
    "duration": 5,
    "start_time": "2022-12-15T11:23:58.779Z"
   },
   {
    "duration": 9,
    "start_time": "2022-12-15T11:23:58.786Z"
   },
   {
    "duration": 19,
    "start_time": "2022-12-15T11:23:58.796Z"
   },
   {
    "duration": 10,
    "start_time": "2022-12-15T11:23:58.816Z"
   },
   {
    "duration": 16,
    "start_time": "2022-12-15T11:23:58.827Z"
   },
   {
    "duration": 40,
    "start_time": "2022-12-15T11:23:58.845Z"
   },
   {
    "duration": 3,
    "start_time": "2022-12-15T11:23:58.886Z"
   },
   {
    "duration": 90,
    "start_time": "2022-12-15T11:23:58.890Z"
   },
   {
    "duration": 105,
    "start_time": "2022-12-15T11:23:58.983Z"
   },
   {
    "duration": 195,
    "start_time": "2022-12-15T11:23:59.091Z"
   },
   {
    "duration": 211,
    "start_time": "2022-12-15T11:23:59.292Z"
   },
   {
    "duration": 2,
    "start_time": "2022-12-15T11:23:59.505Z"
   },
   {
    "duration": 7,
    "start_time": "2022-12-15T11:23:59.509Z"
   },
   {
    "duration": 16,
    "start_time": "2022-12-15T11:23:59.517Z"
   },
   {
    "duration": 7,
    "start_time": "2022-12-15T11:23:59.534Z"
   },
   {
    "duration": 45,
    "start_time": "2022-12-15T11:23:59.543Z"
   },
   {
    "duration": 4,
    "start_time": "2022-12-15T11:23:59.590Z"
   },
   {
    "duration": 2824,
    "start_time": "2022-12-15T11:23:59.595Z"
   },
   {
    "duration": 4,
    "start_time": "2022-12-15T11:24:02.421Z"
   },
   {
    "duration": 32,
    "start_time": "2022-12-15T11:24:02.427Z"
   },
   {
    "duration": 29,
    "start_time": "2022-12-15T11:24:02.461Z"
   },
   {
    "duration": 10,
    "start_time": "2022-12-15T11:24:02.492Z"
   },
   {
    "duration": 20,
    "start_time": "2022-12-15T11:24:02.504Z"
   },
   {
    "duration": 1380,
    "start_time": "2022-12-15T11:25:52.908Z"
   },
   {
    "duration": 368,
    "start_time": "2022-12-15T11:25:54.290Z"
   },
   {
    "duration": 18,
    "start_time": "2022-12-15T11:25:54.660Z"
   },
   {
    "duration": 9,
    "start_time": "2022-12-15T11:25:54.680Z"
   },
   {
    "duration": 12,
    "start_time": "2022-12-15T11:25:54.691Z"
   },
   {
    "duration": 21,
    "start_time": "2022-12-15T11:25:54.704Z"
   },
   {
    "duration": 16,
    "start_time": "2022-12-15T11:25:54.726Z"
   },
   {
    "duration": 42,
    "start_time": "2022-12-15T11:25:54.743Z"
   },
   {
    "duration": 129,
    "start_time": "2022-12-15T11:25:54.786Z"
   },
   {
    "duration": 37,
    "start_time": "2022-12-15T11:25:54.916Z"
   },
   {
    "duration": 48,
    "start_time": "2022-12-15T11:25:54.954Z"
   },
   {
    "duration": 40,
    "start_time": "2022-12-15T11:25:55.004Z"
   },
   {
    "duration": 642,
    "start_time": "2022-12-15T11:25:55.046Z"
   },
   {
    "duration": 576,
    "start_time": "2022-12-15T11:25:55.692Z"
   },
   {
    "duration": 667,
    "start_time": "2022-12-15T11:25:56.270Z"
   },
   {
    "duration": 4,
    "start_time": "2022-12-15T11:25:56.939Z"
   },
   {
    "duration": 167,
    "start_time": "2022-12-15T11:25:56.944Z"
   },
   {
    "duration": 3,
    "start_time": "2022-12-15T11:25:57.113Z"
   },
   {
    "duration": 49,
    "start_time": "2022-12-15T11:25:57.118Z"
   },
   {
    "duration": 37,
    "start_time": "2022-12-15T11:25:57.178Z"
   },
   {
    "duration": 110,
    "start_time": "2022-12-15T11:25:57.217Z"
   },
   {
    "duration": 31,
    "start_time": "2022-12-15T11:25:57.328Z"
   },
   {
    "duration": 37,
    "start_time": "2022-12-15T11:25:57.377Z"
   },
   {
    "duration": 13,
    "start_time": "2022-12-15T11:25:57.416Z"
   },
   {
    "duration": 43,
    "start_time": "2022-12-15T11:25:57.430Z"
   },
   {
    "duration": 17,
    "start_time": "2022-12-15T11:25:57.478Z"
   },
   {
    "duration": 16,
    "start_time": "2022-12-15T11:25:57.497Z"
   },
   {
    "duration": 5,
    "start_time": "2022-12-15T11:25:57.515Z"
   },
   {
    "duration": 8,
    "start_time": "2022-12-15T11:25:57.522Z"
   },
   {
    "duration": 24,
    "start_time": "2022-12-15T11:25:57.532Z"
   },
   {
    "duration": 6,
    "start_time": "2022-12-15T11:25:57.578Z"
   },
   {
    "duration": 33,
    "start_time": "2022-12-15T11:25:57.586Z"
   },
   {
    "duration": 3,
    "start_time": "2022-12-15T11:25:57.620Z"
   },
   {
    "duration": 61,
    "start_time": "2022-12-15T11:25:57.624Z"
   },
   {
    "duration": 105,
    "start_time": "2022-12-15T11:25:57.687Z"
   },
   {
    "duration": 115,
    "start_time": "2022-12-15T11:25:57.881Z"
   },
   {
    "duration": 210,
    "start_time": "2022-12-15T11:25:57.998Z"
   },
   {
    "duration": 3,
    "start_time": "2022-12-15T11:25:58.210Z"
   },
   {
    "duration": 7,
    "start_time": "2022-12-15T11:25:58.214Z"
   },
   {
    "duration": 10,
    "start_time": "2022-12-15T11:25:58.222Z"
   },
   {
    "duration": 4,
    "start_time": "2022-12-15T11:25:58.235Z"
   },
   {
    "duration": 45,
    "start_time": "2022-12-15T11:25:58.240Z"
   },
   {
    "duration": 5,
    "start_time": "2022-12-15T11:25:58.287Z"
   },
   {
    "duration": 2832,
    "start_time": "2022-12-15T11:25:58.294Z"
   },
   {
    "duration": 3,
    "start_time": "2022-12-15T11:26:01.128Z"
   },
   {
    "duration": 18,
    "start_time": "2022-12-15T11:26:01.134Z"
   },
   {
    "duration": 20,
    "start_time": "2022-12-15T11:26:01.154Z"
   },
   {
    "duration": 7,
    "start_time": "2022-12-15T11:26:01.177Z"
   },
   {
    "duration": 25,
    "start_time": "2022-12-15T11:26:01.185Z"
   }
  ],
  "kernelspec": {
   "display_name": "Python 3 (ipykernel)",
   "language": "python",
   "name": "python3"
  },
  "language_info": {
   "codemirror_mode": {
    "name": "ipython",
    "version": 3
   },
   "file_extension": ".py",
   "mimetype": "text/x-python",
   "name": "python",
   "nbconvert_exporter": "python",
   "pygments_lexer": "ipython3",
   "version": "3.11.2"
  },
  "toc": {
   "base_numbering": 1,
   "nav_menu": {},
   "number_sections": true,
   "sideBar": true,
   "skip_h1_title": true,
   "title_cell": "Table of Contents",
   "title_sidebar": "Contents",
   "toc_cell": false,
   "toc_position": {},
   "toc_section_display": true,
   "toc_window_display": true
  }
 },
 "nbformat": 4,
 "nbformat_minor": 2
}
